{
 "cells": [
  {
   "cell_type": "code",
   "execution_count": 9,
   "id": "bdf0ee30-791a-4605-8e69-e0e43f5bee03",
   "metadata": {
    "tags": []
   },
   "outputs": [
    {
     "name": "stderr",
     "output_type": "stream",
     "text": [
      "C:\\Users\\julia\\miniconda3\\envs\\pyjuliana\\lib\\site-packages\\statsmodels\\tsa\\base\\tsa_model.py:471: ValueWarning: An unsupported index was provided and will be ignored when e.g. forecasting.\n",
      "  self._init_dates(dates, freq)\n",
      "C:\\Users\\julia\\miniconda3\\envs\\pyjuliana\\lib\\site-packages\\statsmodels\\tsa\\base\\tsa_model.py:471: ValueWarning: An unsupported index was provided and will be ignored when e.g. forecasting.\n",
      "  self._init_dates(dates, freq)\n",
      "C:\\Users\\julia\\miniconda3\\envs\\pyjuliana\\lib\\site-packages\\statsmodels\\tsa\\base\\tsa_model.py:471: ValueWarning: An unsupported index was provided and will be ignored when e.g. forecasting.\n",
      "  self._init_dates(dates, freq)\n",
      "C:\\Users\\julia\\miniconda3\\envs\\pyjuliana\\lib\\site-packages\\statsmodels\\tsa\\base\\tsa_model.py:471: ValueWarning: An unsupported index was provided and will be ignored when e.g. forecasting.\n",
      "  self._init_dates(dates, freq)\n",
      "C:\\Users\\julia\\miniconda3\\envs\\pyjuliana\\lib\\site-packages\\statsmodels\\tsa\\base\\tsa_model.py:471: ValueWarning: An unsupported index was provided and will be ignored when e.g. forecasting.\n",
      "  self._init_dates(dates, freq)\n",
      "C:\\Users\\julia\\miniconda3\\envs\\pyjuliana\\lib\\site-packages\\statsmodels\\tsa\\base\\tsa_model.py:471: ValueWarning: An unsupported index was provided and will be ignored when e.g. forecasting.\n",
      "  self._init_dates(dates, freq)\n",
      "C:\\Users\\julia\\miniconda3\\envs\\pyjuliana\\lib\\site-packages\\statsmodels\\tsa\\base\\tsa_model.py:471: ValueWarning: An unsupported index was provided and will be ignored when e.g. forecasting.\n",
      "  self._init_dates(dates, freq)\n",
      "C:\\Users\\julia\\miniconda3\\envs\\pyjuliana\\lib\\site-packages\\statsmodels\\tsa\\base\\tsa_model.py:471: ValueWarning: An unsupported index was provided and will be ignored when e.g. forecasting.\n",
      "  self._init_dates(dates, freq)\n",
      "C:\\Users\\julia\\miniconda3\\envs\\pyjuliana\\lib\\site-packages\\statsmodels\\tsa\\base\\tsa_model.py:471: ValueWarning: An unsupported index was provided and will be ignored when e.g. forecasting.\n",
      "  self._init_dates(dates, freq)\n",
      "C:\\Users\\julia\\miniconda3\\envs\\pyjuliana\\lib\\site-packages\\statsmodels\\tsa\\base\\tsa_model.py:834: ValueWarning: No supported index is available. Prediction results will be given with an integer index beginning at `start`.\n",
      "  return get_prediction_index(\n",
      "C:\\Users\\julia\\miniconda3\\envs\\pyjuliana\\lib\\site-packages\\statsmodels\\tsa\\base\\tsa_model.py:834: ValueWarning: No supported index is available. Prediction results will be given with an integer index beginning at `start`.\n",
      "  return get_prediction_index(\n",
      "C:\\Users\\julia\\miniconda3\\envs\\pyjuliana\\lib\\site-packages\\statsmodels\\tsa\\base\\tsa_model.py:834: ValueWarning: No supported index is available. Prediction results will be given with an integer index beginning at `start`.\n",
      "  return get_prediction_index(\n"
     ]
    },
    {
     "name": "stdout",
     "output_type": "stream",
     "text": [
      "User A predictions for the next year:\n"
     ]
    },
    {
     "name": "stderr",
     "output_type": "stream",
     "text": [
      "C:\\Users\\julia\\miniconda3\\envs\\pyjuliana\\lib\\site-packages\\statsmodels\\tsa\\base\\tsa_model.py:834: ValueWarning: No supported index is available. Prediction results will be given with an integer index beginning at `start`.\n",
      "  return get_prediction_index(\n",
      "C:\\Users\\julia\\miniconda3\\envs\\pyjuliana\\lib\\site-packages\\statsmodels\\tsa\\base\\tsa_model.py:834: ValueWarning: No supported index is available. Prediction results will be given with an integer index beginning at `start`.\n",
      "  return get_prediction_index(\n",
      "C:\\Users\\julia\\miniconda3\\envs\\pyjuliana\\lib\\site-packages\\statsmodels\\tsa\\base\\tsa_model.py:834: ValueWarning: No supported index is available. Prediction results will be given with an integer index beginning at `start`.\n",
      "  return get_prediction_index(\n"
     ]
    }
   ],
   "source": [
    "import pandas as pd\n",
    "import numpy as np\n",
    "import random\n",
    "from statsmodels.tsa.arima.model import ARIMA\n",
    "\n",
    "# Define the users and types of waste\n",
    "users = ['User_A', 'User_B', 'User_C', 'User_D']\n",
    "waste_types = ['Paper', 'Plastic', 'Bio', 'Other']\n",
    "\n",
    "# Define the products that can be scanned and their waste type\n",
    "products = {'Banana peel': 'Bio',\n",
    "            'Orange': 'Bio',\n",
    "            'Glass bottle': 'Plastic',\n",
    "            'Cartboard': 'Paper',\n",
    "            'Paper': 'Paper',\n",
    "            'Smartphone': 'Other',\n",
    "            'Plastic packaging': 'Plastic'}\n",
    "\n",
    "# Define the number of days\n",
    "num_days = 90\n",
    "\n",
    "# Generate the data\n",
    "data = []\n",
    "for user in users:\n",
    "    for day in range(num_days):\n",
    "        num_scans = random.randint(2, 10) # random number of scans per day\n",
    "        for scan in range(num_scans):\n",
    "            product = random.choice(list(products.keys()))\n",
    "            waste_type = products[product]\n",
    "            data.append([user, day+1, product, waste_type])\n",
    "\n",
    "# Create the data frame\n",
    "users_data = pd.DataFrame(data, columns=['Users', 'Day', 'Product', 'Waste Type'])\n",
    "\n",
    "# Group the data by user and date, and count the number of scans\n",
    "grouped_data = users_data.groupby(['Users', 'Day']).size().reset_index(name='Scan')\n",
    "\n",
    "\n",
    "# Create a separate data frame for each user\n",
    "user_a_data = grouped_data[grouped_data['Users'] == 'User_A']\n",
    "user_b_data = grouped_data[grouped_data['Users'] == 'User_B']\n",
    "user_c_data = grouped_data[grouped_data['Users'] == 'User_C']\n",
    "user_d_data = grouped_data[grouped_data['Users'] == 'User_D']\n",
    "\n",
    "\n",
    "\n",
    "# Train an ARIMA model for each user\n",
    "user_a_model = ARIMA(user_a_data['Scan'], order=(2, 1, 0)).fit()\n",
    "user_b_model = ARIMA(user_b_data['Scan'], order=(2, 1, 0)).fit()\n",
    "user_c_model = ARIMA(user_c_data['Scan'], order=(2, 1, 0)).fit()\n",
    "user_d_model = ARIMA(user_d_data['Scan'], order=(2, 1, 0)).fit()\n",
    "\n",
    "# Make predictions for the next year for each user\n",
    "user_a_predictions = user_a_model.predict(start=len(user_a_data), end=len(user_a_data)+364)\n",
    "user_b_predictions = user_b_model.predict(start=len(user_b_data), end=len(user_b_data)+364)\n",
    "user_c_predictions = user_c_model.predict(start=len(user_c_data), end=len(user_c_data)+364)\n",
    "user_d_predictions = user_d_model.predict(start=len(user_d_data), end=len(user_d_data)+364)\n",
    "\n",
    "# Make predictions for the next month for each user\n",
    "user_a_next_month_prediction = user_a_model.predict(start=len(user_a_data), end=len(user_a_data)+29)\n",
    "user_b_next_month_prediction = user_b_model.predict(start=len(user_b_data), end=len(user_b_data)+29)\n",
    "user_c_next_month_prediction = user_c_model.predict(start=len(user_c_data), end=len(user_c_data)+29)\n",
    "user_d_next_month_prediction = user_d_model.predict(start=len(user_d_data), end=len(user_d_data)+29)\n",
    "\n",
    "# Print the predictions\n",
    "print('User A predictions for the next year:')"
   ]
  },
  {
   "cell_type": "code",
   "execution_count": null,
   "id": "62596298-f18d-4690-82fc-190e122cffba",
   "metadata": {},
   "outputs": [],
   "source": [
    "import warnings\n",
    "\n",
    "with warnings.catch_warnings():\n",
    "    warnings.filterwarnings(\"ignore\")\n"
   ]
  }
 ],
 "metadata": {
  "kernelspec": {
   "display_name": "Python 3 (ipykernel)",
   "language": "python",
   "name": "python3"
  },
  "language_info": {
   "codemirror_mode": {
    "name": "ipython",
    "version": 3
   },
   "file_extension": ".py",
   "mimetype": "text/x-python",
   "name": "python",
   "nbconvert_exporter": "python",
   "pygments_lexer": "ipython3",
   "version": "3.9.16"
  }
 },
 "nbformat": 4,
 "nbformat_minor": 5
}
