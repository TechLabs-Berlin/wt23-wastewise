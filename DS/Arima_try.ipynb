{
 "cells": [
  {
   "cell_type": "code",
   "execution_count": 3,
   "id": "255ee13e-6c8b-4b87-bcf3-f134148abda0",
   "metadata": {
    "tags": []
   },
   "outputs": [],
   "source": [
    "import pandas as pd\n",
    "import random"
   ]
  },
  {
   "cell_type": "code",
   "execution_count": 5,
   "id": "a684a952-08ae-430d-bb37-a32fd36c2474",
   "metadata": {
    "tags": []
   },
   "outputs": [
    {
     "name": "stdout",
     "output_type": "stream",
     "text": [
      "     User  Day            Product Waste Type\n",
      "0  User_A    1         Smartphone      Other\n",
      "1  User_A    1              Paper      Paper\n",
      "2  User_A    2        Banana peel        Bio\n",
      "3  User_A    2          Cartboard      Paper\n",
      "4  User_A    2          Cartboard      Paper\n",
      "5  User_A    2  Plastic packaging    Plastic\n",
      "6  User_A    2             Orange        Bio\n",
      "7  User_A    3             Orange        Bio\n",
      "8  User_A    3        Banana peel        Bio\n",
      "9  User_A    3         Smartphone      Other\n"
     ]
    }
   ],
   "source": [
    "#creating a random data set \n",
    "\n",
    "# Define the users and types of waste\n",
    "users = ['User_A', 'User_B', 'User_C', 'User_D']\n",
    "waste_types = ['Paper', 'Plastic', 'Bio', 'Other']\n",
    "\n",
    "# Define the products that can be scanned and their waste type\n",
    "products = {'Banana peel': 'Bio',\n",
    "            'Orange': 'Bio',\n",
    "            'Glass bottle': 'Plastic',\n",
    "            'Cartboard': 'Paper',\n",
    "            'Paper': 'Paper',\n",
    "            'Smartphone': 'Other',\n",
    "            'Plastic packaging': 'Plastic'}\n",
    "\n",
    "# Define the number of days\n",
    "num_days = 90\n",
    "\n",
    "# Generate the data\n",
    "data = []\n",
    "for user in users:\n",
    "    for day in range(num_days):\n",
    "        num_scans = random.randint(2, 10) # random number of scans per day\n",
    "        for scan in range(num_scans):\n",
    "            product = random.choice(list(products.keys()))\n",
    "            waste_type = products[product]\n",
    "            data.append([user, day+1, product, waste_type])\n",
    "\n",
    "# Create the data frame\n",
    "users_data = pd.DataFrame(data, columns=['User', 'Day', 'Product', 'Waste Type'])\n",
    "\n",
    "\n",
    "print(users_data.head(10))"
   ]
  },
  {
   "cell_type": "code",
   "execution_count": 6,
   "id": "e50f02ea-27b1-4e94-91b8-eeb7b2ec405e",
   "metadata": {
    "tags": []
   },
   "outputs": [
    {
     "data": {
      "text/html": [
       "<div>\n",
       "<style scoped>\n",
       "    .dataframe tbody tr th:only-of-type {\n",
       "        vertical-align: middle;\n",
       "    }\n",
       "\n",
       "    .dataframe tbody tr th {\n",
       "        vertical-align: top;\n",
       "    }\n",
       "\n",
       "    .dataframe thead th {\n",
       "        text-align: right;\n",
       "    }\n",
       "</style>\n",
       "<table border=\"1\" class=\"dataframe\">\n",
       "  <thead>\n",
       "    <tr style=\"text-align: right;\">\n",
       "      <th></th>\n",
       "      <th>User</th>\n",
       "      <th>Day</th>\n",
       "      <th>Product</th>\n",
       "      <th>Waste Type</th>\n",
       "    </tr>\n",
       "  </thead>\n",
       "  <tbody>\n",
       "    <tr>\n",
       "      <th>0</th>\n",
       "      <td>User_A</td>\n",
       "      <td>1</td>\n",
       "      <td>Smartphone</td>\n",
       "      <td>Other</td>\n",
       "    </tr>\n",
       "    <tr>\n",
       "      <th>1</th>\n",
       "      <td>User_A</td>\n",
       "      <td>1</td>\n",
       "      <td>Paper</td>\n",
       "      <td>Paper</td>\n",
       "    </tr>\n",
       "    <tr>\n",
       "      <th>2</th>\n",
       "      <td>User_A</td>\n",
       "      <td>2</td>\n",
       "      <td>Banana peel</td>\n",
       "      <td>Bio</td>\n",
       "    </tr>\n",
       "    <tr>\n",
       "      <th>3</th>\n",
       "      <td>User_A</td>\n",
       "      <td>2</td>\n",
       "      <td>Cartboard</td>\n",
       "      <td>Paper</td>\n",
       "    </tr>\n",
       "    <tr>\n",
       "      <th>4</th>\n",
       "      <td>User_A</td>\n",
       "      <td>2</td>\n",
       "      <td>Cartboard</td>\n",
       "      <td>Paper</td>\n",
       "    </tr>\n",
       "    <tr>\n",
       "      <th>5</th>\n",
       "      <td>User_A</td>\n",
       "      <td>2</td>\n",
       "      <td>Plastic packaging</td>\n",
       "      <td>Plastic</td>\n",
       "    </tr>\n",
       "    <tr>\n",
       "      <th>6</th>\n",
       "      <td>User_A</td>\n",
       "      <td>2</td>\n",
       "      <td>Orange</td>\n",
       "      <td>Bio</td>\n",
       "    </tr>\n",
       "    <tr>\n",
       "      <th>7</th>\n",
       "      <td>User_A</td>\n",
       "      <td>3</td>\n",
       "      <td>Orange</td>\n",
       "      <td>Bio</td>\n",
       "    </tr>\n",
       "    <tr>\n",
       "      <th>8</th>\n",
       "      <td>User_A</td>\n",
       "      <td>3</td>\n",
       "      <td>Banana peel</td>\n",
       "      <td>Bio</td>\n",
       "    </tr>\n",
       "    <tr>\n",
       "      <th>9</th>\n",
       "      <td>User_A</td>\n",
       "      <td>3</td>\n",
       "      <td>Smartphone</td>\n",
       "      <td>Other</td>\n",
       "    </tr>\n",
       "  </tbody>\n",
       "</table>\n",
       "</div>"
      ],
      "text/plain": [
       "     User  Day            Product Waste Type\n",
       "0  User_A    1         Smartphone      Other\n",
       "1  User_A    1              Paper      Paper\n",
       "2  User_A    2        Banana peel        Bio\n",
       "3  User_A    2          Cartboard      Paper\n",
       "4  User_A    2          Cartboard      Paper\n",
       "5  User_A    2  Plastic packaging    Plastic\n",
       "6  User_A    2             Orange        Bio\n",
       "7  User_A    3             Orange        Bio\n",
       "8  User_A    3        Banana peel        Bio\n",
       "9  User_A    3         Smartphone      Other"
      ]
     },
     "execution_count": 6,
     "metadata": {},
     "output_type": "execute_result"
    }
   ],
   "source": [
    "users_data.head(10)"
   ]
  },
  {
   "cell_type": "code",
   "execution_count": 12,
   "id": "4d45ac10-c8db-4568-a8a6-b40db5fa4a5f",
   "metadata": {
    "tags": []
   },
   "outputs": [],
   "source": [
    "users_data.to_csv(\"users_data.csv\")"
   ]
  },
  {
   "cell_type": "code",
   "execution_count": 4,
   "id": "de1d43e8-2fea-4810-a476-41aab7f5f1e2",
   "metadata": {
    "tags": []
   },
   "outputs": [],
   "source": [
    "from statsmodels.tsa.arima.model import ARIMA"
   ]
  },
  {
   "cell_type": "code",
   "execution_count": 16,
   "id": "84ede70b-b44a-4d00-864c-d97795270cda",
   "metadata": {
    "tags": []
   },
   "outputs": [
    {
     "ename": "KeyError",
     "evalue": "'User_A'",
     "output_type": "error",
     "traceback": [
      "\u001b[1;31m---------------------------------------------------------------------------\u001b[0m",
      "\u001b[1;31mKeyError\u001b[0m                                  Traceback (most recent call last)",
      "File \u001b[1;32m~\\miniconda3\\envs\\pyjuliana\\lib\\site-packages\\pandas\\core\\indexes\\base.py:3802\u001b[0m, in \u001b[0;36mIndex.get_loc\u001b[1;34m(self, key, method, tolerance)\u001b[0m\n\u001b[0;32m   3801\u001b[0m \u001b[38;5;28;01mtry\u001b[39;00m:\n\u001b[1;32m-> 3802\u001b[0m     \u001b[38;5;28;01mreturn\u001b[39;00m \u001b[38;5;28;43mself\u001b[39;49m\u001b[38;5;241;43m.\u001b[39;49m\u001b[43m_engine\u001b[49m\u001b[38;5;241;43m.\u001b[39;49m\u001b[43mget_loc\u001b[49m\u001b[43m(\u001b[49m\u001b[43mcasted_key\u001b[49m\u001b[43m)\u001b[49m\n\u001b[0;32m   3803\u001b[0m \u001b[38;5;28;01mexcept\u001b[39;00m \u001b[38;5;167;01mKeyError\u001b[39;00m \u001b[38;5;28;01mas\u001b[39;00m err:\n",
      "File \u001b[1;32m~\\miniconda3\\envs\\pyjuliana\\lib\\site-packages\\pandas\\_libs\\index.pyx:138\u001b[0m, in \u001b[0;36mpandas._libs.index.IndexEngine.get_loc\u001b[1;34m()\u001b[0m\n",
      "File \u001b[1;32m~\\miniconda3\\envs\\pyjuliana\\lib\\site-packages\\pandas\\_libs\\index.pyx:165\u001b[0m, in \u001b[0;36mpandas._libs.index.IndexEngine.get_loc\u001b[1;34m()\u001b[0m\n",
      "File \u001b[1;32mpandas\\_libs\\hashtable_class_helper.pxi:5745\u001b[0m, in \u001b[0;36mpandas._libs.hashtable.PyObjectHashTable.get_item\u001b[1;34m()\u001b[0m\n",
      "File \u001b[1;32mpandas\\_libs\\hashtable_class_helper.pxi:5753\u001b[0m, in \u001b[0;36mpandas._libs.hashtable.PyObjectHashTable.get_item\u001b[1;34m()\u001b[0m\n",
      "\u001b[1;31mKeyError\u001b[0m: 'User_A'",
      "\nThe above exception was the direct cause of the following exception:\n",
      "\u001b[1;31mKeyError\u001b[0m                                  Traceback (most recent call last)",
      "Cell \u001b[1;32mIn[16], line 10\u001b[0m\n\u001b[0;32m      7\u001b[0m df\u001b[38;5;241m.\u001b[39mdrop(\u001b[38;5;124m'\u001b[39m\u001b[38;5;124mDay\u001b[39m\u001b[38;5;124m'\u001b[39m, axis\u001b[38;5;241m=\u001b[39m\u001b[38;5;241m1\u001b[39m, inplace\u001b[38;5;241m=\u001b[39m\u001b[38;5;28;01mTrue\u001b[39;00m)\n\u001b[0;32m      9\u001b[0m \u001b[38;5;66;03m# Train the ARIMA model\u001b[39;00m\n\u001b[1;32m---> 10\u001b[0m model \u001b[38;5;241m=\u001b[39m ARIMA(\u001b[43mdf\u001b[49m\u001b[43m[\u001b[49m\u001b[38;5;124;43m'\u001b[39;49m\u001b[38;5;124;43mUser_A\u001b[39;49m\u001b[38;5;124;43m'\u001b[39;49m\u001b[43m]\u001b[49m, order\u001b[38;5;241m=\u001b[39m(\u001b[38;5;241m1\u001b[39m, \u001b[38;5;241m1\u001b[39m, \u001b[38;5;241m1\u001b[39m))\n\u001b[0;32m     11\u001b[0m model_fit \u001b[38;5;241m=\u001b[39m model\u001b[38;5;241m.\u001b[39mfit()\n\u001b[0;32m     13\u001b[0m \u001b[38;5;66;03m# Make predictions for one year and one month from now\u001b[39;00m\n",
      "File \u001b[1;32m~\\miniconda3\\envs\\pyjuliana\\lib\\site-packages\\pandas\\core\\frame.py:3807\u001b[0m, in \u001b[0;36mDataFrame.__getitem__\u001b[1;34m(self, key)\u001b[0m\n\u001b[0;32m   3805\u001b[0m \u001b[38;5;28;01mif\u001b[39;00m \u001b[38;5;28mself\u001b[39m\u001b[38;5;241m.\u001b[39mcolumns\u001b[38;5;241m.\u001b[39mnlevels \u001b[38;5;241m>\u001b[39m \u001b[38;5;241m1\u001b[39m:\n\u001b[0;32m   3806\u001b[0m     \u001b[38;5;28;01mreturn\u001b[39;00m \u001b[38;5;28mself\u001b[39m\u001b[38;5;241m.\u001b[39m_getitem_multilevel(key)\n\u001b[1;32m-> 3807\u001b[0m indexer \u001b[38;5;241m=\u001b[39m \u001b[38;5;28;43mself\u001b[39;49m\u001b[38;5;241;43m.\u001b[39;49m\u001b[43mcolumns\u001b[49m\u001b[38;5;241;43m.\u001b[39;49m\u001b[43mget_loc\u001b[49m\u001b[43m(\u001b[49m\u001b[43mkey\u001b[49m\u001b[43m)\u001b[49m\n\u001b[0;32m   3808\u001b[0m \u001b[38;5;28;01mif\u001b[39;00m is_integer(indexer):\n\u001b[0;32m   3809\u001b[0m     indexer \u001b[38;5;241m=\u001b[39m [indexer]\n",
      "File \u001b[1;32m~\\miniconda3\\envs\\pyjuliana\\lib\\site-packages\\pandas\\core\\indexes\\base.py:3804\u001b[0m, in \u001b[0;36mIndex.get_loc\u001b[1;34m(self, key, method, tolerance)\u001b[0m\n\u001b[0;32m   3802\u001b[0m     \u001b[38;5;28;01mreturn\u001b[39;00m \u001b[38;5;28mself\u001b[39m\u001b[38;5;241m.\u001b[39m_engine\u001b[38;5;241m.\u001b[39mget_loc(casted_key)\n\u001b[0;32m   3803\u001b[0m \u001b[38;5;28;01mexcept\u001b[39;00m \u001b[38;5;167;01mKeyError\u001b[39;00m \u001b[38;5;28;01mas\u001b[39;00m err:\n\u001b[1;32m-> 3804\u001b[0m     \u001b[38;5;28;01mraise\u001b[39;00m \u001b[38;5;167;01mKeyError\u001b[39;00m(key) \u001b[38;5;28;01mfrom\u001b[39;00m \u001b[38;5;21;01merr\u001b[39;00m\n\u001b[0;32m   3805\u001b[0m \u001b[38;5;28;01mexcept\u001b[39;00m \u001b[38;5;167;01mTypeError\u001b[39;00m:\n\u001b[0;32m   3806\u001b[0m     \u001b[38;5;66;03m# If we have a listlike key, _check_indexing_error will raise\u001b[39;00m\n\u001b[0;32m   3807\u001b[0m     \u001b[38;5;66;03m#  InvalidIndexError. Otherwise we fall through and re-raise\u001b[39;00m\n\u001b[0;32m   3808\u001b[0m     \u001b[38;5;66;03m#  the TypeError.\u001b[39;00m\n\u001b[0;32m   3809\u001b[0m     \u001b[38;5;28mself\u001b[39m\u001b[38;5;241m.\u001b[39m_check_indexing_error(key)\n",
      "\u001b[1;31mKeyError\u001b[0m: 'User_A'"
     ]
    }
   ],
   "source": [
    "# Load the data frame\n",
    "# Trying Arima\n",
    "#df = pd.read_csv('users_data.csv')\n",
    "\n",
    "# Convert the data to a time series\n",
    "#df['Date'] = pd.to_datetime(df['Day'], format='%j')\n",
    "#df.set_index('Date', inplace=True)\n",
    "#df.drop('Day', axis=1, inplace=True)\n",
    "\n",
    "# Train the ARIMA model\n",
    "#model = ARIMA(df['User_A'], order=(1, 1, 1))\n",
    "#model_fit = model.fit()\n",
    "\n",
    "# Make predictions for one year and one month from now\n",
    "#start_date = df.index[-1] + pd.DateOffset(years=1, months=1)\n",
    "#end_date = start_date + pd.DateOffset(days=29)\n",
    "#forecast = model_fit.predict(start=start_date, end=end_date)\n",
    "\n",
    "#print(forecast)"
   ]
  },
  {
   "cell_type": "code",
   "execution_count": null,
   "id": "61957ce1-d8c5-4d74-9632-99422c41f4c6",
   "metadata": {},
   "outputs": [],
   "source": []
  }
 ],
 "metadata": {
  "kernelspec": {
   "display_name": "Python 3 (ipykernel)",
   "language": "python",
   "name": "python3"
  },
  "language_info": {
   "codemirror_mode": {
    "name": "ipython",
    "version": 3
   },
   "file_extension": ".py",
   "mimetype": "text/x-python",
   "name": "python",
   "nbconvert_exporter": "python",
   "pygments_lexer": "ipython3",
   "version": "3.9.16"
  }
 },
 "nbformat": 4,
 "nbformat_minor": 5
}
