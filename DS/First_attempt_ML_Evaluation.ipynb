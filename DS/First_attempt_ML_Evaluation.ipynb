{
  "cells": [
    {
      "cell_type": "code",
      "execution_count": null,
      "id": "b29c306a",
      "metadata": {
        "scrolled": true,
        "colab": {
          "base_uri": "https://localhost:8080/"
        },
        "id": "b29c306a",
        "outputId": "af9cc84d-f360-4d2f-feae-8c65faebe657"
      },
      "outputs": [
        {
          "output_type": "stream",
          "name": "stdout",
          "text": [
            "Mounted at /content/drive\n"
          ]
        }
      ],
      "source": [
        "# RUN THIS COMMAND ONLY IF YOU USE GOOGLE COLAB.\n",
        "from google.colab import drive\n",
        "drive.mount('/content/drive')"
      ]
    },
    {
      "cell_type": "code",
      "execution_count": null,
      "id": "d611f4fe",
      "metadata": {
        "colab": {
          "base_uri": "https://localhost:8080/"
        },
        "id": "d611f4fe",
        "outputId": "ed6b2c5e-3d5e-496c-d8bc-36c73a816210"
      },
      "outputs": [
        {
          "output_type": "stream",
          "name": "stdout",
          "text": [
            "/content/drive/MyDrive/TechLabs/04_Machine Learning\n"
          ]
        }
      ],
      "source": [
        "# RUN THIS COMMAND ONLY IF YOU USE GOOGLE COLAB.\n",
        "%cd drive/MyDrive/TechLabs/04_Machine\\ Learning"
      ]
    },
    {
      "cell_type": "code",
      "execution_count": null,
      "id": "17751b25",
      "metadata": {
        "id": "17751b25"
      },
      "outputs": [],
      "source": [
        "# IMPORT THESE FIRST.\n",
        "import numpy as np\n",
        "import pandas as pd\n",
        "import seaborn as sns\n",
        "import matplotlib.pyplot as plt\n",
        "from matplotlib import cm\n",
        "from sklearn.model_selection import train_test_split, cross_val_score, GridSearchCV\n",
        "from sklearn import datasets\n",
        "from sklearn.datasets import load_digits\n",
        "from sklearn.svm import SVC\n",
        "from sklearn.dummy import DummyClassifier, DummyRegressor\n",
        "from sklearn.metrics import (confusion_matrix, accuracy_score, precision_score, recall_score, f1_score, \n",
        "                             classification_report, precision_recall_curve, roc_curve, auc, mean_squared_error,\n",
        "                             r2_score, roc_auc_score)\n",
        "from sklearn.linear_model import LogisticRegression, LinearRegression\n",
        "from sklearn.tree import DecisionTreeClassifier\n",
        "from data.adspy_shared_utilities import (plot_class_regions_for_classifier_subplot, \n",
        "                                         plot_class_regions_for_classifier)"
      ]
    },
    {
      "cell_type": "code",
      "source": [
        "import random\n",
        "import numpy as np\n",
        "import pandas as pd\n",
        "from sklearn.neighbors import KNeighborsClassifier\n",
        "from sklearn.model_selection import train_test_split\n",
        "\n",
        "# Create a list of age ranges\n",
        "age_ranges = [(5, 8), (10, 13), (15, 18), (20, 23), (25, 28), (30, 33), (35, 38), (40, 43), (45, 48), (50, 53), (55, 58), (60, 63), (65, 68), (70, 73), (75, 78), (80, 83), (85, 88), (90, 93), (95, 98), (99, 100)]\n",
        "\n",
        "# Create a list of waste types\n",
        "waste_types = ['Plastic', 'Paper', 'Glass', 'Metal', 'Organic']\n",
        "\n",
        "# Create an empty list to hold the data\n",
        "data = []\n",
        "\n",
        "# Loop through the age ranges and add random data to the list\n",
        "for age_range in age_ranges:\n",
        "    age_min, age_max = age_range\n",
        "    age_list = list(range(age_min, age_max+1, random.randint(2,3)))\n",
        "    waste_type_list = random.sample(waste_types, len(age_list))\n",
        "    for age, waste_type in zip(age_list, waste_type_list):\n",
        "        data.append({'age': age, 'type_of_waste': waste_type})\n",
        "\n",
        "# Create a pandas data frame from the data\n",
        "df = pd.DataFrame(data)\n",
        "\n",
        "# Split the data into training and testing sets\n",
        "X_train, X_test, y_train, y_test = train_test_split(df['age'].values.reshape(-1, 1), df['type_of_waste'], test_size=0.2, random_state=42)\n",
        "\n",
        "# Calculate and print the cross-validation score\n",
        "cv_scores = cross_val_score(model, X_train, y_train, cv=5)\n",
        "print(\"Cross-validation scores:\", cv_scores)\n",
        "\n",
        "# Calculate and print the mean cross-validation score\n",
        "mean_cv_score = np.mean(cv_scores)\n",
        "print(\"Mean cross-validation score:\", mean_cv_score)\n",
        "\n",
        "# Create and train a K-NN model with k=1\n",
        "model = KNeighborsClassifier(n_neighbors=1)\n",
        "model.fit(X_train, y_train)\n",
        "\n",
        "# Make predictions on new ages\n",
        "new_ages = np.array([[9], [14], [19], [24], [27], [34], [37], [44], [49], [54], [59], [64], [69], [74], [79], [84], [89], [94], [97], [101]])\n",
        "predictions = model.predict(new_ages)\n",
        "\n",
        "# Print the accuracy on the training set\n",
        "print('Accuracy on training set:', model.score(X_train, y_train))\n",
        "# Print the accuracy on the test set\n",
        "print('Accuracy on test set:', model.score(X_test, y_test))\n",
        "\n",
        "# Print the predictions\n",
        "print(predictions)"
      ],
      "metadata": {
        "colab": {
          "base_uri": "https://localhost:8080/"
        },
        "id": "Ztp-vo0QGCKa",
        "outputId": "0f7caf9d-b859-42ae-f294-b57aca4616a4"
      },
      "id": "Ztp-vo0QGCKa",
      "execution_count": null,
      "outputs": [
        {
          "output_type": "stream",
          "name": "stdout",
          "text": [
            "Cross-validation scores: [0.28571429 0.         0.33333333 0.33333333 0.16666667]\n",
            "Mean cross-validation score: 0.22380952380952382\n",
            "Accuracy on training set: 1.0\n",
            "Accuracy on test set: 0.125\n",
            "['Metal' 'Plastic' 'Metal' 'Paper' 'Organic' 'Metal' 'Metal' 'Glass'\n",
            " 'Metal' 'Metal' 'Organic' 'Plastic' 'Metal' 'Plastic' 'Metal' 'Metal'\n",
            " 'Plastic' 'Glass' 'Metal' 'Metal']\n"
          ]
        },
        {
          "output_type": "stream",
          "name": "stderr",
          "text": [
            "/usr/local/lib/python3.9/dist-packages/sklearn/model_selection/_split.py:700: UserWarning: The least populated class in y has only 3 members, which is less than n_splits=5.\n",
            "  warnings.warn(\n"
          ]
        }
      ]
    },
    {
      "cell_type": "code",
      "source": [
        "import random\n",
        "# Create a list of age ranges\n",
        "age_ranges = [(5, 8), (10, 13), (15, 18), (20, 23), (25, 28), (30, 33), (35, 38), (40, 43), (45, 48), (50, 53), (55, 58), (60, 63), (65, 68), (70, 73), (75, 78), (80, 83), (85, 88), (90, 93), (95, 98), (99, 100)]\n",
        "# Create a list of waste types\n",
        "waste_types = ['Plastic', 'Paper', 'Glass', 'Metal', 'Organic']\n",
        "# Create an empty list to hold the data\n",
        "data = []\n",
        "# Loop through the age ranges and add random data to the list\n",
        "for age_range in age_ranges:\n",
        "    age_min, age_max = age_range\n",
        "    age_list = list(range(age_min, age_max+1, random.randint(2,3)))\n",
        "    waste_type_list = random.sample(waste_types, len(age_list))\n",
        "    for age, waste_type in zip(age_list, waste_type_list):\n",
        "        data.append({'age': age, 'type_of_waste': waste_type})\n"
      ],
      "metadata": {
        "id": "PH2walxBqTlt"
      },
      "id": "PH2walxBqTlt",
      "execution_count": null,
      "outputs": []
    },
    {
      "cell_type": "code",
      "source": [
        "# Create a pandas data frame from the data\n",
        "df = pd.DataFrame(data)\n",
        "df\n"
      ],
      "metadata": {
        "colab": {
          "base_uri": "https://localhost:8080/",
          "height": 1000
        },
        "id": "cSXCqSasqdb7",
        "outputId": "37950f0a-b4dc-40cb-f5db-27adcc259f12"
      },
      "id": "cSXCqSasqdb7",
      "execution_count": null,
      "outputs": [
        {
          "output_type": "execute_result",
          "data": {
            "text/plain": [
              "    age type_of_waste\n",
              "0     5       Organic\n",
              "1     8         Metal\n",
              "2    10       Plastic\n",
              "3    13       Organic\n",
              "4    15         Glass\n",
              "5    17       Organic\n",
              "6    20         Metal\n",
              "7    22         Glass\n",
              "8    25         Metal\n",
              "9    28         Glass\n",
              "10   30       Plastic\n",
              "11   32         Paper\n",
              "12   35         Glass\n",
              "13   38       Organic\n",
              "14   40       Plastic\n",
              "15   43         Paper\n",
              "16   45         Metal\n",
              "17   48         Paper\n",
              "18   50         Glass\n",
              "19   52         Paper\n",
              "20   55       Organic\n",
              "21   57         Paper\n",
              "22   60       Plastic\n",
              "23   63       Organic\n",
              "24   65         Glass\n",
              "25   68       Plastic\n",
              "26   70         Metal\n",
              "27   72       Plastic\n",
              "28   75       Organic\n",
              "29   77       Plastic\n",
              "30   80       Organic\n",
              "31   83         Glass\n",
              "32   85         Metal\n",
              "33   87         Paper\n",
              "34   90         Glass\n",
              "35   92       Organic\n",
              "36   95       Organic\n",
              "37   98         Glass\n",
              "38   99         Paper"
            ],
            "text/html": [
              "\n",
              "  <div id=\"df-1f6b3705-06e6-4fff-bd60-80e9545d4b01\">\n",
              "    <div class=\"colab-df-container\">\n",
              "      <div>\n",
              "<style scoped>\n",
              "    .dataframe tbody tr th:only-of-type {\n",
              "        vertical-align: middle;\n",
              "    }\n",
              "\n",
              "    .dataframe tbody tr th {\n",
              "        vertical-align: top;\n",
              "    }\n",
              "\n",
              "    .dataframe thead th {\n",
              "        text-align: right;\n",
              "    }\n",
              "</style>\n",
              "<table border=\"1\" class=\"dataframe\">\n",
              "  <thead>\n",
              "    <tr style=\"text-align: right;\">\n",
              "      <th></th>\n",
              "      <th>age</th>\n",
              "      <th>type_of_waste</th>\n",
              "    </tr>\n",
              "  </thead>\n",
              "  <tbody>\n",
              "    <tr>\n",
              "      <th>0</th>\n",
              "      <td>5</td>\n",
              "      <td>Organic</td>\n",
              "    </tr>\n",
              "    <tr>\n",
              "      <th>1</th>\n",
              "      <td>8</td>\n",
              "      <td>Metal</td>\n",
              "    </tr>\n",
              "    <tr>\n",
              "      <th>2</th>\n",
              "      <td>10</td>\n",
              "      <td>Plastic</td>\n",
              "    </tr>\n",
              "    <tr>\n",
              "      <th>3</th>\n",
              "      <td>13</td>\n",
              "      <td>Organic</td>\n",
              "    </tr>\n",
              "    <tr>\n",
              "      <th>4</th>\n",
              "      <td>15</td>\n",
              "      <td>Glass</td>\n",
              "    </tr>\n",
              "    <tr>\n",
              "      <th>5</th>\n",
              "      <td>17</td>\n",
              "      <td>Organic</td>\n",
              "    </tr>\n",
              "    <tr>\n",
              "      <th>6</th>\n",
              "      <td>20</td>\n",
              "      <td>Metal</td>\n",
              "    </tr>\n",
              "    <tr>\n",
              "      <th>7</th>\n",
              "      <td>22</td>\n",
              "      <td>Glass</td>\n",
              "    </tr>\n",
              "    <tr>\n",
              "      <th>8</th>\n",
              "      <td>25</td>\n",
              "      <td>Metal</td>\n",
              "    </tr>\n",
              "    <tr>\n",
              "      <th>9</th>\n",
              "      <td>28</td>\n",
              "      <td>Glass</td>\n",
              "    </tr>\n",
              "    <tr>\n",
              "      <th>10</th>\n",
              "      <td>30</td>\n",
              "      <td>Plastic</td>\n",
              "    </tr>\n",
              "    <tr>\n",
              "      <th>11</th>\n",
              "      <td>32</td>\n",
              "      <td>Paper</td>\n",
              "    </tr>\n",
              "    <tr>\n",
              "      <th>12</th>\n",
              "      <td>35</td>\n",
              "      <td>Glass</td>\n",
              "    </tr>\n",
              "    <tr>\n",
              "      <th>13</th>\n",
              "      <td>38</td>\n",
              "      <td>Organic</td>\n",
              "    </tr>\n",
              "    <tr>\n",
              "      <th>14</th>\n",
              "      <td>40</td>\n",
              "      <td>Plastic</td>\n",
              "    </tr>\n",
              "    <tr>\n",
              "      <th>15</th>\n",
              "      <td>43</td>\n",
              "      <td>Paper</td>\n",
              "    </tr>\n",
              "    <tr>\n",
              "      <th>16</th>\n",
              "      <td>45</td>\n",
              "      <td>Metal</td>\n",
              "    </tr>\n",
              "    <tr>\n",
              "      <th>17</th>\n",
              "      <td>48</td>\n",
              "      <td>Paper</td>\n",
              "    </tr>\n",
              "    <tr>\n",
              "      <th>18</th>\n",
              "      <td>50</td>\n",
              "      <td>Glass</td>\n",
              "    </tr>\n",
              "    <tr>\n",
              "      <th>19</th>\n",
              "      <td>52</td>\n",
              "      <td>Paper</td>\n",
              "    </tr>\n",
              "    <tr>\n",
              "      <th>20</th>\n",
              "      <td>55</td>\n",
              "      <td>Organic</td>\n",
              "    </tr>\n",
              "    <tr>\n",
              "      <th>21</th>\n",
              "      <td>57</td>\n",
              "      <td>Paper</td>\n",
              "    </tr>\n",
              "    <tr>\n",
              "      <th>22</th>\n",
              "      <td>60</td>\n",
              "      <td>Plastic</td>\n",
              "    </tr>\n",
              "    <tr>\n",
              "      <th>23</th>\n",
              "      <td>63</td>\n",
              "      <td>Organic</td>\n",
              "    </tr>\n",
              "    <tr>\n",
              "      <th>24</th>\n",
              "      <td>65</td>\n",
              "      <td>Glass</td>\n",
              "    </tr>\n",
              "    <tr>\n",
              "      <th>25</th>\n",
              "      <td>68</td>\n",
              "      <td>Plastic</td>\n",
              "    </tr>\n",
              "    <tr>\n",
              "      <th>26</th>\n",
              "      <td>70</td>\n",
              "      <td>Metal</td>\n",
              "    </tr>\n",
              "    <tr>\n",
              "      <th>27</th>\n",
              "      <td>72</td>\n",
              "      <td>Plastic</td>\n",
              "    </tr>\n",
              "    <tr>\n",
              "      <th>28</th>\n",
              "      <td>75</td>\n",
              "      <td>Organic</td>\n",
              "    </tr>\n",
              "    <tr>\n",
              "      <th>29</th>\n",
              "      <td>77</td>\n",
              "      <td>Plastic</td>\n",
              "    </tr>\n",
              "    <tr>\n",
              "      <th>30</th>\n",
              "      <td>80</td>\n",
              "      <td>Organic</td>\n",
              "    </tr>\n",
              "    <tr>\n",
              "      <th>31</th>\n",
              "      <td>83</td>\n",
              "      <td>Glass</td>\n",
              "    </tr>\n",
              "    <tr>\n",
              "      <th>32</th>\n",
              "      <td>85</td>\n",
              "      <td>Metal</td>\n",
              "    </tr>\n",
              "    <tr>\n",
              "      <th>33</th>\n",
              "      <td>87</td>\n",
              "      <td>Paper</td>\n",
              "    </tr>\n",
              "    <tr>\n",
              "      <th>34</th>\n",
              "      <td>90</td>\n",
              "      <td>Glass</td>\n",
              "    </tr>\n",
              "    <tr>\n",
              "      <th>35</th>\n",
              "      <td>92</td>\n",
              "      <td>Organic</td>\n",
              "    </tr>\n",
              "    <tr>\n",
              "      <th>36</th>\n",
              "      <td>95</td>\n",
              "      <td>Organic</td>\n",
              "    </tr>\n",
              "    <tr>\n",
              "      <th>37</th>\n",
              "      <td>98</td>\n",
              "      <td>Glass</td>\n",
              "    </tr>\n",
              "    <tr>\n",
              "      <th>38</th>\n",
              "      <td>99</td>\n",
              "      <td>Paper</td>\n",
              "    </tr>\n",
              "  </tbody>\n",
              "</table>\n",
              "</div>\n",
              "      <button class=\"colab-df-convert\" onclick=\"convertToInteractive('df-1f6b3705-06e6-4fff-bd60-80e9545d4b01')\"\n",
              "              title=\"Convert this dataframe to an interactive table.\"\n",
              "              style=\"display:none;\">\n",
              "        \n",
              "  <svg xmlns=\"http://www.w3.org/2000/svg\" height=\"24px\"viewBox=\"0 0 24 24\"\n",
              "       width=\"24px\">\n",
              "    <path d=\"M0 0h24v24H0V0z\" fill=\"none\"/>\n",
              "    <path d=\"M18.56 5.44l.94 2.06.94-2.06 2.06-.94-2.06-.94-.94-2.06-.94 2.06-2.06.94zm-11 1L8.5 8.5l.94-2.06 2.06-.94-2.06-.94L8.5 2.5l-.94 2.06-2.06.94zm10 10l.94 2.06.94-2.06 2.06-.94-2.06-.94-.94-2.06-.94 2.06-2.06.94z\"/><path d=\"M17.41 7.96l-1.37-1.37c-.4-.4-.92-.59-1.43-.59-.52 0-1.04.2-1.43.59L10.3 9.45l-7.72 7.72c-.78.78-.78 2.05 0 2.83L4 21.41c.39.39.9.59 1.41.59.51 0 1.02-.2 1.41-.59l7.78-7.78 2.81-2.81c.8-.78.8-2.07 0-2.86zM5.41 20L4 18.59l7.72-7.72 1.47 1.35L5.41 20z\"/>\n",
              "  </svg>\n",
              "      </button>\n",
              "      \n",
              "  <style>\n",
              "    .colab-df-container {\n",
              "      display:flex;\n",
              "      flex-wrap:wrap;\n",
              "      gap: 12px;\n",
              "    }\n",
              "\n",
              "    .colab-df-convert {\n",
              "      background-color: #E8F0FE;\n",
              "      border: none;\n",
              "      border-radius: 50%;\n",
              "      cursor: pointer;\n",
              "      display: none;\n",
              "      fill: #1967D2;\n",
              "      height: 32px;\n",
              "      padding: 0 0 0 0;\n",
              "      width: 32px;\n",
              "    }\n",
              "\n",
              "    .colab-df-convert:hover {\n",
              "      background-color: #E2EBFA;\n",
              "      box-shadow: 0px 1px 2px rgba(60, 64, 67, 0.3), 0px 1px 3px 1px rgba(60, 64, 67, 0.15);\n",
              "      fill: #174EA6;\n",
              "    }\n",
              "\n",
              "    [theme=dark] .colab-df-convert {\n",
              "      background-color: #3B4455;\n",
              "      fill: #D2E3FC;\n",
              "    }\n",
              "\n",
              "    [theme=dark] .colab-df-convert:hover {\n",
              "      background-color: #434B5C;\n",
              "      box-shadow: 0px 1px 3px 1px rgba(0, 0, 0, 0.15);\n",
              "      filter: drop-shadow(0px 1px 2px rgba(0, 0, 0, 0.3));\n",
              "      fill: #FFFFFF;\n",
              "    }\n",
              "  </style>\n",
              "\n",
              "      <script>\n",
              "        const buttonEl =\n",
              "          document.querySelector('#df-1f6b3705-06e6-4fff-bd60-80e9545d4b01 button.colab-df-convert');\n",
              "        buttonEl.style.display =\n",
              "          google.colab.kernel.accessAllowed ? 'block' : 'none';\n",
              "\n",
              "        async function convertToInteractive(key) {\n",
              "          const element = document.querySelector('#df-1f6b3705-06e6-4fff-bd60-80e9545d4b01');\n",
              "          const dataTable =\n",
              "            await google.colab.kernel.invokeFunction('convertToInteractive',\n",
              "                                                     [key], {});\n",
              "          if (!dataTable) return;\n",
              "\n",
              "          const docLinkHtml = 'Like what you see? Visit the ' +\n",
              "            '<a target=\"_blank\" href=https://colab.research.google.com/notebooks/data_table.ipynb>data table notebook</a>'\n",
              "            + ' to learn more about interactive tables.';\n",
              "          element.innerHTML = '';\n",
              "          dataTable['output_type'] = 'display_data';\n",
              "          await google.colab.output.renderOutput(dataTable, element);\n",
              "          const docLink = document.createElement('div');\n",
              "          docLink.innerHTML = docLinkHtml;\n",
              "          element.appendChild(docLink);\n",
              "        }\n",
              "      </script>\n",
              "    </div>\n",
              "  </div>\n",
              "  "
            ]
          },
          "metadata": {},
          "execution_count": 104
        }
      ]
    },
    {
      "cell_type": "code",
      "source": [
        "# Split the data into training and testing sets\n",
        "X_train, X_test, y_train, y_test = train_test_split(df['age'].values.reshape(-1, 1), df['type_of_waste'], test_size=0.2, random_state=42)\n",
        "# Create and train a decision tree model\n",
        "from sklearn.preprocessing import MinMaxScaler, PolynomialFeatures\n",
        "from sklearn.neighbors import KNeighborsClassifier, KNeighborsRegressor\n",
        "scaler = MinMaxScaler()\n",
        "X_train_scaled = scaler.fit_transform(X_train)\n",
        "# we must apply the scaling to the test set that we computed for the training set\n",
        "X_test_scaled = scaler.transform(X_test)\n",
        "knn = KNeighborsClassifier(n_neighbors = 5)\n",
        "knn.fit(X_train_scaled, y_train)\n",
        "print('Accuracy of K-NN classifier on training set: {:.2f}'\n",
        "     .format(knn.score(X_train_scaled, y_train)))\n",
        "print('Accuracy of K-NN classifier on test set: {:.2f}'\n",
        "     .format(knn.score(X_test_scaled, y_test)))"
      ],
      "metadata": {
        "colab": {
          "base_uri": "https://localhost:8080/"
        },
        "id": "bJhb0-SSCPLu",
        "outputId": "d699abd3-0218-4596-a7e0-f4f7a0511352"
      },
      "id": "bJhb0-SSCPLu",
      "execution_count": null,
      "outputs": [
        {
          "output_type": "stream",
          "name": "stdout",
          "text": [
            "Accuracy of K-NN classifier on training set: 0.42\n",
            "Accuracy of K-NN classifier on test set: 0.38\n"
          ]
        }
      ]
    },
    {
      "cell_type": "code",
      "source": [
        "model = DecisionTreeClassifier(random_state=42)\n",
        "model.fit(X_train, y_train)"
      ],
      "metadata": {
        "id": "sb6XGnyLCueF"
      },
      "id": "sb6XGnyLCueF",
      "execution_count": null,
      "outputs": []
    },
    {
      "cell_type": "code",
      "source": [],
      "metadata": {
        "id": "EnJ6eIULCXB2"
      },
      "id": "EnJ6eIULCXB2",
      "execution_count": null,
      "outputs": []
    },
    {
      "cell_type": "code",
      "source": [
        "# Make predictions on new ages\n",
        "new_ages = np.array([[9], [14], [19], [24], [27], [34], [37], [44], [49], [54], [59], [64], [69], [74], [79], [84], [89], [94], [97], [101]])\n",
        "predictions = model.predict(new_ages)\n",
        "# Print the predictions\n",
        "print(predictions)"
      ],
      "metadata": {
        "colab": {
          "base_uri": "https://localhost:8080/"
        },
        "id": "m2xRMCWVtlSt",
        "outputId": "bfa0da5c-2f08-49fe-8acc-b5b71cfbe6bd"
      },
      "id": "m2xRMCWVtlSt",
      "execution_count": null,
      "outputs": [
        {
          "output_type": "stream",
          "name": "stdout",
          "text": [
            "['Organic' 'Paper' 'Paper' 'Plastic' 'Paper' 'Paper' 'Paper' 'Organic'\n",
            " 'Metal' 'Paper' 'Metal' 'Glass' 'Metal' 'Organic' 'Plastic' 'Plastic'\n",
            " 'Metal' 'Glass' 'Metal' 'Metal']\n"
          ]
        }
      ]
    },
    {
      "cell_type": "code",
      "source": [
        "#accuracy: To compute the accuracy score, we need to compare the predicted waste types with the true waste types for the test set\n",
        "from sklearn.metrics import accuracy_score\n",
        "# Predict on the test set\n",
        "y_pred = model.predict(X_test)\n",
        "# Compute accuracy score\n",
        "acc = accuracy_score(y_test, y_pred)\n",
        "print(\"Accuracy score:\", acc)"
      ],
      "metadata": {
        "colab": {
          "base_uri": "https://localhost:8080/"
        },
        "id": "o5FLgd5DrZb5",
        "outputId": "106603ae-d10a-4941-b5f2-a860a4a05778"
      },
      "id": "o5FLgd5DrZb5",
      "execution_count": null,
      "outputs": [
        {
          "output_type": "stream",
          "name": "stdout",
          "text": [
            "Accuracy score: 0.125\n"
          ]
        }
      ]
    }
  ],
  "metadata": {
    "kernelspec": {
      "display_name": "Python 3 (ipykernel)",
      "language": "python",
      "name": "python3"
    },
    "language_info": {
      "codemirror_mode": {
        "name": "ipython",
        "version": 3
      },
      "file_extension": ".py",
      "mimetype": "text/x-python",
      "name": "python",
      "nbconvert_exporter": "python",
      "pygments_lexer": "ipython3",
      "version": "3.8.9"
    },
    "colab": {
      "provenance": []
    }
  },
  "nbformat": 4,
  "nbformat_minor": 5
}