{
  "cells": [
    {
      "cell_type": "code",
      "execution_count": null,
      "metadata": {
        "colab": {
          "base_uri": "https://localhost:8080/"
        },
        "id": "b29c306a",
        "outputId": "40cf876e-8b4b-4883-af67-7f6e57b3f974"
      },
      "outputs": [
        {
          "output_type": "stream",
          "name": "stdout",
          "text": [
            "Mounted at /content/drive\n"
          ]
        }
      ],
      "source": [
        "# RUN THIS COMMAND ONLY IF YOU USE GOOGLE COLAB.\n",
        "from google.colab import drive\n",
        "drive.mount('/content/drive')"
      ],
      "id": "b29c306a"
    },
    {
      "cell_type": "code",
      "execution_count": null,
      "metadata": {
        "colab": {
          "base_uri": "https://localhost:8080/"
        },
        "id": "d611f4fe",
        "outputId": "59bb4fae-fa07-49a4-e0c1-30eb99f3f2ff"
      },
      "outputs": [
        {
          "output_type": "stream",
          "name": "stdout",
          "text": [
            "/content/drive/MyDrive/TechLabs/02_Data Manipulation/Part C - Pandas\n"
          ]
        }
      ],
      "source": [
        "# RUN THIS COMMAND ONLY IF YOU USE GOOGLE COLAB.\n",
        "%cd drive/MyDrive/TechLabs/02_Data\\ Manipulation/Part\\ C\\ -\\ Pandas"
      ],
      "id": "d611f4fe"
    },
    {
      "cell_type": "code",
      "source": [
        "!pip install geopandas"
      ],
      "metadata": {
        "colab": {
          "base_uri": "https://localhost:8080/"
        },
        "id": "Qq1y1ta4F6bK",
        "outputId": "a441bab4-aab7-4464-ce46-b952377f0b30"
      },
      "id": "Qq1y1ta4F6bK",
      "execution_count": null,
      "outputs": [
        {
          "output_type": "stream",
          "name": "stdout",
          "text": [
            "Looking in indexes: https://pypi.org/simple, https://us-python.pkg.dev/colab-wheels/public/simple/\n",
            "Requirement already satisfied: geopandas in /usr/local/lib/python3.9/dist-packages (0.12.2)\n",
            "Requirement already satisfied: pyproj>=2.6.1.post1 in /usr/local/lib/python3.9/dist-packages (from geopandas) (3.5.0)\n",
            "Requirement already satisfied: pandas>=1.0.0 in /usr/local/lib/python3.9/dist-packages (from geopandas) (1.4.4)\n",
            "Requirement already satisfied: fiona>=1.8 in /usr/local/lib/python3.9/dist-packages (from geopandas) (1.9.2)\n",
            "Requirement already satisfied: packaging in /usr/local/lib/python3.9/dist-packages (from geopandas) (23.0)\n",
            "Requirement already satisfied: shapely>=1.7 in /usr/local/lib/python3.9/dist-packages (from geopandas) (2.0.1)\n",
            "Requirement already satisfied: munch>=2.3.2 in /usr/local/lib/python3.9/dist-packages (from fiona>=1.8->geopandas) (2.5.0)\n",
            "Requirement already satisfied: attrs>=19.2.0 in /usr/local/lib/python3.9/dist-packages (from fiona>=1.8->geopandas) (22.2.0)\n",
            "Requirement already satisfied: click~=8.0 in /usr/local/lib/python3.9/dist-packages (from fiona>=1.8->geopandas) (8.1.3)\n",
            "Requirement already satisfied: importlib-metadata in /usr/local/lib/python3.9/dist-packages (from fiona>=1.8->geopandas) (6.1.0)\n",
            "Requirement already satisfied: cligj>=0.5 in /usr/local/lib/python3.9/dist-packages (from fiona>=1.8->geopandas) (0.7.2)\n",
            "Requirement already satisfied: certifi in /usr/local/lib/python3.9/dist-packages (from fiona>=1.8->geopandas) (2022.12.7)\n",
            "Requirement already satisfied: click-plugins>=1.0 in /usr/local/lib/python3.9/dist-packages (from fiona>=1.8->geopandas) (1.1.1)\n",
            "Requirement already satisfied: numpy>=1.18.5 in /usr/local/lib/python3.9/dist-packages (from pandas>=1.0.0->geopandas) (1.22.4)\n",
            "Requirement already satisfied: pytz>=2020.1 in /usr/local/lib/python3.9/dist-packages (from pandas>=1.0.0->geopandas) (2022.7.1)\n",
            "Requirement already satisfied: python-dateutil>=2.8.1 in /usr/local/lib/python3.9/dist-packages (from pandas>=1.0.0->geopandas) (2.8.2)\n",
            "Requirement already satisfied: six in /usr/local/lib/python3.9/dist-packages (from munch>=2.3.2->fiona>=1.8->geopandas) (1.16.0)\n",
            "Requirement already satisfied: zipp>=0.5 in /usr/local/lib/python3.9/dist-packages (from importlib-metadata->fiona>=1.8->geopandas) (3.15.0)\n"
          ]
        }
      ]
    },
    {
      "cell_type": "code",
      "source": [
        "!pip install folium"
      ],
      "metadata": {
        "colab": {
          "base_uri": "https://localhost:8080/"
        },
        "id": "a4SarE3UNEOD",
        "outputId": "bdf55851-e0de-4afd-d868-1ef72922bd2c"
      },
      "id": "a4SarE3UNEOD",
      "execution_count": null,
      "outputs": [
        {
          "output_type": "stream",
          "name": "stdout",
          "text": [
            "Looking in indexes: https://pypi.org/simple, https://us-python.pkg.dev/colab-wheels/public/simple/\n",
            "Requirement already satisfied: folium in /usr/local/lib/python3.9/dist-packages (0.14.0)\n",
            "Requirement already satisfied: numpy in /usr/local/lib/python3.9/dist-packages (from folium) (1.22.4)\n",
            "Requirement already satisfied: requests in /usr/local/lib/python3.9/dist-packages (from folium) (2.27.1)\n",
            "Requirement already satisfied: jinja2>=2.9 in /usr/local/lib/python3.9/dist-packages (from folium) (3.1.2)\n",
            "Requirement already satisfied: branca>=0.6.0 in /usr/local/lib/python3.9/dist-packages (from folium) (0.6.0)\n",
            "Requirement already satisfied: MarkupSafe>=2.0 in /usr/local/lib/python3.9/dist-packages (from jinja2>=2.9->folium) (2.1.2)\n",
            "Requirement already satisfied: certifi>=2017.4.17 in /usr/local/lib/python3.9/dist-packages (from requests->folium) (2022.12.7)\n",
            "Requirement already satisfied: charset-normalizer~=2.0.0 in /usr/local/lib/python3.9/dist-packages (from requests->folium) (2.0.12)\n",
            "Requirement already satisfied: idna<4,>=2.5 in /usr/local/lib/python3.9/dist-packages (from requests->folium) (3.4)\n",
            "Requirement already satisfied: urllib3<1.27,>=1.21.1 in /usr/local/lib/python3.9/dist-packages (from requests->folium) (1.26.15)\n"
          ]
        }
      ]
    },
    {
      "cell_type": "code",
      "source": [
        "!pip install mapclassify"
      ],
      "metadata": {
        "colab": {
          "base_uri": "https://localhost:8080/"
        },
        "id": "Se8tPc69NLPp",
        "outputId": "e19a0b02-6e73-4b5b-9390-b17427147660"
      },
      "id": "Se8tPc69NLPp",
      "execution_count": null,
      "outputs": [
        {
          "output_type": "stream",
          "name": "stdout",
          "text": [
            "Looking in indexes: https://pypi.org/simple, https://us-python.pkg.dev/colab-wheels/public/simple/\n",
            "Requirement already satisfied: mapclassify in /usr/local/lib/python3.9/dist-packages (2.5.0)\n",
            "Requirement already satisfied: networkx in /usr/local/lib/python3.9/dist-packages (from mapclassify) (3.0)\n",
            "Requirement already satisfied: scipy>=1.0 in /usr/local/lib/python3.9/dist-packages (from mapclassify) (1.10.1)\n",
            "Requirement already satisfied: scikit-learn in /usr/local/lib/python3.9/dist-packages (from mapclassify) (1.2.2)\n",
            "Requirement already satisfied: pandas>=1.0 in /usr/local/lib/python3.9/dist-packages (from mapclassify) (1.4.4)\n",
            "Requirement already satisfied: numpy>=1.3 in /usr/local/lib/python3.9/dist-packages (from mapclassify) (1.22.4)\n",
            "Requirement already satisfied: python-dateutil>=2.8.1 in /usr/local/lib/python3.9/dist-packages (from pandas>=1.0->mapclassify) (2.8.2)\n",
            "Requirement already satisfied: pytz>=2020.1 in /usr/local/lib/python3.9/dist-packages (from pandas>=1.0->mapclassify) (2022.7.1)\n",
            "Requirement already satisfied: threadpoolctl>=2.0.0 in /usr/local/lib/python3.9/dist-packages (from scikit-learn->mapclassify) (3.1.0)\n",
            "Requirement already satisfied: joblib>=1.1.1 in /usr/local/lib/python3.9/dist-packages (from scikit-learn->mapclassify) (1.1.1)\n",
            "Requirement already satisfied: six>=1.5 in /usr/local/lib/python3.9/dist-packages (from python-dateutil>=2.8.1->pandas>=1.0->mapclassify) (1.16.0)\n"
          ]
        }
      ]
    },
    {
      "cell_type": "code",
      "execution_count": null,
      "metadata": {
        "id": "9b8a5887"
      },
      "outputs": [],
      "source": [
        "import pandas as pd\n",
        "import geopandas as gpd\n",
        "import numpy as np\n",
        "import folium\n",
        "import mapclassify\n",
        "import matplotlib.pyplot as plt\n",
        "from ipywidgets import interact, widgets\n",
        "from IPython.display import display"
      ],
      "id": "9b8a5887"
    },
    {
      "cell_type": "code",
      "execution_count": null,
      "metadata": {
        "id": "2cc3128e"
      },
      "outputs": [],
      "source": [
        "# Load data and pivot it\n",
        "data = pd.read_csv('mapgraphrecycle.csv')\n",
        "alldata = pd.pivot_table(data, values=\"recycling_rate_municipal_waste_percent\", index=[\"country_name\"], columns=\"year\", aggfunc=np.mean)"
      ],
      "id": "2cc3128e"
    },
    {
      "cell_type": "code",
      "source": [
        "alldata.head()"
      ],
      "metadata": {
        "colab": {
          "base_uri": "https://localhost:8080/",
          "height": 267
        },
        "id": "aO7LFoh-0OpK",
        "outputId": "6fc80357-b436-4c1a-c024-b809c3ac1ccc"
      },
      "id": "aO7LFoh-0OpK",
      "execution_count": null,
      "outputs": [
        {
          "output_type": "execute_result",
          "data": {
            "text/plain": [
              "year           2000   2001   2002   2003   2004   2005   2006  2007  2008  \\\n",
              "country_name                                                                \n",
              "Albania       18.40  18.40  18.40  18.40  18.40  18.40  18.40  18.4  18.4   \n",
              "Austria       63.40  64.30  62.50  64.20  57.40  58.30  59.20  60.2  63.2   \n",
              "Belgium       49.70  50.40  51.50  52.90  53.50  55.60  56.10  56.8  52.7   \n",
              "Bulgaria      15.50  16.10  16.30  16.50  17.20  18.30  19.10  20.6  19.4   \n",
              "Croatia       16.38  16.38  16.38  16.38  16.38  16.38  16.38   3.2   2.7   \n",
              "\n",
              "year          2009  ...  2017  2018  2019  2020   2021   2022   2023   2024  \\\n",
              "country_name        ...                                                       \n",
              "Albania       18.4  ...  18.4  18.4  18.4  18.1  18.70  18.40  18.40  18.40   \n",
              "Austria       61.9  ...  57.8  57.7  58.2  62.3  59.66  57.19  56.98  56.76   \n",
              "Belgium       53.9  ...  53.9  54.4  54.7  51.4  53.30  54.20  54.26  54.32   \n",
              "Bulgaria      19.9  ...  34.6  31.5  34.6  65.5  25.41  39.89  41.15  42.41   \n",
              "Croatia        2.4  ...  23.6  25.3  30.2  29.5  31.40  24.74  25.47  26.19   \n",
              "\n",
              "year           2025   2026  \n",
              "country_name                \n",
              "Albania       18.40  18.41  \n",
              "Austria       56.55  56.33  \n",
              "Belgium       54.38  54.44  \n",
              "Bulgaria      43.67  44.93  \n",
              "Croatia       26.92  27.65  \n",
              "\n",
              "[5 rows x 27 columns]"
            ],
            "text/html": [
              "\n",
              "  <div id=\"df-c60aab68-935c-4e03-9ea7-26ea12c1690c\">\n",
              "    <div class=\"colab-df-container\">\n",
              "      <div>\n",
              "<style scoped>\n",
              "    .dataframe tbody tr th:only-of-type {\n",
              "        vertical-align: middle;\n",
              "    }\n",
              "\n",
              "    .dataframe tbody tr th {\n",
              "        vertical-align: top;\n",
              "    }\n",
              "\n",
              "    .dataframe thead th {\n",
              "        text-align: right;\n",
              "    }\n",
              "</style>\n",
              "<table border=\"1\" class=\"dataframe\">\n",
              "  <thead>\n",
              "    <tr style=\"text-align: right;\">\n",
              "      <th>year</th>\n",
              "      <th>2000</th>\n",
              "      <th>2001</th>\n",
              "      <th>2002</th>\n",
              "      <th>2003</th>\n",
              "      <th>2004</th>\n",
              "      <th>2005</th>\n",
              "      <th>2006</th>\n",
              "      <th>2007</th>\n",
              "      <th>2008</th>\n",
              "      <th>2009</th>\n",
              "      <th>...</th>\n",
              "      <th>2017</th>\n",
              "      <th>2018</th>\n",
              "      <th>2019</th>\n",
              "      <th>2020</th>\n",
              "      <th>2021</th>\n",
              "      <th>2022</th>\n",
              "      <th>2023</th>\n",
              "      <th>2024</th>\n",
              "      <th>2025</th>\n",
              "      <th>2026</th>\n",
              "    </tr>\n",
              "    <tr>\n",
              "      <th>country_name</th>\n",
              "      <th></th>\n",
              "      <th></th>\n",
              "      <th></th>\n",
              "      <th></th>\n",
              "      <th></th>\n",
              "      <th></th>\n",
              "      <th></th>\n",
              "      <th></th>\n",
              "      <th></th>\n",
              "      <th></th>\n",
              "      <th></th>\n",
              "      <th></th>\n",
              "      <th></th>\n",
              "      <th></th>\n",
              "      <th></th>\n",
              "      <th></th>\n",
              "      <th></th>\n",
              "      <th></th>\n",
              "      <th></th>\n",
              "      <th></th>\n",
              "      <th></th>\n",
              "    </tr>\n",
              "  </thead>\n",
              "  <tbody>\n",
              "    <tr>\n",
              "      <th>Albania</th>\n",
              "      <td>18.40</td>\n",
              "      <td>18.40</td>\n",
              "      <td>18.40</td>\n",
              "      <td>18.40</td>\n",
              "      <td>18.40</td>\n",
              "      <td>18.40</td>\n",
              "      <td>18.40</td>\n",
              "      <td>18.4</td>\n",
              "      <td>18.4</td>\n",
              "      <td>18.4</td>\n",
              "      <td>...</td>\n",
              "      <td>18.4</td>\n",
              "      <td>18.4</td>\n",
              "      <td>18.4</td>\n",
              "      <td>18.1</td>\n",
              "      <td>18.70</td>\n",
              "      <td>18.40</td>\n",
              "      <td>18.40</td>\n",
              "      <td>18.40</td>\n",
              "      <td>18.40</td>\n",
              "      <td>18.41</td>\n",
              "    </tr>\n",
              "    <tr>\n",
              "      <th>Austria</th>\n",
              "      <td>63.40</td>\n",
              "      <td>64.30</td>\n",
              "      <td>62.50</td>\n",
              "      <td>64.20</td>\n",
              "      <td>57.40</td>\n",
              "      <td>58.30</td>\n",
              "      <td>59.20</td>\n",
              "      <td>60.2</td>\n",
              "      <td>63.2</td>\n",
              "      <td>61.9</td>\n",
              "      <td>...</td>\n",
              "      <td>57.8</td>\n",
              "      <td>57.7</td>\n",
              "      <td>58.2</td>\n",
              "      <td>62.3</td>\n",
              "      <td>59.66</td>\n",
              "      <td>57.19</td>\n",
              "      <td>56.98</td>\n",
              "      <td>56.76</td>\n",
              "      <td>56.55</td>\n",
              "      <td>56.33</td>\n",
              "    </tr>\n",
              "    <tr>\n",
              "      <th>Belgium</th>\n",
              "      <td>49.70</td>\n",
              "      <td>50.40</td>\n",
              "      <td>51.50</td>\n",
              "      <td>52.90</td>\n",
              "      <td>53.50</td>\n",
              "      <td>55.60</td>\n",
              "      <td>56.10</td>\n",
              "      <td>56.8</td>\n",
              "      <td>52.7</td>\n",
              "      <td>53.9</td>\n",
              "      <td>...</td>\n",
              "      <td>53.9</td>\n",
              "      <td>54.4</td>\n",
              "      <td>54.7</td>\n",
              "      <td>51.4</td>\n",
              "      <td>53.30</td>\n",
              "      <td>54.20</td>\n",
              "      <td>54.26</td>\n",
              "      <td>54.32</td>\n",
              "      <td>54.38</td>\n",
              "      <td>54.44</td>\n",
              "    </tr>\n",
              "    <tr>\n",
              "      <th>Bulgaria</th>\n",
              "      <td>15.50</td>\n",
              "      <td>16.10</td>\n",
              "      <td>16.30</td>\n",
              "      <td>16.50</td>\n",
              "      <td>17.20</td>\n",
              "      <td>18.30</td>\n",
              "      <td>19.10</td>\n",
              "      <td>20.6</td>\n",
              "      <td>19.4</td>\n",
              "      <td>19.9</td>\n",
              "      <td>...</td>\n",
              "      <td>34.6</td>\n",
              "      <td>31.5</td>\n",
              "      <td>34.6</td>\n",
              "      <td>65.5</td>\n",
              "      <td>25.41</td>\n",
              "      <td>39.89</td>\n",
              "      <td>41.15</td>\n",
              "      <td>42.41</td>\n",
              "      <td>43.67</td>\n",
              "      <td>44.93</td>\n",
              "    </tr>\n",
              "    <tr>\n",
              "      <th>Croatia</th>\n",
              "      <td>16.38</td>\n",
              "      <td>16.38</td>\n",
              "      <td>16.38</td>\n",
              "      <td>16.38</td>\n",
              "      <td>16.38</td>\n",
              "      <td>16.38</td>\n",
              "      <td>16.38</td>\n",
              "      <td>3.2</td>\n",
              "      <td>2.7</td>\n",
              "      <td>2.4</td>\n",
              "      <td>...</td>\n",
              "      <td>23.6</td>\n",
              "      <td>25.3</td>\n",
              "      <td>30.2</td>\n",
              "      <td>29.5</td>\n",
              "      <td>31.40</td>\n",
              "      <td>24.74</td>\n",
              "      <td>25.47</td>\n",
              "      <td>26.19</td>\n",
              "      <td>26.92</td>\n",
              "      <td>27.65</td>\n",
              "    </tr>\n",
              "  </tbody>\n",
              "</table>\n",
              "<p>5 rows × 27 columns</p>\n",
              "</div>\n",
              "      <button class=\"colab-df-convert\" onclick=\"convertToInteractive('df-c60aab68-935c-4e03-9ea7-26ea12c1690c')\"\n",
              "              title=\"Convert this dataframe to an interactive table.\"\n",
              "              style=\"display:none;\">\n",
              "        \n",
              "  <svg xmlns=\"http://www.w3.org/2000/svg\" height=\"24px\"viewBox=\"0 0 24 24\"\n",
              "       width=\"24px\">\n",
              "    <path d=\"M0 0h24v24H0V0z\" fill=\"none\"/>\n",
              "    <path d=\"M18.56 5.44l.94 2.06.94-2.06 2.06-.94-2.06-.94-.94-2.06-.94 2.06-2.06.94zm-11 1L8.5 8.5l.94-2.06 2.06-.94-2.06-.94L8.5 2.5l-.94 2.06-2.06.94zm10 10l.94 2.06.94-2.06 2.06-.94-2.06-.94-.94-2.06-.94 2.06-2.06.94z\"/><path d=\"M17.41 7.96l-1.37-1.37c-.4-.4-.92-.59-1.43-.59-.52 0-1.04.2-1.43.59L10.3 9.45l-7.72 7.72c-.78.78-.78 2.05 0 2.83L4 21.41c.39.39.9.59 1.41.59.51 0 1.02-.2 1.41-.59l7.78-7.78 2.81-2.81c.8-.78.8-2.07 0-2.86zM5.41 20L4 18.59l7.72-7.72 1.47 1.35L5.41 20z\"/>\n",
              "  </svg>\n",
              "      </button>\n",
              "      \n",
              "  <style>\n",
              "    .colab-df-container {\n",
              "      display:flex;\n",
              "      flex-wrap:wrap;\n",
              "      gap: 12px;\n",
              "    }\n",
              "\n",
              "    .colab-df-convert {\n",
              "      background-color: #E8F0FE;\n",
              "      border: none;\n",
              "      border-radius: 50%;\n",
              "      cursor: pointer;\n",
              "      display: none;\n",
              "      fill: #1967D2;\n",
              "      height: 32px;\n",
              "      padding: 0 0 0 0;\n",
              "      width: 32px;\n",
              "    }\n",
              "\n",
              "    .colab-df-convert:hover {\n",
              "      background-color: #E2EBFA;\n",
              "      box-shadow: 0px 1px 2px rgba(60, 64, 67, 0.3), 0px 1px 3px 1px rgba(60, 64, 67, 0.15);\n",
              "      fill: #174EA6;\n",
              "    }\n",
              "\n",
              "    [theme=dark] .colab-df-convert {\n",
              "      background-color: #3B4455;\n",
              "      fill: #D2E3FC;\n",
              "    }\n",
              "\n",
              "    [theme=dark] .colab-df-convert:hover {\n",
              "      background-color: #434B5C;\n",
              "      box-shadow: 0px 1px 3px 1px rgba(0, 0, 0, 0.15);\n",
              "      filter: drop-shadow(0px 1px 2px rgba(0, 0, 0, 0.3));\n",
              "      fill: #FFFFFF;\n",
              "    }\n",
              "  </style>\n",
              "\n",
              "      <script>\n",
              "        const buttonEl =\n",
              "          document.querySelector('#df-c60aab68-935c-4e03-9ea7-26ea12c1690c button.colab-df-convert');\n",
              "        buttonEl.style.display =\n",
              "          google.colab.kernel.accessAllowed ? 'block' : 'none';\n",
              "\n",
              "        async function convertToInteractive(key) {\n",
              "          const element = document.querySelector('#df-c60aab68-935c-4e03-9ea7-26ea12c1690c');\n",
              "          const dataTable =\n",
              "            await google.colab.kernel.invokeFunction('convertToInteractive',\n",
              "                                                     [key], {});\n",
              "          if (!dataTable) return;\n",
              "\n",
              "          const docLinkHtml = 'Like what you see? Visit the ' +\n",
              "            '<a target=\"_blank\" href=https://colab.research.google.com/notebooks/data_table.ipynb>data table notebook</a>'\n",
              "            + ' to learn more about interactive tables.';\n",
              "          element.innerHTML = '';\n",
              "          dataTable['output_type'] = 'display_data';\n",
              "          await google.colab.output.renderOutput(dataTable, element);\n",
              "          const docLink = document.createElement('div');\n",
              "          docLink.innerHTML = docLinkHtml;\n",
              "          element.appendChild(docLink);\n",
              "        }\n",
              "      </script>\n",
              "    </div>\n",
              "  </div>\n",
              "  "
            ]
          },
          "metadata": {},
          "execution_count": 19
        }
      ]
    },
    {
      "cell_type": "code",
      "source": [
        "alldata=alldata.drop('European Union - 27 countries (from 2020)')"
      ],
      "metadata": {
        "id": "dwxqjqwd_m3B"
      },
      "id": "dwxqjqwd_m3B",
      "execution_count": null,
      "outputs": []
    },
    {
      "cell_type": "code",
      "source": [
        "years = [2020, 2021, 2022, 2023, 2024, 2025, 2026]\n",
        "dataframes = {}\n",
        "for year in years:\n",
        "    df = alldata[[year]].reset_index()\n",
        "    df.columns = ['country_name', str(year)]\n",
        "    df = df.set_index('country_name')\n",
        "    dataframes[year] = df\n",
        "\n",
        "# Create choropleth map with dropdown for year selection\n",
        "eu_map = gpd.read_file(gpd.datasets.get_path('naturalearth_lowres'))\n",
        "eu_map = eu_map[eu_map.continent == 'Europe']\n",
        "\n",
        "def update_map(year):\n",
        "    sample = eu_map.merge(dataframes[year], left_on='name', right_index=True)\n",
        "    m = folium.Map(location=[50, 10], zoom_start=4, tiles='CartoDB Positron')\n",
        "    choropleth = folium.Choropleth(\n",
        "        geo_data=sample,\n",
        "        data=sample,\n",
        "        columns=['name', str(year)],\n",
        "        key_on='feature.properties.name',\n",
        "        fill_color='YlGn',\n",
        "        fill_opacity=0.7,\n",
        "        line_opacity=0.2,\n",
        "        legend_name=f'Recycling rate of municipal waste in % ({year})'\n",
        "    ).add_to(m)\n",
        "    choropleth.geojson.add_child(\n",
        "        folium.features.GeoJsonTooltip(fields=['name', str(year)], aliases=['Country', 'Recycling rate'])\n",
        "    )\n",
        "    return m\n",
        "\n",
        "year_widget = widgets.Dropdown(options=years, value=2020, description='Year:')\n",
        "interact(update_map, year=year_widget)\n"
      ],
      "metadata": {
        "colab": {
          "base_uri": "https://localhost:8080/",
          "height": 915,
          "referenced_widgets": [
            "25bb4037021f488980bb04249a8ebc61",
            "a295d7741705460889c98f020aec64ec",
            "b1e69b9bf32d4599aca581c52acbdbd7",
            "0e3fc64b46034fc2971d7936db535dd2",
            "c58c300b26534060875e5e76349db606",
            "59ba48fc6c0a475ebd18a3005548af1f",
            "5e9a0795143743ddb9d771613f4f6fd9"
          ]
        },
        "id": "gtZOULGbYNUd",
        "outputId": "0c39675c-ffc5-49d6-85b5-a64b9428730f"
      },
      "id": "gtZOULGbYNUd",
      "execution_count": 59,
      "outputs": [
        {
          "output_type": "display_data",
          "data": {
            "text/plain": [
              "interactive(children=(Dropdown(description='Year:', options=(2020, 2021, 2022, 2023, 2024, 2025, 2026), value=…"
            ],
            "application/vnd.jupyter.widget-view+json": {
              "version_major": 2,
              "version_minor": 0,
              "model_id": "25bb4037021f488980bb04249a8ebc61"
            }
          },
          "metadata": {}
        },
        {
          "output_type": "execute_result",
          "data": {
            "text/plain": [
              "<function __main__.update_map(year)>"
            ]
          },
          "metadata": {},
          "execution_count": 59
        }
      ]
    }
  ],
  "metadata": {
    "colab": {
      "provenance": []
    },
    "kernelspec": {
      "display_name": "Python 3 (ipykernel)",
      "language": "python",
      "name": "python3"
    },
    "language_info": {
      "codemirror_mode": {
        "name": "ipython",
        "version": 3
      },
      "file_extension": ".py",
      "mimetype": "text/x-python",
      "name": "python",
      "nbconvert_exporter": "python",
      "pygments_lexer": "ipython3",
      "version": "3.8.9"
    },
    "widgets": {
      "application/vnd.jupyter.widget-state+json": {
        "25bb4037021f488980bb04249a8ebc61": {
          "model_module": "@jupyter-widgets/controls",
          "model_name": "VBoxModel",
          "model_module_version": "1.5.0",
          "state": {
            "_dom_classes": [
              "widget-interact"
            ],
            "_model_module": "@jupyter-widgets/controls",
            "_model_module_version": "1.5.0",
            "_model_name": "VBoxModel",
            "_view_count": null,
            "_view_module": "@jupyter-widgets/controls",
            "_view_module_version": "1.5.0",
            "_view_name": "VBoxView",
            "box_style": "",
            "children": [
              "IPY_MODEL_a295d7741705460889c98f020aec64ec",
              "IPY_MODEL_b1e69b9bf32d4599aca581c52acbdbd7"
            ],
            "layout": "IPY_MODEL_0e3fc64b46034fc2971d7936db535dd2"
          }
        },
        "a295d7741705460889c98f020aec64ec": {
          "model_module": "@jupyter-widgets/controls",
          "model_name": "DropdownModel",
          "model_module_version": "1.5.0",
          "state": {
            "_dom_classes": [],
            "_model_module": "@jupyter-widgets/controls",
            "_model_module_version": "1.5.0",
            "_model_name": "DropdownModel",
            "_options_labels": [
              "2020",
              "2021",
              "2022",
              "2023",
              "2024",
              "2025",
              "2026"
            ],
            "_view_count": null,
            "_view_module": "@jupyter-widgets/controls",
            "_view_module_version": "1.5.0",
            "_view_name": "DropdownView",
            "description": "Year:",
            "description_tooltip": null,
            "disabled": false,
            "index": 1,
            "layout": "IPY_MODEL_c58c300b26534060875e5e76349db606",
            "style": "IPY_MODEL_59ba48fc6c0a475ebd18a3005548af1f"
          }
        },
        "b1e69b9bf32d4599aca581c52acbdbd7": {
          "model_module": "@jupyter-widgets/output",
          "model_name": "OutputModel",
          "model_module_version": "1.0.0",
          "state": {
            "_dom_classes": [],
            "_model_module": "@jupyter-widgets/output",
            "_model_module_version": "1.0.0",
            "_model_name": "OutputModel",
            "_view_count": null,
            "_view_module": "@jupyter-widgets/output",
            "_view_module_version": "1.0.0",
            "_view_name": "OutputView",
            "layout": "IPY_MODEL_5e9a0795143743ddb9d771613f4f6fd9",
            "msg_id": "",
            "outputs": [
              {
                "output_type": "display_data",
                "data": {
                  "text/plain": "<folium.folium.Map at 0x7f23a7dfd670>",
                  "text/html": "<div style=\"width:100%;\"><div style=\"position:relative;width:100%;height:0;padding-bottom:60%;\"><span style=\"color:#565656\">Make this Notebook Trusted to load map: File -> Trust Notebook</span><iframe srcdoc=\"&lt;!DOCTYPE html&gt;\n&lt;html&gt;\n&lt;head&gt;\n    \n    &lt;meta http-equiv=&quot;content-type&quot; content=&quot;text/html; charset=UTF-8&quot; /&gt;\n    \n        &lt;script&gt;\n            L_NO_TOUCH = false;\n            L_DISABLE_3D = false;\n        &lt;/script&gt;\n    \n    &lt;style&gt;html, body {width: 100%;height: 100%;margin: 0;padding: 0;}&lt;/style&gt;\n    &lt;style&gt;#map {position:absolute;top:0;bottom:0;right:0;left:0;}&lt;/style&gt;\n    &lt;script src=&quot;https://cdn.jsdelivr.net/npm/leaflet@1.9.3/dist/leaflet.js&quot;&gt;&lt;/script&gt;\n    &lt;script src=&quot;https://code.jquery.com/jquery-1.12.4.min.js&quot;&gt;&lt;/script&gt;\n    &lt;script src=&quot;https://cdn.jsdelivr.net/npm/bootstrap@5.2.2/dist/js/bootstrap.bundle.min.js&quot;&gt;&lt;/script&gt;\n    &lt;script src=&quot;https://cdnjs.cloudflare.com/ajax/libs/Leaflet.awesome-markers/2.0.2/leaflet.awesome-markers.js&quot;&gt;&lt;/script&gt;\n    &lt;link rel=&quot;stylesheet&quot; href=&quot;https://cdn.jsdelivr.net/npm/leaflet@1.9.3/dist/leaflet.css&quot;/&gt;\n    &lt;link rel=&quot;stylesheet&quot; href=&quot;https://cdn.jsdelivr.net/npm/bootstrap@5.2.2/dist/css/bootstrap.min.css&quot;/&gt;\n    &lt;link rel=&quot;stylesheet&quot; href=&quot;https://netdna.bootstrapcdn.com/bootstrap/3.0.0/css/bootstrap.min.css&quot;/&gt;\n    &lt;link rel=&quot;stylesheet&quot; href=&quot;https://cdn.jsdelivr.net/npm/@fortawesome/fontawesome-free@6.2.0/css/all.min.css&quot;/&gt;\n    &lt;link rel=&quot;stylesheet&quot; href=&quot;https://cdnjs.cloudflare.com/ajax/libs/Leaflet.awesome-markers/2.0.2/leaflet.awesome-markers.css&quot;/&gt;\n    &lt;link rel=&quot;stylesheet&quot; href=&quot;https://cdn.jsdelivr.net/gh/python-visualization/folium/folium/templates/leaflet.awesome.rotate.min.css&quot;/&gt;\n    \n            &lt;meta name=&quot;viewport&quot; content=&quot;width=device-width,\n                initial-scale=1.0, maximum-scale=1.0, user-scalable=no&quot; /&gt;\n            &lt;style&gt;\n                #map_8f4f1a75926c3935950dbc46779c481b {\n                    position: relative;\n                    width: 100.0%;\n                    height: 100.0%;\n                    left: 0.0%;\n                    top: 0.0%;\n                }\n                .leaflet-container { font-size: 1rem; }\n            &lt;/style&gt;\n        \n    \n                    &lt;style&gt;\n                        .foliumtooltip {\n                            \n                        }\n                       .foliumtooltip table{\n                            margin: auto;\n                        }\n                        .foliumtooltip tr{\n                            text-align: left;\n                        }\n                        .foliumtooltip th{\n                            padding: 2px; padding-right: 8px;\n                        }\n                    &lt;/style&gt;\n            \n    &lt;script src=&quot;https://cdnjs.cloudflare.com/ajax/libs/d3/3.5.5/d3.min.js&quot;&gt;&lt;/script&gt;\n&lt;/head&gt;\n&lt;body&gt;\n    \n    \n            &lt;div class=&quot;folium-map&quot; id=&quot;map_8f4f1a75926c3935950dbc46779c481b&quot; &gt;&lt;/div&gt;\n        \n&lt;/body&gt;\n&lt;script&gt;\n    \n    \n            var map_8f4f1a75926c3935950dbc46779c481b = L.map(\n                &quot;map_8f4f1a75926c3935950dbc46779c481b&quot;,\n                {\n                    center: [50.0, 10.0],\n                    crs: L.CRS.EPSG3857,\n                    zoom: 4,\n                    zoomControl: true,\n                    preferCanvas: false,\n                }\n            );\n\n            \n\n        \n    \n            var tile_layer_1ba6b9401ef9c940a38b2314ec08fcdb = L.tileLayer(\n                &quot;https://cartodb-basemaps-{s}.global.ssl.fastly.net/light_all/{z}/{x}/{y}.png&quot;,\n                {&quot;attribution&quot;: &quot;\\u0026copy; \\u003ca target=\\&quot;_blank\\&quot; href=\\&quot;http://www.openstreetmap.org/copyright\\&quot;\\u003eOpenStreetMap\\u003c/a\\u003e contributors \\u0026copy; \\u003ca target=\\&quot;_blank\\&quot; href=\\&quot;http://cartodb.com/attributions\\&quot;\\u003eCartoDB\\u003c/a\\u003e, CartoDB \\u003ca target=\\&quot;_blank\\&quot; href =\\&quot;http://cartodb.com/attributions\\&quot;\\u003eattributions\\u003c/a\\u003e&quot;, &quot;detectRetina&quot;: false, &quot;maxNativeZoom&quot;: 18, &quot;maxZoom&quot;: 18, &quot;minZoom&quot;: 0, &quot;noWrap&quot;: false, &quot;opacity&quot;: 1, &quot;subdomains&quot;: &quot;abc&quot;, &quot;tms&quot;: false}\n            ).addTo(map_8f4f1a75926c3935950dbc46779c481b);\n        \n    \n            var choropleth_01794c9d04acd24621c24505f1af1786 = L.featureGroup(\n                {}\n            ).addTo(map_8f4f1a75926c3935950dbc46779c481b);\n        \n    \n        function geo_json_1a2472f733d604ff2f842c566fd01f3a_styler(feature) {\n            switch(feature.id) {\n                case &quot;21&quot;: case &quot;43&quot;: case &quot;110&quot;: case &quot;113&quot;: case &quot;118&quot;: case &quot;132&quot;: case &quot;151&quot;: case &quot;153&quot;: \n                    return {&quot;color&quot;: &quot;black&quot;, &quot;fillColor&quot;: &quot;#78c679&quot;, &quot;fillOpacity&quot;: 0.7, &quot;opacity&quot;: 0.2, &quot;weight&quot;: 1};\n                case &quot;114&quot;: case &quot;121&quot;: case &quot;150&quot;: \n                    return {&quot;color&quot;: &quot;black&quot;, &quot;fillColor&quot;: &quot;#006837&quot;, &quot;fillOpacity&quot;: 0.7, &quot;opacity&quot;: 0.2, &quot;weight&quot;: 1};\n                case &quot;117&quot;: case &quot;172&quot;: case &quot;173&quot;: \n                    return {&quot;color&quot;: &quot;black&quot;, &quot;fillColor&quot;: &quot;#ffffcc&quot;, &quot;fillOpacity&quot;: 0.7, &quot;opacity&quot;: 0.2, &quot;weight&quot;: 1};\n                case &quot;119&quot;: case &quot;123&quot;: case &quot;125&quot;: case &quot;144&quot;: \n                    return {&quot;color&quot;: &quot;black&quot;, &quot;fillColor&quot;: &quot;#d9f0a3&quot;, &quot;fillOpacity&quot;: 0.7, &quot;opacity&quot;: 0.2, &quot;weight&quot;: 1};\n                case &quot;127&quot;: case &quot;128&quot;: case &quot;129&quot;: case &quot;130&quot;: case &quot;152&quot;: \n                    return {&quot;color&quot;: &quot;black&quot;, &quot;fillColor&quot;: &quot;#31a354&quot;, &quot;fillOpacity&quot;: 0.7, &quot;opacity&quot;: 0.2, &quot;weight&quot;: 1};\n                default:\n                    return {&quot;color&quot;: &quot;black&quot;, &quot;fillColor&quot;: &quot;#addd8e&quot;, &quot;fillOpacity&quot;: 0.7, &quot;opacity&quot;: 0.2, &quot;weight&quot;: 1};\n            }\n        }\n\n        function geo_json_1a2472f733d604ff2f842c566fd01f3a_onEachFeature(feature, layer) {\n            layer.on({\n            });\n        };\n        var geo_json_1a2472f733d604ff2f842c566fd01f3a = L.geoJson(null, {\n                onEachFeature: geo_json_1a2472f733d604ff2f842c566fd01f3a_onEachFeature,\n            \n                style: geo_json_1a2472f733d604ff2f842c566fd01f3a_styler,\n        });\n\n        function geo_json_1a2472f733d604ff2f842c566fd01f3a_add (data) {\n            geo_json_1a2472f733d604ff2f842c566fd01f3a\n                .addData(data)\n                .addTo(choropleth_01794c9d04acd24621c24505f1af1786);\n        }\n            geo_json_1a2472f733d604ff2f842c566fd01f3a_add({&quot;bbox&quot;: [-54.524754197799716, 2.0533891870159806, 31.516092156711125, 80.65714427359343], &quot;features&quot;: [{&quot;bbox&quot;: [4.992078077828978, 58.078884182357285, 31.293418409965454, 80.65714427359343], &quot;geometry&quot;: {&quot;coordinates&quot;: [[[[15.142820000000002, 79.67431], [15.52255, 80.01608], [16.990850000000002, 80.05086], [18.25183, 79.70175], [21.54383, 78.95611], [19.02737, 78.5626], [18.47172, 77.82669], [17.59441, 77.63796], [17.1182, 76.80941], [15.91315, 76.77045], [13.76259, 77.38035], [14.669560000000002, 77.73565], [13.1706, 78.02493], [11.22231, 78.8693], [10.44453, 79.65239], [13.170770000000001, 80.01046000000001], [13.71852, 79.66039], [15.142820000000002, 79.67431]]], [[[31.101042202597625, 69.55810108805622], [29.399550000000033, 69.15692000000013], [28.591929559043194, 69.06477692328666], [29.015572950971972, 69.76649119737799], [27.732292107867863, 70.16419302029625], [26.179622023226244, 69.82529897732614], [25.689212680776365, 69.09211375596904], [24.735679152126725, 68.64955678982146], [23.66204959483076, 68.89124746365054], [22.356237827247412, 68.84174144151491], [21.244936150810673, 69.37044302029308], [20.645592889089528, 69.10624726020087], [20.025268995857886, 69.0651386583127], [19.878559604581255, 68.40719432237258], [17.993868442464333, 68.56739126247736], [17.729181756265348, 68.01055186631628], [16.768878614985482, 68.0139366726314], [16.108712192456778, 67.30245555283689], [15.108411492583002, 66.19386688909547], [13.55568973150909, 64.78702769638151], [13.919905226302204, 64.44542064071608], [13.571916131248713, 64.04911408146971], [12.579935336973934, 64.06621898055833], [11.930569288794231, 63.12831757267698], [11.992064243221563, 61.80036245385655], [12.631146681375185, 61.293571682370136], [12.3003658382749, 60.11793284773003], [11.468271925511146, 59.43239329694604], [11.027368605196868, 58.85614940045936], [10.356556837616067, 59.469807033925356], [8.382000359743586, 58.313288479233215], [7.048748406613271, 58.078884182357285], [5.665835402050419, 58.5881554225937], [5.308234490590678, 59.663231919993834], [4.992078077828978, 61.97099803328432], [5.912900424837886, 62.614472968182724], [8.553411085655739, 63.45400828719648], [10.527709181366758, 64.4860383164975], [12.358346795306373, 65.87972585719318], [14.761145867581604, 67.81064158799516], [16.435927361728943, 68.56320547146173], [19.18402835457846, 69.81744415961778], [21.378416375420585, 70.2551693793461], [23.023742303161526, 70.2020718451662], [24.546543409938465, 71.03049673123722], [26.37004967622181, 70.98626170519539], [28.165547316202943, 71.18547435168055], [31.293418409965454, 70.4537877468599], [30.005435011522792, 70.18625885688489], [31.101042202597625, 69.55810108805622]]], [[[27.407505730913446, 80.05640574820042], [25.92465050629815, 79.51783397085451], [23.024465773213617, 79.40001170522903], [20.075188429451828, 79.56682322866722], [19.897266473070914, 79.84236196564747], [18.462263624757867, 79.85988027619443], [17.368015170977458, 80.31889618602698], [20.45599205901064, 80.59815562613225], [21.907944777115404, 80.35767934846204], [22.91925255706738, 80.65714427359343], [25.447625359811866, 80.40734039989452], [27.407505730913446, 80.05640574820042]]], [[[24.724120000000003, 77.85385], [22.490320000000004, 77.44493], [20.726010000000002, 77.67704], [21.416110000000003, 77.93504], [20.8119, 78.25463], [22.884259999999998, 78.45494000000001], [23.281340000000004, 78.07954], [24.724120000000003, 77.85385]]]], &quot;type&quot;: &quot;MultiPolygon&quot;}, &quot;id&quot;: &quot;21&quot;, &quot;properties&quot;: {&quot;2021&quot;: 38.2, &quot;continent&quot;: &quot;Europe&quot;, &quot;gdp_md_est&quot;: 403336, &quot;iso_a3&quot;: &quot;NOR&quot;, &quot;name&quot;: &quot;Norway&quot;, &quot;pop_est&quot;: 5347896.0}, &quot;type&quot;: &quot;Feature&quot;}, {&quot;bbox&quot;: [-54.524754197799716, 2.0533891870159806, 9.560016310269134, 51.14850617126183], &quot;geometry&quot;: {&quot;coordinates&quot;: [[[[-51.65779741067889, 4.156232408053029], [-52.249337531123956, 3.241094468596245], [-52.55642473001842, 2.504705308437053], [-52.939657151894956, 2.1248576928756364], [-53.41846513529531, 2.0533891870159806], [-53.554839240113544, 2.334896551925951], [-53.77852067728892, 2.3767027856500818], [-54.08806250671725, 2.105556545414629], [-54.524754197799716, 2.3118488631237852], [-54.2697051662232, 2.7323916691150463], [-54.181726040246275, 3.1897797713304215], [-54.00693050801901, 3.6200377465925584], [-54.399542202356514, 4.212611395683467], [-54.47863298197923, 4.896755682795586], [-53.9580446030709, 5.756548163267765], [-53.618452928264844, 5.6465290389183735], [-52.88214128275409, 5.409850979021584], [-51.8233428615259, 4.565768133966131], [-51.65779741067889, 4.156232408053029]]], [[[6.186320428094177, 49.463802802114515], [6.658229607783568, 49.20195831969157], [8.099278598674744, 49.01778351500333], [7.593676385131062, 48.33301911070372], [7.466759067422231, 47.62058197691181], [7.192202182655507, 47.44976552997102], [6.736571079138059, 47.541801255882845], [6.768713820023606, 47.2877082383037], [6.037388950229001, 46.725778713561866], [6.022609490593538, 46.27298981382047], [6.5000997249704255, 46.42967275652944], [6.843592970414505, 45.99114655210061], [6.802355177445605, 45.70857982032864], [7.096652459347837, 45.33309886329589], [6.749955275101655, 45.02851797136758], [7.007562290076635, 44.25476675066136], [7.549596388386107, 44.12790110938481], [7.435184767291872, 43.69384491634922], [6.52924523278304, 43.128892320318315], [4.556962517931424, 43.399650987311595], [3.1004105973526634, 43.075200507167054], [2.9859989762584576, 42.47301504166986], [1.8267932470871528, 42.34338471126569], [0.7015906103638941, 42.795734361332606], [0.3380469091905809, 42.57954600683955], [-1.502770961910528, 43.03401439063043], [-1.901351284177764, 43.42280202897834], [-1.384225226232985, 44.022610378590116], [-1.1937975732374184, 46.01491771095486], [-2.2257242496738456, 47.06436269793822], [-2.9632761295596026, 47.57032664650795], [-4.4915549381594815, 47.954954332056374], [-4.592349819344776, 48.68416046812699], [-3.295813971357802, 48.90169240985963], [-1.6165107893849608, 48.64442129169454], [-1.933494025063311, 49.776341864615745], [-0.98946895995536, 49.34737580016091], [1.3387610205226963, 50.12717316344526], [1.6390010921384996, 50.9466063502975], [2.5135730322461427, 51.14850617126183], [2.658422071960274, 50.796848049515745], [3.1232515804256877, 50.78036326761455], [3.588184441755658, 50.37899241800356], [4.2860229834250845, 49.907496649772554], [4.799221632515724, 49.98537303323637], [5.674051954784829, 49.529483547557504], [5.897759230176348, 49.44266714130711], [6.186320428094177, 49.463802802114515]]], [[[8.746009148807559, 42.62812185319392], [9.390000848028876, 43.00998484961471], [9.560016310269134, 42.15249197037952], [9.229752231491773, 41.380006822264455], [8.775723097375362, 41.58361196549443], [8.544212680707773, 42.25651662858306], [8.746009148807559, 42.62812185319392]]]], &quot;type&quot;: &quot;MultiPolygon&quot;}, &quot;id&quot;: &quot;43&quot;, &quot;properties&quot;: {&quot;2021&quot;: 45.1, &quot;continent&quot;: &quot;Europe&quot;, &quot;gdp_md_est&quot;: 2715518, &quot;iso_a3&quot;: &quot;FRA&quot;, &quot;name&quot;: &quot;France&quot;, &quot;pop_est&quot;: 67059887.0}, &quot;type&quot;: &quot;Feature&quot;}, {&quot;bbox&quot;: [11.027368605196868, 55.36173737245058, 23.903378533633802, 69.10624726020087], &quot;geometry&quot;: {&quot;coordinates&quot;: [[[11.027368605196868, 58.85614940045936], [11.468271925511146, 59.43239329694604], [12.3003658382749, 60.11793284773003], [12.631146681375185, 61.293571682370136], [11.992064243221563, 61.80036245385655], [11.930569288794231, 63.12831757267698], [12.579935336973934, 64.06621898055833], [13.571916131248713, 64.04911408146971], [13.919905226302204, 64.44542064071608], [13.55568973150909, 64.78702769638151], [15.108411492583002, 66.19386688909547], [16.108712192456778, 67.30245555283689], [16.768878614985482, 68.0139366726314], [17.729181756265348, 68.01055186631628], [17.993868442464333, 68.56739126247736], [19.878559604581255, 68.40719432237258], [20.025268995857886, 69.0651386583127], [20.645592889089528, 69.10624726020087], [21.978534783626117, 68.6168456081807], [23.53947309743444, 67.93600861273525], [23.565879754335583, 66.39605093043743], [23.903378533633802, 66.00692739527962], [22.18317345550193, 65.72374054632017], [21.21351687997722, 65.02600535751527], [21.369631381930958, 64.41358795842429], [19.77887576669022, 63.60955434839504], [17.84777916837521, 62.74940013289681], [17.119554884518124, 61.34116567651097], [17.83134606290639, 60.63658336042741], [18.78772179533209, 60.081914374422595], [17.86922488777634, 58.9537661810587], [16.829185011470088, 58.71982697207339], [16.447709588291474, 57.041118069071885], [15.879785597403783, 56.10430186626866], [14.666681349352075, 56.200885118222175], [14.100721062891465, 55.40778107362265], [12.942910597392057, 55.36173737245058], [12.625100538797028, 56.30708018658197], [11.787942335668674, 57.44181712506307], [11.027368605196868, 58.85614940045936]]], &quot;type&quot;: &quot;Polygon&quot;}, &quot;id&quot;: &quot;110&quot;, &quot;properties&quot;: {&quot;2021&quot;: 39.5, &quot;continent&quot;: &quot;Europe&quot;, &quot;gdp_md_est&quot;: 530883, &quot;iso_a3&quot;: &quot;SWE&quot;, &quot;name&quot;: &quot;Sweden&quot;, &quot;pop_est&quot;: 10285453.0}, &quot;type&quot;: &quot;Feature&quot;}, {&quot;bbox&quot;: [14.074521111719434, 49.02739533140962, 24.029985792748903, 54.85153595643291], &quot;geometry&quot;: {&quot;coordinates&quot;: [[[23.48412763844985, 53.91249766704114], [23.527535841575002, 53.470121568406555], [23.80493493011778, 53.089731350306074], [23.79919884613338, 52.69109935160657], [23.199493849386187, 52.48697744405367], [23.508002150168693, 52.02364655212473], [23.52707075368437, 51.57845408793031], [24.029985792748903, 50.70540660257518], [23.92275719574326, 50.42488108987874], [23.426508416444392, 50.30850576435745], [22.518450148211603, 49.47677358661974], [22.776418898212626, 49.02739533140962], [22.558137648211755, 49.085738023467144], [21.607808058364213, 49.47010732685409], [20.887955356538413, 49.32877228453583], [20.415839471119853, 49.43145335549977], [19.825022820726872, 49.21712535256923], [19.320712517990472, 49.571574001659194], [18.90957482267632, 49.435845852244576], [18.853144158613617, 49.49622976337764], [18.392913852622172, 49.98862864847075], [17.64944502123899, 50.049038397819956], [17.55456709155112, 50.36214590107642], [16.86876915860566, 50.47397370055603], [16.719475945714436, 50.21574656839354], [16.176253289462267, 50.42260732685791], [16.23862674323857, 50.69773265237984], [15.490972120839729, 50.78472992614321], [15.01699588385867, 51.10667409932158], [14.607098422919535, 51.74518809671997], [14.685026482815687, 52.0899474147552], [14.437599725002201, 52.62485016540839], [14.074521111719434, 52.98126251892535], [14.353315463934138, 53.24817129171297], [14.119686313542559, 53.75702912049104], [14.802900424873458, 54.05070628520575], [16.36347700365573, 54.513158677785725], [17.622831658608675, 54.85153595643291], [18.62085859546164, 54.68260569927078], [18.696254510175464, 54.43871877706929], [19.660640089606403, 54.42608388937393], [20.892244500418627, 54.31252492941253], [22.731098667092652, 54.327536932993326], [23.24398725758951, 54.22056671814914], [23.48412763844985, 53.91249766704114]]], &quot;type&quot;: &quot;Polygon&quot;}, &quot;id&quot;: &quot;113&quot;, &quot;properties&quot;: {&quot;2021&quot;: 40.3, &quot;continent&quot;: &quot;Europe&quot;, &quot;gdp_md_est&quot;: 595858, &quot;iso_a3&quot;: &quot;POL&quot;, &quot;name&quot;: &quot;Poland&quot;, &quot;pop_est&quot;: 37970874.0}, &quot;type&quot;: &quot;Feature&quot;}, {&quot;bbox&quot;: [9.479969516649021, 46.43181732846955, 16.979666782304037, 49.03907420510758], &quot;geometry&quot;: {&quot;coordinates&quot;: [[[16.979666782304037, 48.123497015976305], [16.90375410326726, 47.71486562762833], [16.340584344150415, 47.71290192320123], [16.534267612380376, 47.49617096616912], [16.202298211337364, 46.85238597267696], [16.011663852612656, 46.6836107448117], [15.137091912504985, 46.65870270444703], [14.63247155117483, 46.43181732846955], [13.806475457421527, 46.509306138691215], [12.376485223040817, 46.76755910906985], [12.153088006243054, 47.11539317482645], [11.16482791509327, 46.94157949481273], [11.048555942436536, 46.75135854754634], [10.44270145024663, 46.89354625099743], [9.932448357796659, 46.92072805438296], [9.479969516649021, 47.102809963563374], [9.632931756232978, 47.34760122332999], [9.59422610844635, 47.52505809182027], [9.89606814946319, 47.580196845075704], [10.402083774465211, 47.30248769793916], [10.544504021861599, 47.5663992376538], [11.426414015354737, 47.523766181012974], [12.141357456112788, 47.703083401065776], [12.620759718484493, 47.67238760028441], [12.932626987365948, 47.467645575544], [13.02585127122049, 47.63758352313583], [12.884102817443875, 48.28914581968786], [13.243357374737, 48.416114813829054], [13.595945672264437, 48.87717194273715], [14.338897739324722, 48.55530528420721], [14.901447381254057, 48.964401760445824], [15.253415561593982, 49.03907420510758], [16.02964725105022, 48.73389903420793], [16.499282667718774, 48.78580801044511], [16.960288120194576, 48.5969823268506], [16.879982944413, 48.47001333270947], [16.979666782304037, 48.123497015976305]]], &quot;type&quot;: &quot;Polygon&quot;}, &quot;id&quot;: &quot;114&quot;, &quot;properties&quot;: {&quot;2021&quot;: 59.66, &quot;continent&quot;: &quot;Europe&quot;, &quot;gdp_md_est&quot;: 445075, &quot;iso_a3&quot;: &quot;AUT&quot;, &quot;name&quot;: &quot;Austria&quot;, &quot;pop_est&quot;: 8877067.0}, &quot;type&quot;: &quot;Feature&quot;}, {&quot;bbox&quot;: [16.202298211337364, 45.75948110613615, 22.710531447040495, 48.623854071642384], &quot;geometry&quot;: {&quot;coordinates&quot;: [[[22.085608351334855, 48.42226430927179], [22.640819939878725, 48.150239569687415], [22.710531447040495, 47.88219391538941], [22.099767693782837, 47.6724392767167], [21.626514926853872, 46.99423777931816], [21.02195234547125, 46.3160879583519], [20.220192498462836, 46.127468980486555], [19.596044549241583, 46.17172984474454], [18.82983808764996, 45.90887767189193], [18.829824792873946, 45.908872358025285], [18.45606245288286, 45.75948110613615], [17.630066359129557, 45.95176911069419], [16.8825150895953, 46.38063182228444], [16.564808383864857, 46.50375092221983], [16.370504998447416, 46.841327216166505], [16.202298211337364, 46.85238597267696], [16.534267612380376, 47.49617096616912], [16.340584344150415, 47.71290192320123], [16.90375410326726, 47.71486562762833], [16.979666782304037, 48.123497015976305], [17.48847293464982, 47.867466132186216], [17.857132602620027, 47.75842886005037], [18.696512892336926, 47.880953681014404], [18.77702477384767, 48.081768296900634], [19.17436486173989, 48.11137889260387], [19.661363559658497, 48.26661489520866], [19.769470656013112, 48.202691148463614], [20.239054396249347, 48.32756724709692], [20.473562045989866, 48.562850043321816], [20.801293979584926, 48.623854071642384], [21.872236362401736, 48.31997081155002], [22.085608351334855, 48.42226430927179]]], &quot;type&quot;: &quot;Polygon&quot;}, &quot;id&quot;: &quot;115&quot;, &quot;properties&quot;: {&quot;2021&quot;: 34.9, &quot;continent&quot;: &quot;Europe&quot;, &quot;gdp_md_est&quot;: 163469, &quot;iso_a3&quot;: &quot;HUN&quot;, &quot;name&quot;: &quot;Hungary&quot;, &quot;pop_est&quot;: 9769949.0}, &quot;type&quot;: &quot;Feature&quot;}, {&quot;bbox&quot;: [20.220192498462836, 43.68844472917472, 29.62654340995877, 48.22088125263035], &quot;geometry&quot;: {&quot;coordinates&quot;: [[[28.23355350109904, 45.48828318946829], [28.67977949393938, 45.304030870131704], [29.149724969201653, 45.464925442072456], [29.603289015427436, 45.293308010431126], [29.62654340995877, 45.0353909368624], [29.141611769331835, 44.820210272799045], [28.8378577003202, 44.913873806328056], [28.558081495891997, 43.70746165625813], [27.970107049275075, 43.81246816667522], [27.242399529740908, 44.175986029632405], [26.065158725699746, 43.94349376075127], [25.569271681426926, 43.68844472917472], [24.100679152124172, 43.74105133724785], [23.332302280376325, 43.897010809904714], [22.944832391051847, 43.82378530534713], [22.65714969248299, 44.23492300066128], [22.4740084164406, 44.40922760678177], [22.705725538837356, 44.57800283464702], [22.459022251075936, 44.7025171982543], [22.14508792490281, 44.47842234962059], [21.56202273935361, 44.7689472519655], [21.48352623870221, 45.18117015235788], [20.874312778413355, 45.416375433934235], [20.762174920339987, 45.734573065771485], [20.220192498462836, 46.127468980486555], [21.02195234547125, 46.3160879583519], [21.626514926853872, 46.99423777931816], [22.099767693782837, 47.6724392767167], [22.710531447040495, 47.88219391538941], [23.142236362406805, 48.09634105080695], [23.76095828623741, 47.985598456405455], [24.40205610525038, 47.98187775328043], [24.866317172960578, 47.737525743188314], [25.20774336111299, 47.89105642352747], [25.9459411964024, 47.987148749374214], [26.19745039236693, 48.22088125263035], [26.619336785597795, 48.22072622333347], [26.924176059687568, 48.123264472030996], [27.233872918412743, 47.82677094175638], [27.551166212684848, 47.40511709247083], [28.128030226359044, 46.810476386088254], [28.160017937947714, 46.37156260841722], [28.0544429867754, 45.944586086605625], [28.23355350109904, 45.48828318946829]]], &quot;type&quot;: &quot;Polygon&quot;}, &quot;id&quot;: &quot;117&quot;, &quot;properties&quot;: {&quot;2021&quot;: 11.3, &quot;continent&quot;: &quot;Europe&quot;, &quot;gdp_md_est&quot;: 250077, &quot;iso_a3&quot;: &quot;ROU&quot;, &quot;name&quot;: &quot;Romania&quot;, &quot;pop_est&quot;: 19356544.0}, &quot;type&quot;: &quot;Feature&quot;}, {&quot;bbox&quot;: [21.055800408622417, 53.905702216194754, 26.58827924979039, 56.37252838807963], &quot;geometry&quot;: {&quot;coordinates&quot;: [[[26.494331495883756, 55.615106919977634], [26.58827924979039, 55.16717560487167], [25.7684326514798, 54.84696259217509], [25.536353794056993, 54.28242340760253], [24.450683628037037, 53.905702216194754], [23.48412763844985, 53.91249766704114], [23.24398725758951, 54.22056671814914], [22.731098667092652, 54.327536932993326], [22.65105187347254, 54.582740993866736], [22.75776370615526, 54.85657440858138], [22.315723504330577, 55.015298570365864], [21.268448927503467, 55.190481675835315], [21.055800408622417, 56.031076361711065], [22.201156853939494, 56.33780182557949], [23.878263787539964, 56.27367137310527], [24.86068444184076, 56.37252838807963], [25.000934279080894, 56.16453074810484], [25.533046502390334, 56.100296942766036], [26.494331495883756, 55.615106919977634]]], &quot;type&quot;: &quot;Polygon&quot;}, &quot;id&quot;: &quot;118&quot;, &quot;properties&quot;: {&quot;2021&quot;: 44.3, &quot;continent&quot;: &quot;Europe&quot;, &quot;gdp_md_est&quot;: 54627, &quot;iso_a3&quot;: &quot;LTU&quot;, &quot;name&quot;: &quot;Lithuania&quot;, &quot;pop_est&quot;: 2786844.0}, &quot;type&quot;: &quot;Feature&quot;}, {&quot;bbox&quot;: [21.055800408622417, 55.615106919977634, 28.17670942557794, 57.97015696881519], &quot;geometry&quot;: {&quot;coordinates&quot;: [[[27.288184848751513, 57.47452830670383], [27.77001590344093, 57.24425812441123], [27.855282016722526, 56.75932648378429], [28.17670942557794, 56.16912995057879], [27.10245975109453, 55.783313707087686], [26.494331495883756, 55.615106919977634], [25.533046502390334, 56.100296942766036], [25.000934279080894, 56.16453074810484], [24.86068444184076, 56.37252838807963], [23.878263787539964, 56.27367137310527], [22.201156853939494, 56.33780182557949], [21.055800408622417, 56.031076361711065], [21.090423618257972, 56.78387278912294], [21.581866489353672, 57.411870632549935], [22.52434126149288, 57.75337433535076], [23.318452996522097, 57.00623647727487], [24.12072960785343, 57.02569265403277], [24.312862583114622, 57.79342357037697], [25.16459354014927, 57.97015696881519], [25.60280968598437, 57.84752879498657], [26.463532342237787, 57.47638865826633], [27.288184848751513, 57.47452830670383]]], &quot;type&quot;: &quot;Polygon&quot;}, &quot;id&quot;: &quot;119&quot;, &quot;properties&quot;: {&quot;2021&quot;: 14.58, &quot;continent&quot;: &quot;Europe&quot;, &quot;gdp_md_est&quot;: 34102, &quot;iso_a3&quot;: &quot;LVA&quot;, &quot;name&quot;: &quot;Latvia&quot;, &quot;pop_est&quot;: 1912789.0}, &quot;type&quot;: &quot;Feature&quot;}, {&quot;bbox&quot;: [23.339795363058645, 57.47452830670383, 28.13169925305175, 59.61109039981133], &quot;geometry&quot;: {&quot;coordinates&quot;: [[[27.981126857000987, 59.47537333432527], [27.981120000000033, 59.47537000000011], [28.13169925305175, 59.300825100330925], [27.42015000000015, 58.72457000000014], [27.71668582531572, 57.79189911562436], [27.288184848751513, 57.47452830670383], [26.463532342237787, 57.47638865826633], [25.60280968598437, 57.84752879498657], [25.16459354014927, 57.97015696881519], [24.312862583114622, 57.79342357037697], [24.42892785004216, 58.38341339785329], [24.061198357853186, 58.25737457949341], [23.426560092876684, 58.612753404364625], [23.339795363058645, 59.187240302153384], [24.604214308376186, 59.46585378685502], [25.86418908051664, 59.61109039981133], [26.949135776484525, 59.445803331125774], [27.981114129353244, 59.475388088612874], [27.981126857000987, 59.47537333432527]]], &quot;type&quot;: &quot;Polygon&quot;}, &quot;id&quot;: &quot;120&quot;, &quot;properties&quot;: {&quot;2021&quot;: 30.3, &quot;continent&quot;: &quot;Europe&quot;, &quot;gdp_md_est&quot;: 31471, &quot;iso_a3&quot;: &quot;EST&quot;, &quot;name&quot;: &quot;Estonia&quot;, &quot;pop_est&quot;: 1326590.0}, &quot;type&quot;: &quot;Feature&quot;}, {&quot;bbox&quot;: [5.988658074577813, 47.30248769793916, 15.01699588385867, 54.98310415304803], &quot;geometry&quot;: {&quot;coordinates&quot;: [[[14.119686313542559, 53.75702912049104], [14.353315463934138, 53.24817129171297], [14.074521111719434, 52.98126251892535], [14.437599725002201, 52.62485016540839], [14.685026482815687, 52.0899474147552], [14.607098422919535, 51.74518809671997], [15.01699588385867, 51.10667409932158], [14.570718214586066, 51.002339382524276], [14.307013380600637, 51.117267767941414], [14.056227654688172, 50.9269176295943], [13.338131951560285, 50.73323436136435], [12.966836785543194, 50.484076443069085], [12.240111118222558, 50.266337795607285], [12.415190870827445, 49.96912079528057], [12.521024204161193, 49.547415269562734], [13.031328973043431, 49.30706818297324], [13.595945672264437, 48.87717194273715], [13.243357374737, 48.416114813829054], [12.884102817443875, 48.28914581968786], [13.02585127122049, 47.63758352313583], [12.932626987365948, 47.467645575544], [12.620759718484493, 47.67238760028441], [12.141357456112788, 47.703083401065776], [11.426414015354737, 47.523766181012974], [10.544504021861599, 47.5663992376538], [10.402083774465211, 47.30248769793916], [9.89606814946319, 47.580196845075704], [9.59422610844635, 47.52505809182027], [8.522611932009767, 47.83082754169129], [8.317301466514095, 47.61357982033627], [7.466759067422231, 47.62058197691181], [7.593676385131062, 48.33301911070372], [8.099278598674744, 49.01778351500333], [6.658229607783568, 49.20195831969157], [6.186320428094177, 49.463802802114515], [6.242751092156993, 49.90222565367873], [6.043073357781111, 50.128051662794235], [6.15665815595878, 50.80372101501058], [5.988658074577813, 51.851615709025054], [6.589396599970826, 51.852029120483394], [6.842869500362383, 52.22844025329755], [7.092053256873896, 53.144043280644894], [6.905139601274129, 53.48216217713065], [7.100424838905269, 53.69393219666267], [7.936239454793963, 53.74829580343379], [8.121706170289485, 53.52779246684429], [8.800734490604668, 54.020785630908904], [8.57211795414537, 54.39564647075406], [8.526229282270208, 54.96274363872516], [9.282048780971138, 54.830865383516176], [9.921906365609118, 54.98310415304803], [9.9395797054529, 54.596641954153256], [10.950112338920519, 54.363607082733154], [10.93946699386845, 54.00869334575259], [11.956252475643282, 54.19648550070116], [12.518440382546714, 54.470370591847995], [13.647467075259499, 54.0755109727059], [14.119686313542559, 53.75702912049104]]], &quot;type&quot;: &quot;Polygon&quot;}, &quot;id&quot;: &quot;121&quot;, &quot;properties&quot;: {&quot;2021&quot;: 71.1, &quot;continent&quot;: &quot;Europe&quot;, &quot;gdp_md_est&quot;: 3861123, &quot;iso_a3&quot;: &quot;DEU&quot;, &quot;name&quot;: &quot;Germany&quot;, &quot;pop_est&quot;: 83132799.0}, &quot;type&quot;: &quot;Feature&quot;}, {&quot;bbox&quot;: [22.380525750424592, 41.23448598893053, 28.558081495891997, 44.23492300066128], &quot;geometry&quot;: {&quot;coordinates&quot;: [[[22.65714969248299, 44.23492300066128], [22.944832391051847, 43.82378530534713], [23.332302280376325, 43.897010809904714], [24.100679152124172, 43.74105133724785], [25.569271681426926, 43.68844472917472], [26.065158725699746, 43.94349376075127], [27.242399529740908, 44.175986029632405], [27.970107049275075, 43.81246816667522], [28.558081495891997, 43.70746165625813], [28.03909508638472, 43.293171698574184], [27.67389773937805, 42.57789236100622], [27.99672041190539, 42.00735871028779], [27.13573937349048, 42.14148489030134], [26.1170418637208, 41.82690460872456], [26.106138136507127, 41.32889883072784], [25.197201368925448, 41.23448598893053], [24.492644891057978, 41.58389618587205], [23.692073601992348, 41.309080918943856], [22.952377150166452, 41.33799388281115], [22.881373732197346, 41.999297186850356], [22.380525750424592, 42.32025950781509], [22.54501183440962, 42.46136200618804], [22.43659467946128, 42.580321153323936], [22.60480146657133, 42.898518785161144], [22.986018507588483, 43.2111612005271], [22.500156691180223, 43.642814439461006], [22.410446404721597, 44.008063462899955], [22.65714969248299, 44.23492300066128]]], &quot;type&quot;: &quot;Polygon&quot;}, &quot;id&quot;: &quot;122&quot;, &quot;properties&quot;: {&quot;2021&quot;: 25.41, &quot;continent&quot;: &quot;Europe&quot;, &quot;gdp_md_est&quot;: 68558, &quot;iso_a3&quot;: &quot;BGR&quot;, &quot;name&quot;: &quot;Bulgaria&quot;, &quot;pop_est&quot;: 6975761.0}, &quot;type&quot;: &quot;Feature&quot;}, {&quot;bbox&quot;: [20.15001590341052, 34.91998769788964, 26.60419559093623, 41.82690460872456], &quot;geometry&quot;: {&quot;coordinates&quot;: [[[[26.290002882601698, 35.29999034274793], [26.16499759288766, 35.00499542900977], [24.724982130642303, 34.91998769788964], [24.735007358506916, 35.08499054619759], [23.51497846852808, 35.27999156345098], [23.699980096133004, 35.70500438083549], [24.246665073348705, 35.368022365860185], [25.02501549652891, 35.42499563246197], [25.769207797964185, 35.35401805270908], [25.745023227651586, 35.1799976669662], [26.290002882601698, 35.29999034274793]]], [[[22.952377150166452, 41.33799388281115], [23.692073601992348, 41.309080918943856], [24.492644891057978, 41.58389618587205], [25.197201368925448, 41.23448598893053], [26.106138136507127, 41.32889883072784], [26.1170418637208, 41.82690460872456], [26.60419559093623, 41.562114569661105], [26.294602085075667, 40.93626129817413], [26.05694217296534, 40.82412344010076], [25.44767703624416, 40.85254547786144], [24.92584842296094, 40.947061672523205], [23.71481123220076, 40.687129218095095], [24.40799889496401, 40.12499298762407], [23.899967889102584, 39.96200552017552], [23.342999301860743, 39.96099782974579], [22.813987664488934, 40.476005153966526], [22.626298862404724, 40.25656118423916], [22.84974775563478, 39.659310818025745], [23.35002729665257, 39.190011298167235], [22.973099399515547, 38.97090322524963], [23.530016310324925, 38.51000112563844], [24.025024855248887, 38.21999298761642], [24.040011020613576, 37.655014553369426], [23.115002882589124, 37.920011298162194], [23.409971958111043, 37.40999074965737], [22.77497195810861, 37.30501007745653], [23.15422529469862, 36.422505804992056], [22.490028110451078, 36.4100001083774], [21.67002648284364, 36.8449864771942], [21.29501061370155, 37.64498932550464], [21.120034213961333, 38.31032339126273], [20.730032179454554, 38.769985256498785], [20.217712029712857, 39.34023468683961], [20.15001590341052, 39.62499766698397], [20.615000441172754, 40.11000682225938], [20.674996779063633, 40.43499990494303], [20.999989861747224, 40.58000397395398], [21.0200403174764, 40.84272695572588], [21.674160597426976, 40.931274522457954], [22.05537763844427, 41.14986583105269], [22.597308383889015, 41.130487168943205], [22.761770000000013, 41.30480000000006], [22.952377150166452, 41.33799388281115]]]], &quot;type&quot;: &quot;MultiPolygon&quot;}, &quot;id&quot;: &quot;123&quot;, &quot;properties&quot;: {&quot;2021&quot;: 15.1, &quot;continent&quot;: &quot;Europe&quot;, &quot;gdp_md_est&quot;: 209852, &quot;iso_a3&quot;: &quot;GRC&quot;, &quot;name&quot;: &quot;Greece&quot;, &quot;pop_est&quot;: 10716322.0}, &quot;type&quot;: &quot;Feature&quot;}, {&quot;bbox&quot;: [19.304486118250793, 39.62499766698397, 21.0200403174764, 42.68824738216557], &quot;geometry&quot;: {&quot;coordinates&quot;: [[[21.0200403174764, 40.84272695572588], [20.999989861747224, 40.58000397395398], [20.674996779063633, 40.43499990494303], [20.615000441172754, 40.11000682225938], [20.15001590341052, 39.62499766698397], [19.980000441170148, 39.69499339452341], [19.960001661873207, 39.91500580500605], [19.406081984136733, 40.250773423822466], [19.319058872157143, 40.72723012955356], [19.40354983895429, 41.40956574153546], [19.540027296637106, 41.71998607031276], [19.37176883309496, 41.877547512370654], [19.37176816334725, 41.877550679783496], [19.304486118250793, 42.19574514420782], [19.73805138517963, 42.68824738216557], [19.801613396898688, 42.50009349219084], [20.070700000000045, 42.58863000000008], [20.283754510181893, 42.32025950781508], [20.522950000000037, 42.21787000000006], [20.590246546680227, 41.855408919283626], [20.59024743010491, 41.855404161133606], [20.463175083099202, 41.51508901627534], [20.605181919037364, 41.086226304685226], [21.0200403174764, 40.84272695572588]]], &quot;type&quot;: &quot;Polygon&quot;}, &quot;id&quot;: &quot;125&quot;, &quot;properties&quot;: {&quot;2021&quot;: 18.7, &quot;continent&quot;: &quot;Europe&quot;, &quot;gdp_md_est&quot;: 15279, &quot;iso_a3&quot;: &quot;ALB&quot;, &quot;name&quot;: &quot;Albania&quot;, &quot;pop_est&quot;: 2854191.0}, &quot;type&quot;: &quot;Feature&quot;}, {&quot;bbox&quot;: [13.656975538801191, 42.47999136002932, 19.39047570158459, 46.50375092221983], &quot;geometry&quot;: {&quot;coordinates&quot;: [[[16.564808383864857, 46.50375092221983], [16.8825150895953, 46.38063182228444], [17.630066359129557, 45.95176911069419], [18.45606245288286, 45.75948110613615], [18.829824792873946, 45.908872358025285], [19.072768995854176, 45.52151113543209], [19.39047570158459, 45.236515611342384], [19.005484597557594, 44.86023449354299], [18.553214145591653, 45.08158966733146], [17.861783481526402, 45.067740383477144], [17.002146030351014, 45.23377676043094], [16.534939406000206, 45.21160757097772], [16.318156772535872, 45.00412669532591], [15.959367303133376, 45.23377676043094], [15.750026075918981, 44.818711656262565], [16.23966027188453, 44.35114329688571], [16.456442905348865, 44.04123973243128], [16.91615644701733, 43.66772247982567], [17.297373488034452, 43.44634064388737], [17.674921502358984, 43.02856252702361], [18.559999999999945, 42.64999999999998], [18.45001688302086, 42.47999224531218], [18.450016310304818, 42.47999136002932], [17.509970330483327, 42.849994615239154], [16.930005730871642, 43.20999848080038], [16.015384555737683, 43.50721548112722], [15.174453973052096, 44.243191229827914], [15.376250441151797, 44.31791535092208], [14.92030927904051, 44.73848399512946], [14.901602410550879, 45.07606028907611], [14.258747592839995, 45.23377676043094], [13.952254672917036, 44.80212352149687], [13.656975538801191, 45.13693512631596], [13.67940311041582, 45.48414907488501], [13.715059848697223, 45.500323798192376], [14.411968214585414, 45.46616567644746], [14.595109490627806, 45.634940904312714], [14.935243767972935, 45.471695054702685], [15.327674594797429, 45.45231639259333], [15.323953891672405, 45.73178253842768], [15.671529575267556, 45.83415355079788], [15.768732944408553, 46.23810822202345], [16.564808383864857, 46.50375092221983]]], &quot;type&quot;: &quot;Polygon&quot;}, &quot;id&quot;: &quot;126&quot;, &quot;properties&quot;: {&quot;2021&quot;: 31.4, &quot;continent&quot;: &quot;Europe&quot;, &quot;gdp_md_est&quot;: 60752, &quot;iso_a3&quot;: &quot;HRV&quot;, &quot;name&quot;: &quot;Croatia&quot;, &quot;pop_est&quot;: 4067500.0}, &quot;type&quot;: &quot;Feature&quot;}, {&quot;bbox&quot;: [6.022609490593538, 45.776947740250776, 10.44270145024663, 47.83082754169129], &quot;geometry&quot;: {&quot;coordinates&quot;: [[[9.59422610844635, 47.52505809182027], [9.632931756232978, 47.34760122332999], [9.479969516649021, 47.102809963563374], [9.932448357796659, 46.92072805438296], [10.44270145024663, 46.89354625099743], [10.363378126678612, 46.48357127540986], [9.922836541390382, 46.31489940040919], [9.182881707403055, 46.44021474871698], [8.966305779667806, 46.03693187111119], [8.489952426801324, 46.005150865251686], [8.31662967289438, 46.16364248309086], [7.7559920589598335, 45.82449005795931], [7.2738509456766565, 45.776947740250776], [6.843592970414505, 45.99114655210061], [6.5000997249704255, 46.42967275652944], [6.022609490593538, 46.27298981382047], [6.037388950229001, 46.725778713561866], [6.768713820023606, 47.2877082383037], [6.736571079138059, 47.541801255882845], [7.192202182655507, 47.44976552997102], [7.466759067422231, 47.62058197691181], [8.317301466514095, 47.61357982033627], [8.522611932009767, 47.83082754169129], [9.59422610844635, 47.52505809182027]]], &quot;type&quot;: &quot;Polygon&quot;}, &quot;id&quot;: &quot;127&quot;, &quot;properties&quot;: {&quot;2021&quot;: 53.3, &quot;continent&quot;: &quot;Europe&quot;, &quot;gdp_md_est&quot;: 703082, &quot;iso_a3&quot;: &quot;CHE&quot;, &quot;name&quot;: &quot;Switzerland&quot;, &quot;pop_est&quot;: 8574832.0}, &quot;type&quot;: &quot;Feature&quot;}, {&quot;bbox&quot;: [5.674051954784829, 49.44266714130711, 6.242751092156993, 50.128051662794235], &quot;geometry&quot;: {&quot;coordinates&quot;: [[[6.043073357781111, 50.128051662794235], [6.242751092156993, 49.90222565367873], [6.186320428094177, 49.463802802114515], [5.897759230176348, 49.44266714130711], [5.674051954784829, 49.529483547557504], [5.782417433300907, 50.09032786722122], [6.043073357781111, 50.128051662794235]]], &quot;type&quot;: &quot;Polygon&quot;}, &quot;id&quot;: &quot;128&quot;, &quot;properties&quot;: {&quot;2021&quot;: 55.3, &quot;continent&quot;: &quot;Europe&quot;, &quot;gdp_md_est&quot;: 71104, &quot;iso_a3&quot;: &quot;LUX&quot;, &quot;name&quot;: &quot;Luxembourg&quot;, &quot;pop_est&quot;: 619896.0}, &quot;type&quot;: &quot;Feature&quot;}, {&quot;bbox&quot;: [2.5135730322461427, 49.529483547557504, 6.15665815595878, 51.47502370869813], &quot;geometry&quot;: {&quot;coordinates&quot;: [[[6.15665815595878, 50.80372101501058], [6.043073357781111, 50.128051662794235], [5.782417433300907, 50.09032786722122], [5.674051954784829, 49.529483547557504], [4.799221632515724, 49.98537303323637], [4.2860229834250845, 49.907496649772554], [3.588184441755658, 50.37899241800356], [3.1232515804256877, 50.78036326761455], [2.658422071960274, 50.796848049515745], [2.5135730322461427, 51.14850617126183], [3.3149711442285366, 51.345780951536085], [3.3150114849641596, 51.34577662473805], [3.3149711442285366, 51.34575511331991], [4.047071160507528, 51.26725861266857], [4.973991326526914, 51.47502370869813], [5.606975945670001, 51.03729848896978], [6.15665815595878, 50.80372101501058]]], &quot;type&quot;: &quot;Polygon&quot;}, &quot;id&quot;: &quot;129&quot;, &quot;properties&quot;: {&quot;2021&quot;: 53.3, &quot;continent&quot;: &quot;Europe&quot;, &quot;gdp_md_est&quot;: 533097, &quot;iso_a3&quot;: &quot;BEL&quot;, &quot;name&quot;: &quot;Belgium&quot;, &quot;pop_est&quot;: 11484055.0}, &quot;type&quot;: &quot;Feature&quot;}, {&quot;bbox&quot;: [3.3149711442285366, 50.80372101501058, 7.092053256873896, 53.510403347378144], &quot;geometry&quot;: {&quot;coordinates&quot;: [[[6.905139601274129, 53.48216217713065], [7.092053256873896, 53.144043280644894], [6.842869500362383, 52.22844025329755], [6.589396599970826, 51.852029120483394], [5.988658074577813, 51.851615709025054], [6.15665815595878, 50.80372101501058], [5.606975945670001, 51.03729848896978], [4.973991326526914, 51.47502370869813], [4.047071160507528, 51.26725861266857], [3.3149711442285366, 51.34575511331991], [3.3150114849641596, 51.34577662473805], [3.8302885270431375, 51.62054454203195], [4.705997348661185, 53.091798407597764], [6.074182570020923, 53.510403347378144], [6.905139601274129, 53.48216217713065]]], &quot;type&quot;: &quot;Polygon&quot;}, &quot;id&quot;: &quot;130&quot;, &quot;properties&quot;: {&quot;2021&quot;: 57.8, &quot;continent&quot;: &quot;Europe&quot;, &quot;gdp_md_est&quot;: 907050, &quot;iso_a3&quot;: &quot;NLD&quot;, &quot;name&quot;: &quot;Netherlands&quot;, &quot;pop_est&quot;: 17332850.0}, &quot;type&quot;: &quot;Feature&quot;}, {&quot;bbox&quot;: [-9.526570603869715, 36.83826854099627, -6.389087693700915, 42.28046865495034], &quot;geometry&quot;: {&quot;coordinates&quot;: [[[-9.034817674180246, 41.880570583659676], [-8.67194576662672, 42.13468943945496], [-8.263856980817792, 42.28046865495034], [-8.013174607769912, 41.790886135417125], [-7.422512986673795, 41.79207469335984], [-7.251308966490824, 41.91834605566505], [-6.6686055159676565, 41.883386949219584], [-6.389087693700915, 41.381815497394655], [-6.851126674822552, 41.11108266861753], [-6.864019944679385, 40.33087189387483], [-7.026413133156595, 40.184524237624245], [-7.066591559263529, 39.711891587882775], [-7.498632371439726, 39.62957103124181], [-7.098036668313128, 39.03007274022379], [-7.374092169616318, 38.37305858006492], [-7.029281175148796, 38.07576406508977], [-7.166507941099865, 37.803894354802225], [-7.537105475281024, 37.42890432387624], [-7.453725551778092, 37.09778758396607], [-7.855613165711986, 36.83826854099627], [-8.382816127953689, 36.97888011326246], [-8.898856980820327, 36.86880931248078], [-8.746101446965554, 37.65134552667661], [-8.83999752443988, 38.266243394517616], [-9.287463751655224, 38.3584858261586], [-9.526570603869715, 38.73742910415491], [-9.446988898140233, 39.39206614842837], [-9.048305223008427, 39.75509308527877], [-8.977353481471681, 40.15930613866581], [-8.768684047877102, 40.76063894303019], [-8.79085323733031, 41.18433401139126], [-8.99078935386757, 41.54345937760364], [-9.034817674180246, 41.880570583659676]]], &quot;type&quot;: &quot;Polygon&quot;}, &quot;id&quot;: &quot;131&quot;, &quot;properties&quot;: {&quot;2021&quot;: 30.5, &quot;continent&quot;: &quot;Europe&quot;, &quot;gdp_md_est&quot;: 238785, &quot;iso_a3&quot;: &quot;PRT&quot;, &quot;name&quot;: &quot;Portugal&quot;, &quot;pop_est&quot;: 10269417.0}, &quot;type&quot;: &quot;Feature&quot;}, {&quot;bbox&quot;: [-9.392883673530648, 35.946850083961465, 3.0394840836805486, 43.74833771420099], &quot;geometry&quot;: {&quot;coordinates&quot;: [[[-7.453725551778092, 37.09778758396607], [-7.537105475281024, 37.42890432387624], [-7.166507941099865, 37.803894354802225], [-7.029281175148796, 38.07576406508977], [-7.374092169616318, 38.37305858006492], [-7.098036668313128, 39.03007274022379], [-7.498632371439726, 39.62957103124181], [-7.066591559263529, 39.711891587882775], [-7.026413133156595, 40.184524237624245], [-6.864019944679385, 40.33087189387483], [-6.851126674822552, 41.11108266861753], [-6.389087693700915, 41.381815497394655], [-6.6686055159676565, 41.883386949219584], [-7.251308966490824, 41.91834605566505], [-7.422512986673795, 41.79207469335984], [-8.013174607769912, 41.790886135417125], [-8.263856980817792, 42.28046865495034], [-8.67194576662672, 42.13468943945496], [-9.034817674180246, 41.880570583659676], [-8.984433152695672, 42.59277517350627], [-9.392883673530648, 43.0266246608127], [-7.97818966310831, 43.74833771420099], [-6.754491746436756, 43.567909450853925], [-5.411886359061597, 43.57423981380968], [-4.3478427799557835, 43.40344920508504], [-3.5175317041060907, 43.4559007838613], [-1.901351284177764, 43.42280202897834], [-1.502770961910528, 43.03401439063043], [0.3380469091905809, 42.57954600683955], [0.7015906103638941, 42.795734361332606], [1.8267932470871528, 42.34338471126569], [2.9859989762584576, 42.47301504166986], [3.0394840836805486, 41.892120266276905], [2.0918416683121848, 41.226088568683096], [0.8105245296351882, 41.01473196060934], [0.7213310074994013, 40.678318386389236], [0.10669152181986874, 40.12393362076202], [-0.27871131021294104, 39.30997813573272], [0.11129072429383768, 38.73851430923304], [-0.4671235823491031, 38.29236583104115], [-0.6833894514905978, 37.642353827457825], [-1.4383821272748492, 37.44306366632422], [-2.146452602538119, 36.67414419203729], [-3.4157808089233868, 36.65889964451118], [-4.368900926114719, 36.677839056946155], [-4.995219285492212, 36.32470815687964], [-5.3771597965614575, 35.946850083961465], [-5.866432257500904, 36.02981659600606], [-6.236693894872175, 36.367677110330334], [-6.520190802425404, 36.94291331638732], [-7.453725551778092, 37.09778758396607]]], &quot;type&quot;: &quot;Polygon&quot;}, &quot;id&quot;: &quot;132&quot;, &quot;properties&quot;: {&quot;2021&quot;: 36.7, &quot;continent&quot;: &quot;Europe&quot;, &quot;gdp_md_est&quot;: 1393490, &quot;iso_a3&quot;: &quot;ESP&quot;, &quot;name&quot;: &quot;Spain&quot;, &quot;pop_est&quot;: 47076781.0}, &quot;type&quot;: &quot;Feature&quot;}, {&quot;bbox&quot;: [-9.977085740590269, 51.669301255899356, -6.032985398777611, 55.13162221945487], &quot;geometry&quot;: {&quot;coordinates&quot;: [[[-6.197884894220991, 53.867565009163364], [-6.032985398777611, 53.15316417094435], [-6.788856573910849, 52.260117906292336], [-8.56161658368356, 51.669301255899356], [-9.977085740590269, 51.82045482035308], [-9.166282517930782, 52.86462881124268], [-9.688524542672454, 53.8813626165853], [-8.327987433292009, 54.66451894796863], [-7.572167934591064, 55.13162221945487], [-7.3660306461787854, 54.59584096945272], [-7.572167934591064, 54.059956366586], [-6.953730231138067, 54.073702297575636], [-6.197884894220991, 53.867565009163364]]], &quot;type&quot;: &quot;Polygon&quot;}, &quot;id&quot;: &quot;133&quot;, &quot;properties&quot;: {&quot;2021&quot;: 31.85, &quot;continent&quot;: &quot;Europe&quot;, &quot;gdp_md_est&quot;: 388698, &quot;iso_a3&quot;: &quot;IRL&quot;, &quot;name&quot;: &quot;Ireland&quot;, &quot;pop_est&quot;: 4941444.0}, &quot;type&quot;: &quot;Feature&quot;}, {&quot;bbox&quot;: [6.749955275101655, 36.6199872909954, 18.48024702319543, 47.11539317482645], &quot;geometry&quot;: {&quot;coordinates&quot;: [[[[10.44270145024663, 46.89354625099743], [11.048555942436536, 46.75135854754634], [11.16482791509327, 46.94157949481273], [12.153088006243054, 47.11539317482645], [12.376485223040817, 46.76755910906985], [13.806475457421527, 46.509306138691215], [13.698109978905478, 46.01677806251735], [13.937630242578308, 45.59101593686462], [13.141606479554296, 45.73669179949542], [12.32858117030625, 45.381778062514826], [12.383874952858548, 44.885374253919096], [12.261453484759102, 44.600482082693986], [12.589237094786455, 44.09136587175446], [13.526905958722494, 43.587727362637864], [14.029820997787029, 42.761007798832466], [15.142569614327925, 41.95513967545685], [15.926191033601896, 41.961315009115715], [16.169897088290384, 41.74029490820339], [15.889345737377797, 41.541082261718216], [16.785001661860548, 41.17960561783656], [17.51916873543118, 40.87714345963222], [18.37668745288252, 40.35562490494263], [18.48024702319543, 40.16886627863981], [18.293385044028042, 39.810774441073264], [17.738380161213314, 40.277671006830346], [16.869595981522338, 40.44223460546381], [16.448743116937322, 39.79540070246644], [17.17148969897147, 39.42469981542068], [17.052840610429314, 38.90287120213735], [16.635088331781816, 38.843572496082416], [16.100960727613, 37.9858987493342], [15.684086948314473, 37.908849188787016], [15.687962680736348, 38.21459280044188], [15.89198123542468, 38.75094249119924], [16.109332309644287, 38.9645470240777], [15.718813510814613, 39.54407237401492], [15.413612501698793, 40.048356838535156], [14.99849572109818, 40.17294871679087], [14.703268263414714, 40.604550279292596], [14.060671827865264, 40.7863479680954], [13.627985060285397, 41.1882872584616], [12.888081902730365, 41.253089504555604], [12.106682570044939, 41.70453481705741], [11.191906365614216, 42.3554253199897], [10.51194786951774, 42.93146251074721], [10.200028924203991, 43.9200068222746], [9.702488234097842, 44.03627879493132], [8.88894616052687, 44.36633616797951], [8.428560825238577, 44.23122813575242], [7.8507666357831445, 43.76714793555524], [7.435184767291872, 43.69384491634922], [7.549596388386107, 44.12790110938481], [7.007562290076635, 44.25476675066136], [6.749955275101655, 45.02851797136758], [7.096652459347837, 45.33309886329589], [6.802355177445605, 45.70857982032864], [6.843592970414505, 45.99114655210061], [7.2738509456766565, 45.776947740250776], [7.7559920589598335, 45.82449005795931], [8.31662967289438, 46.16364248309086], [8.489952426801324, 46.005150865251686], [8.966305779667806, 46.03693187111119], [9.182881707403055, 46.44021474871698], [9.922836541390382, 46.31489940040919], [10.363378126678612, 46.48357127540986], [10.44270145024663, 46.89354625099743]]], [[[14.761249220446189, 38.14387360285046], [15.520376010813806, 38.23115509699143], [15.160242954171736, 37.44404551853776], [15.309897902089006, 37.13421946873183], [15.099988234119422, 36.6199872909954], [14.335228712631988, 36.996630967754726], [13.826732618879959, 37.10453135838016], [12.431003859108756, 37.61294993748375], [12.570943637755136, 38.12638113051966], [13.741156447004613, 38.03496552179533], [14.761249220446189, 38.14387360285046]]], [[[8.709990675500109, 40.899984442705225], [9.210011834356266, 41.209991360024176], [9.80997521326492, 40.50000885676613], [9.669518670295616, 39.17737641047178], [9.214817742559433, 39.24047333430015], [8.806935662479674, 38.906617743478506], [8.428302443077115, 39.17184703221655], [8.388253208050912, 40.37831085871876], [8.159998406617689, 40.95000722916376], [8.709990675500109, 40.899984442705225]]]], &quot;type&quot;: &quot;MultiPolygon&quot;}, &quot;id&quot;: &quot;141&quot;, &quot;properties&quot;: {&quot;2021&quot;: 32.07, &quot;continent&quot;: &quot;Europe&quot;, &quot;gdp_md_est&quot;: 2003576, &quot;iso_a3&quot;: &quot;ITA&quot;, &quot;name&quot;: &quot;Italy&quot;, &quot;pop_est&quot;: 60297396.0}, &quot;type&quot;: &quot;Feature&quot;}, {&quot;bbox&quot;: [8.08997684086222, 54.80001455343792, 12.690006137755603, 57.73001658795485], &quot;geometry&quot;: {&quot;coordinates&quot;: [[[[9.921906365609118, 54.98310415304803], [9.282048780971138, 54.830865383516176], [8.526229282270208, 54.96274363872516], [8.120310906617533, 55.5177226833236], [8.08997684086222, 56.54001170513759], [8.256581658571207, 56.80996938743033], [8.543437534223415, 57.11000275331695], [9.424469028367554, 57.1720661484995], [9.775558709358535, 57.44794078228966], [10.580005730846125, 57.73001658795485], [10.546105991262664, 57.21573273378612], [10.250000034230226, 56.89001618105044], [10.369992710011957, 56.60998159446079], [10.912181837618306, 56.458621324277885], [10.667803989310016, 56.08138336854721], [10.369992710011957, 56.19000722922473], [9.649984978889279, 55.469999498102055], [9.921906365609118, 54.98310415304803]]], [[[12.370904168353292, 56.111407375708794], [12.690006137755603, 55.60999095318074], [12.089991082414684, 54.80001455343792], [11.043543328504226, 55.36486379660424], [10.903913608451603, 55.77995473898872], [12.370904168353292, 56.111407375708794]]]], &quot;type&quot;: &quot;MultiPolygon&quot;}, &quot;id&quot;: &quot;142&quot;, &quot;properties&quot;: {&quot;2021&quot;: 34.3, &quot;continent&quot;: &quot;Europe&quot;, &quot;gdp_md_est&quot;: 350104, &quot;iso_a3&quot;: &quot;DNK&quot;, &quot;name&quot;: &quot;Denmark&quot;, &quot;pop_est&quot;: 5818553.0}, &quot;type&quot;: &quot;Feature&quot;}, {&quot;bbox&quot;: [-7.572167934591064, 49.95999990498109, 1.6815307959146821, 58.63500010846633], &quot;geometry&quot;: {&quot;coordinates&quot;: [[[[-6.197884894220991, 53.867565009163364], [-6.953730231138067, 54.073702297575636], [-7.572167934591064, 54.059956366586], [-7.3660306461787854, 54.59584096945272], [-7.572167934591064, 55.13162221945487], [-6.733847011736145, 55.17286001242378], [-5.661948614921968, 54.55460317648381], [-6.197884894220991, 53.867565009163364]]], [[[-3.093830673788716, 53.404547400669685], [-3.0920796370471066, 53.40444082296358], [-2.945008510744344, 53.98499970154671], [-3.614700825433033, 54.600936773292574], [-3.6300054589893307, 54.615012925833014], [-4.8441690739030605, 54.790971177786844], [-5.0825266178492825, 55.06160065369937], [-4.7191121077567, 55.50847260194348], [-5.047980922862109, 55.78398550070756], [-5.586397670911197, 55.31114614523682], [-5.644998745130238, 56.27501496034483], [-6.1499808414864106, 56.785009670633485], [-5.786824713555291, 57.81884837506465], [-5.009998745127632, 58.63001333275008], [-4.211494513353557, 58.55084503847911], [-3.0050048486352807, 58.63500010846633], [-4.073828497728073, 57.55302480735526], [-3.0550017968777183, 57.69001902936094], [-1.9592805647769183, 57.68479970969952], [-2.219988165689358, 56.87001740175356], [-3.1190030582711756, 55.973793036515474], [-2.085009324543023, 55.9099984808513], [-2.005675679673857, 55.804902850350175], [-1.11499101399221, 54.624986477265395], [-0.4304849918542004, 54.46437612570219], [0.18498131674203933, 53.32501414653103], [0.469976840831805, 52.929999498092], [1.6815307959146821, 52.739520168664], [1.5599878271643206, 52.09999848083601], [1.0505615576309424, 51.806760565795685], [1.4498653499502439, 51.28942780212191], [0.5503336930455021, 50.765738837275876], [-0.7875174625586965, 50.77498891865622], [-2.4899975244144343, 50.50001862243124], [-2.956273972984093, 50.696879991247044], [-3.617448085942385, 50.22835561787275], [-4.542507900399244, 50.341837063185665], [-5.245023159191135, 49.95999990498109], [-5.776566941745273, 50.15967763935686], [-4.309989793301895, 51.21000112568919], [-3.414850633142123, 51.42600861266925], [-3.4227194671083794, 51.42684816740609], [-4.9843672347109305, 51.593466091511004], [-5.267295701508942, 51.991400458374585], [-4.222346564134909, 52.301355699261364], [-4.77001339356417, 52.840004991255626], [-4.579999152026971, 53.49500377055517], [-3.093830673788716, 53.404547400669685]]]], &quot;type&quot;: &quot;MultiPolygon&quot;}, &quot;id&quot;: &quot;143&quot;, &quot;properties&quot;: {&quot;2021&quot;: 33.19, &quot;continent&quot;: &quot;Europe&quot;, &quot;gdp_md_est&quot;: 2829108, &quot;iso_a3&quot;: &quot;GBR&quot;, &quot;name&quot;: &quot;United Kingdom&quot;, &quot;pop_est&quot;: 66834405.0}, &quot;type&quot;: &quot;Feature&quot;}, {&quot;bbox&quot;: [-24.326184047939336, 63.49638296167582, -13.60973222497981, 66.52679230413587], &quot;geometry&quot;: {&quot;coordinates&quot;: [[[-14.508695441129234, 66.45589223903143], [-14.739637417041607, 65.8087482774403], [-13.60973222497981, 65.12667104761987], [-14.909833746794902, 64.36408193628868], [-17.794438035543422, 63.678749091233854], [-18.656245896874992, 63.49638296167582], [-19.97275468594276, 63.64363495549153], [-22.762971971110158, 63.960178941495386], [-21.778484259517683, 64.40211579045551], [-23.95504391121911, 64.8911298692335], [-22.184402635170358, 65.0849681667603], [-22.227423265053332, 65.37859365504274], [-24.326184047939336, 65.61118927678847], [-23.65051469572309, 66.26251902939522], [-22.134922451250887, 66.41046865504687], [-20.57628373867955, 65.73211212835143], [-19.05684160000159, 66.27660085719477], [-17.79862382655905, 65.99385325790978], [-16.167818976292125, 66.52679230413587], [-14.508695441129234, 66.45589223903143]]], &quot;type&quot;: &quot;Polygon&quot;}, &quot;id&quot;: &quot;144&quot;, &quot;properties&quot;: {&quot;2021&quot;: 17.01, &quot;continent&quot;: &quot;Europe&quot;, &quot;gdp_md_est&quot;: 24188, &quot;iso_a3&quot;: &quot;ISL&quot;, &quot;name&quot;: &quot;Iceland&quot;, &quot;pop_est&quot;: 361313.0}, &quot;type&quot;: &quot;Feature&quot;}, {&quot;bbox&quot;: [13.698109978905478, 45.45231639259333, 16.564808383864857, 46.85238597267696], &quot;geometry&quot;: {&quot;coordinates&quot;: [[[13.806475457421527, 46.509306138691215], [14.63247155117483, 46.43181732846955], [15.137091912504985, 46.65870270444703], [16.011663852612656, 46.6836107448117], [16.202298211337364, 46.85238597267696], [16.370504998447416, 46.841327216166505], [16.564808383864857, 46.50375092221983], [15.768732944408553, 46.23810822202345], [15.671529575267556, 45.83415355079788], [15.323953891672405, 45.73178253842768], [15.327674594797429, 45.45231639259333], [14.935243767972935, 45.471695054702685], [14.595109490627806, 45.634940904312714], [14.411968214585414, 45.46616567644746], [13.715059848697223, 45.500323798192376], [13.937630242578308, 45.59101593686462], [13.698109978905478, 46.01677806251735], [13.806475457421527, 46.509306138691215]]], &quot;type&quot;: &quot;Polygon&quot;}, &quot;id&quot;: &quot;150&quot;, &quot;properties&quot;: {&quot;2021&quot;: 60.0, &quot;continent&quot;: &quot;Europe&quot;, &quot;gdp_md_est&quot;: 54174, &quot;iso_a3&quot;: &quot;SVN&quot;, &quot;name&quot;: &quot;Slovenia&quot;, &quot;pop_est&quot;: 2087946.0}, &quot;type&quot;: &quot;Feature&quot;}, {&quot;bbox&quot;: [20.645592889089528, 59.846373196036225, 31.516092156711125, 70.16419302029625], &quot;geometry&quot;: {&quot;coordinates&quot;: [[[28.591929559043194, 69.06477692328666], [28.445943637818658, 68.36461294216404], [29.97742638522061, 67.69829702419275], [29.054588657352326, 66.94428620062206], [30.217650000000003, 65.80598], [29.54442955904699, 64.94867157659048], [30.44468468600371, 64.20445343693909], [30.035872430142717, 63.55281362573855], [31.516092156711125, 62.86768748641289], [31.139991082490894, 62.35769277612441], [30.21110721204445, 61.780027777749694], [28.07000000000005, 60.503520000000094], [28.070001921525666, 60.50351912796823], [28.069997592895277, 60.50351654727584], [26.255172967236973, 60.4239606797625], [24.496623976344523, 60.05731639265166], [22.869694858499457, 59.846373196036225], [22.290763787533592, 60.39192129174154], [21.322244093519316, 60.720169989659524], [21.544866163832694, 61.70532949487179], [21.05921105315369, 62.60739329695874], [21.536029493910803, 63.18973501245587], [22.442744174903993, 63.81781037053129], [24.730511508897536, 64.90234365504084], [25.398067661243942, 65.11142650009374], [25.294043003040404, 65.53434642197045], [23.903378533633802, 66.00692739527962], [23.565879754335583, 66.39605093043743], [23.53947309743444, 67.93600861273525], [21.978534783626117, 68.6168456081807], [20.645592889089528, 69.10624726020087], [21.244936150810673, 69.37044302029308], [22.356237827247412, 68.84174144151491], [23.66204959483076, 68.89124746365054], [24.735679152126725, 68.64955678982146], [25.689212680776365, 69.09211375596904], [26.179622023226244, 69.82529897732614], [27.732292107867863, 70.16419302029625], [29.015572950971972, 69.76649119737799], [28.591929559043194, 69.06477692328666]]], &quot;type&quot;: &quot;Polygon&quot;}, &quot;id&quot;: &quot;151&quot;, &quot;properties&quot;: {&quot;2021&quot;: 37.1, &quot;continent&quot;: &quot;Europe&quot;, &quot;gdp_md_est&quot;: 269296, &quot;iso_a3&quot;: &quot;FIN&quot;, &quot;name&quot;: &quot;Finland&quot;, &quot;pop_est&quot;: 5520314.0}, &quot;type&quot;: &quot;Feature&quot;}, {&quot;bbox&quot;: [16.879982944413, 47.75842886005037, 22.558137648211755, 49.571574001659194], &quot;geometry&quot;: {&quot;coordinates&quot;: [[[22.558137648211755, 49.085738023467144], [22.28084191253356, 48.82539215758067], [22.085608351334855, 48.42226430927179], [21.872236362401736, 48.31997081155002], [20.801293979584926, 48.623854071642384], [20.473562045989866, 48.562850043321816], [20.239054396249347, 48.32756724709692], [19.769470656013112, 48.202691148463614], [19.661363559658497, 48.26661489520866], [19.17436486173989, 48.11137889260387], [18.77702477384767, 48.081768296900634], [18.696512892336926, 47.880953681014404], [17.857132602620027, 47.75842886005037], [17.48847293464982, 47.867466132186216], [16.979666782304037, 48.123497015976305], [16.879982944413, 48.47001333270947], [16.960288120194576, 48.5969823268506], [17.101984897538898, 48.816968899117114], [17.545006951577108, 48.80001902932537], [17.88648481616181, 48.90347524677371], [17.913511590250465, 48.996492824899086], [18.104972771891852, 49.04398346617531], [18.170498488037964, 49.271514797556435], [18.399993523846177, 49.31500051533004], [18.554971144289482, 49.495015367218784], [18.853144158613617, 49.49622976337764], [18.90957482267632, 49.435845852244576], [19.320712517990472, 49.571574001659194], [19.825022820726872, 49.21712535256923], [20.415839471119853, 49.43145335549977], [20.887955356538413, 49.32877228453583], [21.607808058364213, 49.47010732685409], [22.558137648211755, 49.085738023467144]]], &quot;type&quot;: &quot;Polygon&quot;}, &quot;id&quot;: &quot;152&quot;, &quot;properties&quot;: {&quot;2021&quot;: 48.9, &quot;continent&quot;: &quot;Europe&quot;, &quot;gdp_md_est&quot;: 105079, &quot;iso_a3&quot;: &quot;SVK&quot;, &quot;name&quot;: &quot;Slovakia&quot;, &quot;pop_est&quot;: 5454073.0}, &quot;type&quot;: &quot;Feature&quot;}, {&quot;bbox&quot;: [12.240111118222558, 48.55530528420721, 18.853144158613617, 51.117267767941414], &quot;geometry&quot;: {&quot;coordinates&quot;: [[[15.01699588385867, 51.10667409932158], [15.490972120839729, 50.78472992614321], [16.23862674323857, 50.69773265237984], [16.176253289462267, 50.42260732685791], [16.719475945714436, 50.21574656839354], [16.86876915860566, 50.47397370055603], [17.55456709155112, 50.36214590107642], [17.64944502123899, 50.049038397819956], [18.392913852622172, 49.98862864847075], [18.853144158613617, 49.49622976337764], [18.554971144289482, 49.495015367218784], [18.399993523846177, 49.31500051533004], [18.170498488037964, 49.271514797556435], [18.104972771891852, 49.04398346617531], [17.913511590250465, 48.996492824899086], [17.88648481616181, 48.90347524677371], [17.545006951577108, 48.80001902932537], [17.101984897538898, 48.816968899117114], [16.960288120194576, 48.5969823268506], [16.499282667718774, 48.78580801044511], [16.02964725105022, 48.73389903420793], [15.253415561593982, 49.03907420510758], [14.901447381254057, 48.964401760445824], [14.338897739324722, 48.55530528420721], [13.595945672264437, 48.87717194273715], [13.031328973043431, 49.30706818297324], [12.521024204161193, 49.547415269562734], [12.415190870827445, 49.96912079528057], [12.240111118222558, 50.266337795607285], [12.966836785543194, 50.484076443069085], [13.338131951560285, 50.73323436136435], [14.056227654688172, 50.9269176295943], [14.307013380600637, 51.117267767941414], [14.570718214586066, 51.002339382524276], [15.01699588385867, 51.10667409932158]]], &quot;type&quot;: &quot;Polygon&quot;}, &quot;id&quot;: &quot;153&quot;, &quot;properties&quot;: {&quot;2021&quot;: 43.3, &quot;continent&quot;: &quot;Europe&quot;, &quot;gdp_md_est&quot;: 250680, &quot;iso_a3&quot;: &quot;CZE&quot;, &quot;name&quot;: &quot;Czechia&quot;, &quot;pop_est&quot;: 10669709.0}, &quot;type&quot;: &quot;Feature&quot;}, {&quot;bbox&quot;: [18.829824792873946, 42.24522439706186, 22.986018507588483, 46.17172984474454], &quot;geometry&quot;: {&quot;coordinates&quot;: [[[18.829824792873946, 45.908872358025285], [18.82983808764996, 45.90887767189193], [19.596044549241583, 46.17172984474454], [20.220192498462836, 46.127468980486555], [20.762174920339987, 45.734573065771485], [20.874312778413355, 45.416375433934235], [21.48352623870221, 45.18117015235788], [21.56202273935361, 44.7689472519655], [22.14508792490281, 44.47842234962059], [22.459022251075936, 44.7025171982543], [22.705725538837356, 44.57800283464702], [22.4740084164406, 44.40922760678177], [22.65714969248299, 44.23492300066128], [22.410446404721597, 44.008063462899955], [22.500156691180223, 43.642814439461006], [22.986018507588483, 43.2111612005271], [22.60480146657133, 42.898518785161144], [22.43659467946128, 42.580321153323936], [22.54501183440962, 42.46136200618804], [22.380525750424592, 42.32025950781509], [21.917080000000112, 42.30363999999997], [21.57663598940212, 42.24522439706186], [21.54332000000005, 42.3202500000001], [21.662920000000042, 42.439220000000034], [21.77505000000002, 42.68270000000001], [21.633020000000045, 42.67717000000005], [21.43865999999997, 42.86254999999994], [21.27421000000004, 42.909590000000094], [21.143395000000055, 43.06868500000013], [20.95650999999998, 43.13094000000007], [20.814480000000003, 43.27205000000009], [20.63507999999996, 43.21670999999998], [20.496790000000033, 42.884690000000035], [20.257580000000075, 42.81275000000011], [20.339800000000082, 42.89852000000002], [19.958570000000066, 43.106040000000064], [19.629999999999995, 43.21377997027054], [19.483889999999974, 43.35229000000004], [19.218519999999955, 43.52384000000001], [19.454000000000065, 43.56810000000013], [19.59976000000006, 44.03846999999996], [19.11761000000007, 44.42307000000011], [19.36802999999992, 44.863000000000056], [19.00548000000009, 44.86023], [19.005484597557594, 44.86023449354299], [19.39047570158459, 45.236515611342384], [19.072768995854176, 45.52151113543209], [18.829824792873946, 45.908872358025285]]], &quot;type&quot;: &quot;Polygon&quot;}, &quot;id&quot;: &quot;172&quot;, &quot;properties&quot;: {&quot;2021&quot;: 1.34, &quot;continent&quot;: &quot;Europe&quot;, &quot;gdp_md_est&quot;: 51475, &quot;iso_a3&quot;: &quot;SRB&quot;, &quot;name&quot;: &quot;Serbia&quot;, &quot;pop_est&quot;: 6944975.0}, &quot;type&quot;: &quot;Feature&quot;}, {&quot;bbox&quot;: [18.45001688302086, 41.877550679783496, 20.339800000000082, 43.52384000000001], &quot;geometry&quot;: {&quot;coordinates&quot;: [[[20.070700000000045, 42.58863000000008], [19.801613396898688, 42.50009349219084], [19.73805138517963, 42.68824738216557], [19.304486118250793, 42.19574514420782], [19.37176816334725, 41.877550679783496], [19.162459999999953, 41.95502000000005], [18.88214000000005, 42.281510000000026], [18.45001688302086, 42.47999224531218], [18.559999999999945, 42.64999999999998], [18.706480000000056, 43.200109999999995], [19.03165000000007, 43.432529999999986], [19.218519999999955, 43.52384000000001], [19.483889999999974, 43.35229000000004], [19.629999999999995, 43.21377997027054], [19.958570000000066, 43.106040000000064], [20.339800000000082, 42.89852000000002], [20.257580000000075, 42.81275000000011], [20.070700000000045, 42.58863000000008]]], &quot;type&quot;: &quot;Polygon&quot;}, &quot;id&quot;: &quot;173&quot;, &quot;properties&quot;: {&quot;2021&quot;: 4.7, &quot;continent&quot;: &quot;Europe&quot;, &quot;gdp_md_est&quot;: 5542, &quot;iso_a3&quot;: &quot;MNE&quot;, &quot;name&quot;: &quot;Montenegro&quot;, &quot;pop_est&quot;: 622137.0}, &quot;type&quot;: &quot;Feature&quot;}], &quot;type&quot;: &quot;FeatureCollection&quot;});\n\n        \n    \n    geo_json_1a2472f733d604ff2f842c566fd01f3a.bindTooltip(\n    function(layer){\n    let div = L.DomUtil.create(&#x27;div&#x27;);\n    \n    let handleObject = feature=&gt;typeof(feature)==&#x27;object&#x27; ? JSON.stringify(feature) : feature;\n    let fields = [&quot;name&quot;, &quot;2021&quot;];\n    let aliases = [&quot;Country&quot;, &quot;Recycling rate&quot;];\n    let table = &#x27;&lt;table&gt;&#x27; +\n        String(\n        fields.map(\n        (v,i)=&gt;\n        `&lt;tr&gt;\n            &lt;th&gt;${aliases[i]}&lt;/th&gt;\n            \n            &lt;td&gt;${handleObject(layer.feature.properties[v])}&lt;/td&gt;\n        &lt;/tr&gt;`).join(&#x27;&#x27;))\n    +&#x27;&lt;/table&gt;&#x27;;\n    div.innerHTML=table;\n    \n    return div\n    }\n    ,{&quot;className&quot;: &quot;foliumtooltip&quot;, &quot;sticky&quot;: true});\n                     \n    \n    var color_map_4d6b285711cead6f7417cbb64fa06bfd = {};\n\n    \n    color_map_4d6b285711cead6f7417cbb64fa06bfd.color = d3.scale.threshold()\n              .domain([1.34, 1.4797995991983968, 1.6195991983967937, 1.7593987975951904, 1.899198396793587, 2.038997995991984, 2.178797595190381, 2.3185971943887775, 2.4583967935871742, 2.598196392785571, 2.7379959919839676, 2.8777955911823643, 3.0175951903807614, 3.157394789579158, 3.297194388777555, 3.436993987975952, 3.5767935871743486, 3.7165931863727453, 3.856392785571142, 3.9961923847695386, 4.135991983967935, 4.275791583166332, 4.415591182364729, 4.555390781563126, 4.695190380761523, 4.83498997995992, 4.974789579158316, 5.114589178356713, 5.25438877755511, 5.394188376753506, 5.533987975951903, 5.6737875751503, 5.813587174348696, 5.953386773547094, 6.09318637274549, 6.2329859719438865, 6.372785571142284, 6.512585170340681, 6.652384769539077, 6.792184368737473, 6.931983967935871, 7.071783567134268, 7.211583166332664, 7.351382765531061, 7.4911823647294575, 7.630981963927855, 7.770781563126252, 7.910581162324648, 8.050380761523046, 8.190180360721444, 8.32997995991984, 8.469779559118235, 8.609579158316633, 8.74937875751503, 8.889178356713426, 9.028977955911822, 9.16877755511022, 9.308577154308617, 9.448376753507013, 9.588176352705409, 9.727975951903806, 9.867775551102204, 10.0075751503006, 10.147374749498995, 10.287174348697393, 10.42697394789579, 10.566773547094188, 10.706573146292584, 10.84637274549098, 10.986172344689377, 11.125971943887773, 11.26577154308617, 11.405571142284568, 11.545370741482964, 11.685170340681362, 11.824969939879757, 11.964769539078155, 12.104569138276553, 12.244368737474947, 12.384168336673344, 12.523967935871742, 12.66376753507014, 12.803567134268537, 12.943366733466931, 13.083166332665328, 13.222965931863726, 13.362765531062122, 13.50256513026052, 13.642364729458915, 13.782164328657313, 13.92196392785571, 14.061763527054106, 14.201563126252504, 14.341362725450901, 14.481162324649295, 14.620961923847693, 14.76076152304609, 14.900561122244488, 15.040360721442886, 15.18016032064128, 15.319959919839677, 15.459759519038075, 15.59955911823647, 15.739358717434868, 15.879158316633264, 16.018957915831663, 16.15875751503006, 16.298557114228455, 16.438356713426852, 16.57815631262525, 16.717955911823644, 16.85775551102204, 16.99755511022044, 17.137354709418837, 17.277154308617234, 17.41695390781563, 17.556753507014026, 17.696553106212424, 17.836352705410818, 17.976152304609215, 18.115951903807613, 18.25575150300601, 18.395551102204408, 18.535350701402805, 18.6751503006012, 18.814949899799597, 18.95474949899799, 19.09454909819639, 19.234348697394786, 19.374148296593184, 19.51394789579158, 19.65374749498998, 19.793547094188376, 19.93334669338677, 20.073146292585168, 20.212945891783566, 20.35274549098196, 20.492545090180357, 20.632344689378755, 20.772144288577152, 20.911943887775546, 21.051743486973944, 21.19154308617234, 21.33134268537074, 21.471142284569137, 21.610941883767534, 21.75074148296593, 21.890541082164326, 22.030340681362723, 22.170140280561117, 22.309939879759515, 22.449739478957913, 22.58953907815631, 22.729338677354708, 22.869138276553105, 23.008937875751503, 23.148737474949893, 23.28853707414829, 23.42833667334669, 23.568136272545086, 23.707935871743484, 23.84773547094188, 23.98753507014028, 24.127334669338676, 24.267134268537074, 24.406933867735468, 24.546733466933862, 24.68653306613226, 24.826332665330657, 24.966132264529055, 25.105931863727452, 25.24573146292585, 25.385531062124244, 25.52533066132264, 25.66513026052104, 25.804929859719437, 25.94472945891783, 26.084529058116228, 26.224328657314626, 26.364128256513023, 26.50392785571142, 26.643727454909815, 26.783527054108212, 26.92332665330661, 27.063126252505008, 27.202925851703405, 27.342725450901803, 27.482525050100197, 27.62232464929859, 27.76212424849699, 27.901923847695386, 28.041723446893783, 28.18152304609218, 28.32132264529058, 28.461122244488976, 28.600921843687374, 28.74072144288577, 28.880521042084162, 29.02032064128256, 29.160120240480957, 29.299919839679355, 29.439719438877752, 29.57951903807615, 29.719318637274547, 29.85911823647294, 29.99891783567134, 30.138717434869736, 30.27851703406813, 30.418316633266528, 30.558116232464926, 30.697915831663323, 30.83771543086172, 30.97751503006012, 31.117314629258512, 31.25711422845691, 31.396913827655307, 31.536713426853705, 31.6765130260521, 31.816312625250497, 31.956112224448894, 32.09591182364729, 32.23571142284569, 32.37551102204409, 32.515310621242485, 32.65511022044088, 32.79490981963928, 32.93470941883768, 33.07450901803607, 33.214308617234465, 33.35410821643286, 33.49390781563126, 33.63370741482966, 33.773507014028056, 33.91330661322645, 34.05310621242485, 34.19290581162325, 34.33270541082164, 34.47250501002004, 34.612304609218434, 34.75210420841684, 34.89190380761523, 35.03170340681363, 35.171503006012024, 35.311302605210415, 35.45110220440882, 35.59090180360721, 35.730701402805614, 35.870501002004005, 36.0103006012024, 36.1501002004008, 36.2898997995992, 36.429699398797595, 36.569498997995986, 36.70929859719439, 36.84909819639278, 36.988897795591186, 37.128697394789576, 37.268496993987974, 37.40829659318637, 37.54809619238477, 37.687895791583166, 37.827695390781564, 37.96749498997996, 38.10729458917835, 38.24709418837676, 38.38689378757515, 38.526693386773545, 38.66649298597194, 38.80629258517034, 38.94609218436874, 39.085891783567135, 39.22569138276553, 39.36549098196392, 39.50529058116232, 39.64509018036072, 39.784889779559116, 39.92468937875751, 40.06448897795591, 40.20428857715431, 40.344088176352706, 40.483887775551096, 40.6236873747495, 40.76348697394789, 40.90328657314629, 41.04308617234469, 41.182885771543084, 41.32268537074148, 41.46248496993988, 41.60228456913828, 41.74208416833667, 41.88188376753507, 42.02168336673346, 42.16148296593186, 42.30128256513026, 42.441082164328655, 42.58088176352705, 42.72068136272545, 42.86048096192385, 43.00028056112224, 43.14008016032064, 43.279879759519034, 43.41967935871744, 43.55947895791583, 43.699278557114226, 43.839078156312624, 43.978877755511014, 44.11867735470942, 44.25847695390781, 44.398276553106214, 44.538076152304605, 44.67787575150301, 44.8176753507014, 44.95747494989979, 45.097274549098195, 45.237074148296585, 45.37687374749499, 45.51667334669338, 45.656472945891785, 45.796272545090176, 45.93607214428858, 46.07587174348697, 46.21567134268537, 46.355470941883766, 46.49527054108216, 46.63507014028056, 46.77486973947895, 46.914669338677356, 47.05446893787575, 47.19426853707415, 47.33406813627254, 47.47386773547094, 47.61366733466934, 47.75346693386773, 47.89326653306613, 48.03306613226452, 48.17286573146293, 48.31266533066132, 48.452464929859715, 48.59226452905811, 48.73206412825651, 48.87186372745491, 49.011663326653306, 49.1514629258517, 49.291262525050094, 49.43106212424849, 49.57086172344689, 49.71066132264529, 49.850460921843684, 49.99026052104208, 50.13006012024048, 50.26985971943888, 50.409659318637274, 50.549458917835665, 50.68925851703406, 50.82905811623246, 50.96885771543086, 51.108657314629255, 51.24845691382765, 51.38825651302605, 51.52805611222445, 51.667855711422845, 51.80765531062124, 51.94745490981963, 52.08725450901803, 52.22705410821643, 52.366853707414826, 52.506653306613224, 52.64645290581162, 52.78625250501002, 52.92605210420841, 53.065851703406814, 53.205651302605204, 53.34545090180361, 53.485250501002, 53.6250501002004, 53.764849699398795, 53.904649298597185, 54.04444889779559, 54.18424849699398, 54.324048096192385, 54.463847695390776, 54.60364729458918, 54.74344689378757, 54.88324649298597, 55.023046092184366, 55.162845691382756, 55.30264529058116, 55.44244488977955, 55.582244488977956, 55.72204408817635, 55.86184368737475, 56.00164328657314, 56.141442885771546, 56.28124248496994, 56.42104208416833, 56.56084168336673, 56.70064128256512, 56.84044088176353, 56.98024048096192, 57.12004008016032, 57.25983967935871, 57.39963927855711, 57.53943887775551, 57.6792384769539, 57.8190380761523, 57.95883767535069, 58.0986372745491, 58.23843687374749, 58.378236472945886, 58.518036072144284, 58.65783567134268, 58.79763527054108, 58.93743486973948, 59.077234468937874, 59.217034068136265, 59.35683366733467, 59.49663326653306, 59.63643286573146, 59.776232464929855, 59.91603206412825, 60.05583166332665, 60.19563126252505, 60.335430861723445, 60.475230460921836, 60.61503006012024, 60.75482965931863, 60.89462925851703, 61.034428857715426, 61.17422845691382, 61.31402805611222, 61.45382765531062, 61.593627254509016, 61.733426853707414, 61.873226452905804, 62.0130260521042, 62.1528256513026, 62.292625250501, 62.432424849699395, 62.57222444889779, 62.71202404809619, 62.85182364729458, 62.991623246492985, 63.131422845691375, 63.27122244488977, 63.41102204408817, 63.55082164328657, 63.690621242484966, 63.83042084168336, 63.97022044088176, 64.11002004008014, 64.24981963927856, 64.38961923847694, 64.52941883767535, 64.66921843687373, 64.80901803607213, 64.94881763527053, 65.08861723446893, 65.22841683366732, 65.36821643286572, 65.50801603206412, 65.64781563126252, 65.78761523046091, 65.92741482965931, 66.06721442885771, 66.20701402805611, 66.3468136272545, 66.4866132264529, 66.6264128256513, 66.7662124248497, 66.9060120240481, 67.0458116232465, 67.18561122244489, 67.32541082164327, 67.46521042084167, 67.60501002004008, 67.74480961923847, 67.88460921843686, 68.02440881763526, 68.16420841683367, 68.30400801603206, 68.44380761523045, 68.58360721442885, 68.72340681362725, 68.86320641282565, 69.00300601202404, 69.14280561122244, 69.28260521042083, 69.42240480961924, 69.56220440881764, 69.70200400801602, 69.84180360721442, 69.98160320641283, 70.12140280561123, 70.26120240480961, 70.401002004008, 70.5408016032064, 70.6806012024048, 70.8204008016032, 70.9602004008016, 71.1])\n              .range([&#x27;#ffffccff&#x27;, &#x27;#ffffccff&#x27;, &#x27;#ffffccff&#x27;, &#x27;#ffffccff&#x27;, &#x27;#ffffccff&#x27;, &#x27;#ffffccff&#x27;, &#x27;#ffffccff&#x27;, &#x27;#ffffccff&#x27;, &#x27;#ffffccff&#x27;, &#x27;#ffffccff&#x27;, &#x27;#ffffccff&#x27;, &#x27;#ffffccff&#x27;, &#x27;#ffffccff&#x27;, &#x27;#ffffccff&#x27;, &#x27;#ffffccff&#x27;, &#x27;#ffffccff&#x27;, &#x27;#ffffccff&#x27;, &#x27;#ffffccff&#x27;, &#x27;#ffffccff&#x27;, &#x27;#ffffccff&#x27;, &#x27;#ffffccff&#x27;, &#x27;#ffffccff&#x27;, &#x27;#ffffccff&#x27;, &#x27;#ffffccff&#x27;, &#x27;#ffffccff&#x27;, &#x27;#ffffccff&#x27;, &#x27;#ffffccff&#x27;, &#x27;#ffffccff&#x27;, &#x27;#ffffccff&#x27;, &#x27;#ffffccff&#x27;, &#x27;#ffffccff&#x27;, &#x27;#ffffccff&#x27;, &#x27;#ffffccff&#x27;, &#x27;#ffffccff&#x27;, &#x27;#ffffccff&#x27;, &#x27;#ffffccff&#x27;, &#x27;#ffffccff&#x27;, &#x27;#ffffccff&#x27;, &#x27;#ffffccff&#x27;, &#x27;#ffffccff&#x27;, &#x27;#ffffccff&#x27;, &#x27;#ffffccff&#x27;, &#x27;#ffffccff&#x27;, &#x27;#ffffccff&#x27;, &#x27;#ffffccff&#x27;, &#x27;#ffffccff&#x27;, &#x27;#ffffccff&#x27;, &#x27;#ffffccff&#x27;, &#x27;#ffffccff&#x27;, &#x27;#ffffccff&#x27;, &#x27;#ffffccff&#x27;, &#x27;#ffffccff&#x27;, &#x27;#ffffccff&#x27;, &#x27;#ffffccff&#x27;, &#x27;#ffffccff&#x27;, &#x27;#ffffccff&#x27;, &#x27;#ffffccff&#x27;, &#x27;#ffffccff&#x27;, &#x27;#ffffccff&#x27;, &#x27;#ffffccff&#x27;, &#x27;#ffffccff&#x27;, &#x27;#ffffccff&#x27;, &#x27;#ffffccff&#x27;, &#x27;#ffffccff&#x27;, &#x27;#ffffccff&#x27;, &#x27;#ffffccff&#x27;, &#x27;#ffffccff&#x27;, &#x27;#ffffccff&#x27;, &#x27;#ffffccff&#x27;, &#x27;#ffffccff&#x27;, &#x27;#ffffccff&#x27;, &#x27;#ffffccff&#x27;, &#x27;#ffffccff&#x27;, &#x27;#ffffccff&#x27;, &#x27;#ffffccff&#x27;, &#x27;#ffffccff&#x27;, &#x27;#ffffccff&#x27;, &#x27;#ffffccff&#x27;, &#x27;#ffffccff&#x27;, &#x27;#ffffccff&#x27;, &#x27;#ffffccff&#x27;, &#x27;#ffffccff&#x27;, &#x27;#ffffccff&#x27;, &#x27;#ffffccff&#x27;, &#x27;#d9f0a3ff&#x27;, &#x27;#d9f0a3ff&#x27;, &#x27;#d9f0a3ff&#x27;, &#x27;#d9f0a3ff&#x27;, &#x27;#d9f0a3ff&#x27;, &#x27;#d9f0a3ff&#x27;, &#x27;#d9f0a3ff&#x27;, &#x27;#d9f0a3ff&#x27;, &#x27;#d9f0a3ff&#x27;, &#x27;#d9f0a3ff&#x27;, &#x27;#d9f0a3ff&#x27;, &#x27;#d9f0a3ff&#x27;, &#x27;#d9f0a3ff&#x27;, &#x27;#d9f0a3ff&#x27;, &#x27;#d9f0a3ff&#x27;, &#x27;#d9f0a3ff&#x27;, &#x27;#d9f0a3ff&#x27;, &#x27;#d9f0a3ff&#x27;, &#x27;#d9f0a3ff&#x27;, &#x27;#d9f0a3ff&#x27;, &#x27;#d9f0a3ff&#x27;, &#x27;#d9f0a3ff&#x27;, &#x27;#d9f0a3ff&#x27;, &#x27;#d9f0a3ff&#x27;, &#x27;#d9f0a3ff&#x27;, &#x27;#d9f0a3ff&#x27;, &#x27;#d9f0a3ff&#x27;, &#x27;#d9f0a3ff&#x27;, &#x27;#d9f0a3ff&#x27;, &#x27;#d9f0a3ff&#x27;, &#x27;#d9f0a3ff&#x27;, &#x27;#d9f0a3ff&#x27;, &#x27;#d9f0a3ff&#x27;, &#x27;#d9f0a3ff&#x27;, &#x27;#d9f0a3ff&#x27;, &#x27;#d9f0a3ff&#x27;, &#x27;#d9f0a3ff&#x27;, &#x27;#d9f0a3ff&#x27;, &#x27;#d9f0a3ff&#x27;, &#x27;#d9f0a3ff&#x27;, &#x27;#d9f0a3ff&#x27;, &#x27;#d9f0a3ff&#x27;, &#x27;#d9f0a3ff&#x27;, &#x27;#d9f0a3ff&#x27;, &#x27;#d9f0a3ff&#x27;, &#x27;#d9f0a3ff&#x27;, &#x27;#d9f0a3ff&#x27;, &#x27;#d9f0a3ff&#x27;, &#x27;#d9f0a3ff&#x27;, &#x27;#d9f0a3ff&#x27;, &#x27;#d9f0a3ff&#x27;, &#x27;#d9f0a3ff&#x27;, &#x27;#d9f0a3ff&#x27;, &#x27;#d9f0a3ff&#x27;, &#x27;#d9f0a3ff&#x27;, &#x27;#d9f0a3ff&#x27;, &#x27;#d9f0a3ff&#x27;, &#x27;#d9f0a3ff&#x27;, &#x27;#d9f0a3ff&#x27;, &#x27;#d9f0a3ff&#x27;, &#x27;#d9f0a3ff&#x27;, &#x27;#d9f0a3ff&#x27;, &#x27;#d9f0a3ff&#x27;, &#x27;#d9f0a3ff&#x27;, &#x27;#d9f0a3ff&#x27;, &#x27;#d9f0a3ff&#x27;, &#x27;#d9f0a3ff&#x27;, &#x27;#d9f0a3ff&#x27;, &#x27;#d9f0a3ff&#x27;, &#x27;#d9f0a3ff&#x27;, &#x27;#d9f0a3ff&#x27;, &#x27;#d9f0a3ff&#x27;, &#x27;#d9f0a3ff&#x27;, &#x27;#d9f0a3ff&#x27;, &#x27;#d9f0a3ff&#x27;, &#x27;#d9f0a3ff&#x27;, &#x27;#d9f0a3ff&#x27;, &#x27;#d9f0a3ff&#x27;, &#x27;#d9f0a3ff&#x27;, &#x27;#d9f0a3ff&#x27;, &#x27;#d9f0a3ff&#x27;, &#x27;#d9f0a3ff&#x27;, &#x27;#d9f0a3ff&#x27;, &#x27;#addd8eff&#x27;, &#x27;#addd8eff&#x27;, &#x27;#addd8eff&#x27;, &#x27;#addd8eff&#x27;, &#x27;#addd8eff&#x27;, &#x27;#addd8eff&#x27;, &#x27;#addd8eff&#x27;, &#x27;#addd8eff&#x27;, &#x27;#addd8eff&#x27;, &#x27;#addd8eff&#x27;, &#x27;#addd8eff&#x27;, &#x27;#addd8eff&#x27;, &#x27;#addd8eff&#x27;, &#x27;#addd8eff&#x27;, &#x27;#addd8eff&#x27;, &#x27;#addd8eff&#x27;, &#x27;#addd8eff&#x27;, &#x27;#addd8eff&#x27;, &#x27;#addd8eff&#x27;, &#x27;#addd8eff&#x27;, &#x27;#addd8eff&#x27;, &#x27;#addd8eff&#x27;, &#x27;#addd8eff&#x27;, &#x27;#addd8eff&#x27;, &#x27;#addd8eff&#x27;, &#x27;#addd8eff&#x27;, &#x27;#addd8eff&#x27;, &#x27;#addd8eff&#x27;, &#x27;#addd8eff&#x27;, &#x27;#addd8eff&#x27;, &#x27;#addd8eff&#x27;, &#x27;#addd8eff&#x27;, &#x27;#addd8eff&#x27;, &#x27;#addd8eff&#x27;, &#x27;#addd8eff&#x27;, &#x27;#addd8eff&#x27;, &#x27;#addd8eff&#x27;, &#x27;#addd8eff&#x27;, &#x27;#addd8eff&#x27;, &#x27;#addd8eff&#x27;, &#x27;#addd8eff&#x27;, &#x27;#addd8eff&#x27;, &#x27;#addd8eff&#x27;, &#x27;#addd8eff&#x27;, &#x27;#addd8eff&#x27;, &#x27;#addd8eff&#x27;, &#x27;#addd8eff&#x27;, &#x27;#addd8eff&#x27;, &#x27;#addd8eff&#x27;, &#x27;#addd8eff&#x27;, &#x27;#addd8eff&#x27;, &#x27;#addd8eff&#x27;, &#x27;#addd8eff&#x27;, &#x27;#addd8eff&#x27;, &#x27;#addd8eff&#x27;, &#x27;#addd8eff&#x27;, &#x27;#addd8eff&#x27;, &#x27;#addd8eff&#x27;, &#x27;#addd8eff&#x27;, &#x27;#addd8eff&#x27;, &#x27;#addd8eff&#x27;, &#x27;#addd8eff&#x27;, &#x27;#addd8eff&#x27;, &#x27;#addd8eff&#x27;, &#x27;#addd8eff&#x27;, &#x27;#addd8eff&#x27;, &#x27;#addd8eff&#x27;, &#x27;#addd8eff&#x27;, &#x27;#addd8eff&#x27;, &#x27;#addd8eff&#x27;, &#x27;#addd8eff&#x27;, &#x27;#addd8eff&#x27;, &#x27;#addd8eff&#x27;, &#x27;#addd8eff&#x27;, &#x27;#addd8eff&#x27;, &#x27;#addd8eff&#x27;, &#x27;#addd8eff&#x27;, &#x27;#addd8eff&#x27;, &#x27;#addd8eff&#x27;, &#x27;#addd8eff&#x27;, &#x27;#addd8eff&#x27;, &#x27;#addd8eff&#x27;, &#x27;#addd8eff&#x27;, &#x27;#78c679ff&#x27;, &#x27;#78c679ff&#x27;, &#x27;#78c679ff&#x27;, &#x27;#78c679ff&#x27;, &#x27;#78c679ff&#x27;, &#x27;#78c679ff&#x27;, &#x27;#78c679ff&#x27;, &#x27;#78c679ff&#x27;, &#x27;#78c679ff&#x27;, &#x27;#78c679ff&#x27;, &#x27;#78c679ff&#x27;, &#x27;#78c679ff&#x27;, &#x27;#78c679ff&#x27;, &#x27;#78c679ff&#x27;, &#x27;#78c679ff&#x27;, &#x27;#78c679ff&#x27;, &#x27;#78c679ff&#x27;, &#x27;#78c679ff&#x27;, &#x27;#78c679ff&#x27;, &#x27;#78c679ff&#x27;, &#x27;#78c679ff&#x27;, &#x27;#78c679ff&#x27;, &#x27;#78c679ff&#x27;, &#x27;#78c679ff&#x27;, &#x27;#78c679ff&#x27;, &#x27;#78c679ff&#x27;, &#x27;#78c679ff&#x27;, &#x27;#78c679ff&#x27;, &#x27;#78c679ff&#x27;, &#x27;#78c679ff&#x27;, &#x27;#78c679ff&#x27;, &#x27;#78c679ff&#x27;, &#x27;#78c679ff&#x27;, &#x27;#78c679ff&#x27;, &#x27;#78c679ff&#x27;, &#x27;#78c679ff&#x27;, &#x27;#78c679ff&#x27;, &#x27;#78c679ff&#x27;, &#x27;#78c679ff&#x27;, &#x27;#78c679ff&#x27;, &#x27;#78c679ff&#x27;, &#x27;#78c679ff&#x27;, &#x27;#78c679ff&#x27;, &#x27;#78c679ff&#x27;, &#x27;#78c679ff&#x27;, &#x27;#78c679ff&#x27;, &#x27;#78c679ff&#x27;, &#x27;#78c679ff&#x27;, &#x27;#78c679ff&#x27;, &#x27;#78c679ff&#x27;, &#x27;#78c679ff&#x27;, &#x27;#78c679ff&#x27;, &#x27;#78c679ff&#x27;, &#x27;#78c679ff&#x27;, &#x27;#78c679ff&#x27;, &#x27;#78c679ff&#x27;, &#x27;#78c679ff&#x27;, &#x27;#78c679ff&#x27;, &#x27;#78c679ff&#x27;, &#x27;#78c679ff&#x27;, &#x27;#78c679ff&#x27;, &#x27;#78c679ff&#x27;, &#x27;#78c679ff&#x27;, &#x27;#78c679ff&#x27;, &#x27;#78c679ff&#x27;, &#x27;#78c679ff&#x27;, &#x27;#78c679ff&#x27;, &#x27;#78c679ff&#x27;, &#x27;#78c679ff&#x27;, &#x27;#78c679ff&#x27;, &#x27;#78c679ff&#x27;, &#x27;#78c679ff&#x27;, &#x27;#78c679ff&#x27;, &#x27;#78c679ff&#x27;, &#x27;#78c679ff&#x27;, &#x27;#78c679ff&#x27;, &#x27;#78c679ff&#x27;, &#x27;#78c679ff&#x27;, &#x27;#78c679ff&#x27;, &#x27;#78c679ff&#x27;, &#x27;#78c679ff&#x27;, &#x27;#78c679ff&#x27;, &#x27;#78c679ff&#x27;, &#x27;#31a354ff&#x27;, &#x27;#31a354ff&#x27;, &#x27;#31a354ff&#x27;, &#x27;#31a354ff&#x27;, &#x27;#31a354ff&#x27;, &#x27;#31a354ff&#x27;, &#x27;#31a354ff&#x27;, &#x27;#31a354ff&#x27;, &#x27;#31a354ff&#x27;, &#x27;#31a354ff&#x27;, &#x27;#31a354ff&#x27;, &#x27;#31a354ff&#x27;, &#x27;#31a354ff&#x27;, &#x27;#31a354ff&#x27;, &#x27;#31a354ff&#x27;, &#x27;#31a354ff&#x27;, &#x27;#31a354ff&#x27;, &#x27;#31a354ff&#x27;, &#x27;#31a354ff&#x27;, &#x27;#31a354ff&#x27;, &#x27;#31a354ff&#x27;, &#x27;#31a354ff&#x27;, &#x27;#31a354ff&#x27;, &#x27;#31a354ff&#x27;, &#x27;#31a354ff&#x27;, &#x27;#31a354ff&#x27;, &#x27;#31a354ff&#x27;, &#x27;#31a354ff&#x27;, &#x27;#31a354ff&#x27;, &#x27;#31a354ff&#x27;, &#x27;#31a354ff&#x27;, &#x27;#31a354ff&#x27;, &#x27;#31a354ff&#x27;, &#x27;#31a354ff&#x27;, &#x27;#31a354ff&#x27;, &#x27;#31a354ff&#x27;, &#x27;#31a354ff&#x27;, &#x27;#31a354ff&#x27;, &#x27;#31a354ff&#x27;, &#x27;#31a354ff&#x27;, &#x27;#31a354ff&#x27;, &#x27;#31a354ff&#x27;, &#x27;#31a354ff&#x27;, &#x27;#31a354ff&#x27;, &#x27;#31a354ff&#x27;, &#x27;#31a354ff&#x27;, &#x27;#31a354ff&#x27;, &#x27;#31a354ff&#x27;, &#x27;#31a354ff&#x27;, &#x27;#31a354ff&#x27;, &#x27;#31a354ff&#x27;, &#x27;#31a354ff&#x27;, &#x27;#31a354ff&#x27;, &#x27;#31a354ff&#x27;, &#x27;#31a354ff&#x27;, &#x27;#31a354ff&#x27;, &#x27;#31a354ff&#x27;, &#x27;#31a354ff&#x27;, &#x27;#31a354ff&#x27;, &#x27;#31a354ff&#x27;, &#x27;#31a354ff&#x27;, &#x27;#31a354ff&#x27;, &#x27;#31a354ff&#x27;, &#x27;#31a354ff&#x27;, &#x27;#31a354ff&#x27;, &#x27;#31a354ff&#x27;, &#x27;#31a354ff&#x27;, &#x27;#31a354ff&#x27;, &#x27;#31a354ff&#x27;, &#x27;#31a354ff&#x27;, &#x27;#31a354ff&#x27;, &#x27;#31a354ff&#x27;, &#x27;#31a354ff&#x27;, &#x27;#31a354ff&#x27;, &#x27;#31a354ff&#x27;, &#x27;#31a354ff&#x27;, &#x27;#31a354ff&#x27;, &#x27;#31a354ff&#x27;, &#x27;#31a354ff&#x27;, &#x27;#31a354ff&#x27;, &#x27;#31a354ff&#x27;, &#x27;#31a354ff&#x27;, &#x27;#31a354ff&#x27;, &#x27;#006837ff&#x27;, &#x27;#006837ff&#x27;, &#x27;#006837ff&#x27;, &#x27;#006837ff&#x27;, &#x27;#006837ff&#x27;, &#x27;#006837ff&#x27;, &#x27;#006837ff&#x27;, &#x27;#006837ff&#x27;, &#x27;#006837ff&#x27;, &#x27;#006837ff&#x27;, &#x27;#006837ff&#x27;, &#x27;#006837ff&#x27;, &#x27;#006837ff&#x27;, &#x27;#006837ff&#x27;, &#x27;#006837ff&#x27;, &#x27;#006837ff&#x27;, &#x27;#006837ff&#x27;, &#x27;#006837ff&#x27;, &#x27;#006837ff&#x27;, &#x27;#006837ff&#x27;, &#x27;#006837ff&#x27;, &#x27;#006837ff&#x27;, &#x27;#006837ff&#x27;, &#x27;#006837ff&#x27;, &#x27;#006837ff&#x27;, &#x27;#006837ff&#x27;, &#x27;#006837ff&#x27;, &#x27;#006837ff&#x27;, &#x27;#006837ff&#x27;, &#x27;#006837ff&#x27;, &#x27;#006837ff&#x27;, &#x27;#006837ff&#x27;, &#x27;#006837ff&#x27;, &#x27;#006837ff&#x27;, &#x27;#006837ff&#x27;, &#x27;#006837ff&#x27;, &#x27;#006837ff&#x27;, &#x27;#006837ff&#x27;, &#x27;#006837ff&#x27;, &#x27;#006837ff&#x27;, &#x27;#006837ff&#x27;, &#x27;#006837ff&#x27;, &#x27;#006837ff&#x27;, &#x27;#006837ff&#x27;, &#x27;#006837ff&#x27;, &#x27;#006837ff&#x27;, &#x27;#006837ff&#x27;, &#x27;#006837ff&#x27;, &#x27;#006837ff&#x27;, &#x27;#006837ff&#x27;, &#x27;#006837ff&#x27;, &#x27;#006837ff&#x27;, &#x27;#006837ff&#x27;, &#x27;#006837ff&#x27;, &#x27;#006837ff&#x27;, &#x27;#006837ff&#x27;, &#x27;#006837ff&#x27;, &#x27;#006837ff&#x27;, &#x27;#006837ff&#x27;, &#x27;#006837ff&#x27;, &#x27;#006837ff&#x27;, &#x27;#006837ff&#x27;, &#x27;#006837ff&#x27;, &#x27;#006837ff&#x27;, &#x27;#006837ff&#x27;, &#x27;#006837ff&#x27;, &#x27;#006837ff&#x27;, &#x27;#006837ff&#x27;, &#x27;#006837ff&#x27;, &#x27;#006837ff&#x27;, &#x27;#006837ff&#x27;, &#x27;#006837ff&#x27;, &#x27;#006837ff&#x27;, &#x27;#006837ff&#x27;, &#x27;#006837ff&#x27;, &#x27;#006837ff&#x27;, &#x27;#006837ff&#x27;, &#x27;#006837ff&#x27;, &#x27;#006837ff&#x27;, &#x27;#006837ff&#x27;, &#x27;#006837ff&#x27;, &#x27;#006837ff&#x27;, &#x27;#006837ff&#x27;, &#x27;#006837ff&#x27;]);\n    \n\n    color_map_4d6b285711cead6f7417cbb64fa06bfd.x = d3.scale.linear()\n              .domain([1.34, 71.1])\n              .range([0, 450 - 50]);\n\n    color_map_4d6b285711cead6f7417cbb64fa06bfd.legend = L.control({position: &#x27;topright&#x27;});\n    color_map_4d6b285711cead6f7417cbb64fa06bfd.legend.onAdd = function (map) {var div = L.DomUtil.create(&#x27;div&#x27;, &#x27;legend&#x27;); return div};\n    color_map_4d6b285711cead6f7417cbb64fa06bfd.legend.addTo(map_8f4f1a75926c3935950dbc46779c481b);\n\n    color_map_4d6b285711cead6f7417cbb64fa06bfd.xAxis = d3.svg.axis()\n        .scale(color_map_4d6b285711cead6f7417cbb64fa06bfd.x)\n        .orient(&quot;top&quot;)\n        .tickSize(1)\n        .tickValues([1.34, 12.966666666666665, 24.59333333333333, 36.22, 47.846666666666664, 59.47333333333333, 71.1]);\n\n    color_map_4d6b285711cead6f7417cbb64fa06bfd.svg = d3.select(&quot;.legend.leaflet-control&quot;).append(&quot;svg&quot;)\n        .attr(&quot;id&quot;, &#x27;legend&#x27;)\n        .attr(&quot;width&quot;, 450)\n        .attr(&quot;height&quot;, 40);\n\n    color_map_4d6b285711cead6f7417cbb64fa06bfd.g = color_map_4d6b285711cead6f7417cbb64fa06bfd.svg.append(&quot;g&quot;)\n        .attr(&quot;class&quot;, &quot;key&quot;)\n        .attr(&quot;transform&quot;, &quot;translate(25,16)&quot;);\n\n    color_map_4d6b285711cead6f7417cbb64fa06bfd.g.selectAll(&quot;rect&quot;)\n        .data(color_map_4d6b285711cead6f7417cbb64fa06bfd.color.range().map(function(d, i) {\n          return {\n            x0: i ? color_map_4d6b285711cead6f7417cbb64fa06bfd.x(color_map_4d6b285711cead6f7417cbb64fa06bfd.color.domain()[i - 1]) : color_map_4d6b285711cead6f7417cbb64fa06bfd.x.range()[0],\n            x1: i &lt; color_map_4d6b285711cead6f7417cbb64fa06bfd.color.domain().length ? color_map_4d6b285711cead6f7417cbb64fa06bfd.x(color_map_4d6b285711cead6f7417cbb64fa06bfd.color.domain()[i]) : color_map_4d6b285711cead6f7417cbb64fa06bfd.x.range()[1],\n            z: d\n          };\n        }))\n      .enter().append(&quot;rect&quot;)\n        .attr(&quot;height&quot;, 40 - 30)\n        .attr(&quot;x&quot;, function(d) { return d.x0; })\n        .attr(&quot;width&quot;, function(d) { return d.x1 - d.x0; })\n        .style(&quot;fill&quot;, function(d) { return d.z; });\n\n    color_map_4d6b285711cead6f7417cbb64fa06bfd.g.call(color_map_4d6b285711cead6f7417cbb64fa06bfd.xAxis).append(&quot;text&quot;)\n        .attr(&quot;class&quot;, &quot;caption&quot;)\n        .attr(&quot;y&quot;, 21)\n        .text(&quot;Recycling rate of municipal waste in % (2021)&quot;);\n&lt;/script&gt;\n&lt;/html&gt;\" style=\"position:absolute;width:100%;height:100%;left:0;top:0;border:none !important;\" allowfullscreen webkitallowfullscreen mozallowfullscreen></iframe></div></div>"
                },
                "metadata": {}
              }
            ]
          }
        },
        "0e3fc64b46034fc2971d7936db535dd2": {
          "model_module": "@jupyter-widgets/base",
          "model_name": "LayoutModel",
          "model_module_version": "1.2.0",
          "state": {
            "_model_module": "@jupyter-widgets/base",
            "_model_module_version": "1.2.0",
            "_model_name": "LayoutModel",
            "_view_count": null,
            "_view_module": "@jupyter-widgets/base",
            "_view_module_version": "1.2.0",
            "_view_name": "LayoutView",
            "align_content": null,
            "align_items": null,
            "align_self": null,
            "border": null,
            "bottom": null,
            "display": null,
            "flex": null,
            "flex_flow": null,
            "grid_area": null,
            "grid_auto_columns": null,
            "grid_auto_flow": null,
            "grid_auto_rows": null,
            "grid_column": null,
            "grid_gap": null,
            "grid_row": null,
            "grid_template_areas": null,
            "grid_template_columns": null,
            "grid_template_rows": null,
            "height": null,
            "justify_content": null,
            "justify_items": null,
            "left": null,
            "margin": null,
            "max_height": null,
            "max_width": null,
            "min_height": null,
            "min_width": null,
            "object_fit": null,
            "object_position": null,
            "order": null,
            "overflow": null,
            "overflow_x": null,
            "overflow_y": null,
            "padding": null,
            "right": null,
            "top": null,
            "visibility": null,
            "width": null
          }
        },
        "c58c300b26534060875e5e76349db606": {
          "model_module": "@jupyter-widgets/base",
          "model_name": "LayoutModel",
          "model_module_version": "1.2.0",
          "state": {
            "_model_module": "@jupyter-widgets/base",
            "_model_module_version": "1.2.0",
            "_model_name": "LayoutModel",
            "_view_count": null,
            "_view_module": "@jupyter-widgets/base",
            "_view_module_version": "1.2.0",
            "_view_name": "LayoutView",
            "align_content": null,
            "align_items": null,
            "align_self": null,
            "border": null,
            "bottom": null,
            "display": null,
            "flex": null,
            "flex_flow": null,
            "grid_area": null,
            "grid_auto_columns": null,
            "grid_auto_flow": null,
            "grid_auto_rows": null,
            "grid_column": null,
            "grid_gap": null,
            "grid_row": null,
            "grid_template_areas": null,
            "grid_template_columns": null,
            "grid_template_rows": null,
            "height": null,
            "justify_content": null,
            "justify_items": null,
            "left": null,
            "margin": null,
            "max_height": null,
            "max_width": null,
            "min_height": null,
            "min_width": null,
            "object_fit": null,
            "object_position": null,
            "order": null,
            "overflow": null,
            "overflow_x": null,
            "overflow_y": null,
            "padding": null,
            "right": null,
            "top": null,
            "visibility": null,
            "width": null
          }
        },
        "59ba48fc6c0a475ebd18a3005548af1f": {
          "model_module": "@jupyter-widgets/controls",
          "model_name": "DescriptionStyleModel",
          "model_module_version": "1.5.0",
          "state": {
            "_model_module": "@jupyter-widgets/controls",
            "_model_module_version": "1.5.0",
            "_model_name": "DescriptionStyleModel",
            "_view_count": null,
            "_view_module": "@jupyter-widgets/base",
            "_view_module_version": "1.2.0",
            "_view_name": "StyleView",
            "description_width": ""
          }
        },
        "5e9a0795143743ddb9d771613f4f6fd9": {
          "model_module": "@jupyter-widgets/base",
          "model_name": "LayoutModel",
          "model_module_version": "1.2.0",
          "state": {
            "_model_module": "@jupyter-widgets/base",
            "_model_module_version": "1.2.0",
            "_model_name": "LayoutModel",
            "_view_count": null,
            "_view_module": "@jupyter-widgets/base",
            "_view_module_version": "1.2.0",
            "_view_name": "LayoutView",
            "align_content": null,
            "align_items": null,
            "align_self": null,
            "border": null,
            "bottom": null,
            "display": null,
            "flex": null,
            "flex_flow": null,
            "grid_area": null,
            "grid_auto_columns": null,
            "grid_auto_flow": null,
            "grid_auto_rows": null,
            "grid_column": null,
            "grid_gap": null,
            "grid_row": null,
            "grid_template_areas": null,
            "grid_template_columns": null,
            "grid_template_rows": null,
            "height": null,
            "justify_content": null,
            "justify_items": null,
            "left": null,
            "margin": null,
            "max_height": null,
            "max_width": null,
            "min_height": null,
            "min_width": null,
            "object_fit": null,
            "object_position": null,
            "order": null,
            "overflow": null,
            "overflow_x": null,
            "overflow_y": null,
            "padding": null,
            "right": null,
            "top": null,
            "visibility": null,
            "width": null
          }
        }
      }
    }
  },
  "nbformat": 4,
  "nbformat_minor": 5
}