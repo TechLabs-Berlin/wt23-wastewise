{
  "cells": [
    {
      "cell_type": "markdown",
      "metadata": {
        "id": "i3MMbl8qC8w0"
      },
      "source": [
        "\n",
        "# Get Image Data for Training the Neural Network\n",
        "\n",
        "## Structure of this Notebook\n",
        "\n",
        "Part 1: See how it works for one class (banana peel).\n",
        "\n",
        "Part 2: Do it in a loop and get the remaining classes.\n",
        "\n",
        "Part 3: Finish preparation of folders to be used as training data.\n",
        "\n",
        "## Challenges and Remarks\n",
        "\n",
        "- Hard to find images containing a single object\n",
        "- Hard to find realistic images instead of stock photos\n",
        "- I used glass bottles for now, because they are easier to take care of than most plastic bottles\n",
        "\n",
        "## Other\n",
        "\n",
        "Code adapted from fastbook."
      ]
    },
    {
      "cell_type": "code",
      "execution_count": 3,
      "metadata": {
        "id": "NnvahhijxsGH",
        "colab": {
          "base_uri": "https://localhost:8080/"
        },
        "outputId": "17122acb-aa75-41c4-e12f-4fb32f8bfa3b"
      },
      "outputs": [
        {
          "output_type": "stream",
          "name": "stdout",
          "text": [
            "\u001b[2K     \u001b[90m━━━━━━━━━━━━━━━━━━━━━━━━━━━━━━━━━━━━━━\u001b[0m \u001b[32m719.8/719.8 KB\u001b[0m \u001b[31m12.2 MB/s\u001b[0m eta \u001b[36m0:00:00\u001b[0m\n",
            "\u001b[2K     \u001b[90m━━━━━━━━━━━━━━━━━━━━━━━━━━━━━━━━━━━━━━\u001b[0m \u001b[32m469.0/469.0 KB\u001b[0m \u001b[31m27.5 MB/s\u001b[0m eta \u001b[36m0:00:00\u001b[0m\n",
            "\u001b[2K     \u001b[90m━━━━━━━━━━━━━━━━━━━━━━━━━━━━━━━━━━━━━━━━\u001b[0m \u001b[32m6.3/6.3 MB\u001b[0m \u001b[31m59.8 MB/s\u001b[0m eta \u001b[36m0:00:00\u001b[0m\n",
            "\u001b[2K     \u001b[90m━━━━━━━━━━━━━━━━━━━━━━━━━━━━━━━━━━━━━━━━\u001b[0m \u001b[32m1.3/1.3 MB\u001b[0m \u001b[31m56.6 MB/s\u001b[0m eta \u001b[36m0:00:00\u001b[0m\n",
            "\u001b[2K     \u001b[90m━━━━━━━━━━━━━━━━━━━━━━━━━━━━━━━━━━━━━━\u001b[0m \u001b[32m213.0/213.0 KB\u001b[0m \u001b[31m21.8 MB/s\u001b[0m eta \u001b[36m0:00:00\u001b[0m\n",
            "\u001b[2K     \u001b[90m━━━━━━━━━━━━━━━━━━━━━━━━━━━━━━━━━━━━━━\u001b[0m \u001b[32m132.0/132.0 KB\u001b[0m \u001b[31m16.6 MB/s\u001b[0m eta \u001b[36m0:00:00\u001b[0m\n",
            "\u001b[2K     \u001b[90m━━━━━━━━━━━━━━━━━━━━━━━━━━━━━━━━━━━━━━━\u001b[0m \u001b[32m110.5/110.5 KB\u001b[0m \u001b[31m8.2 MB/s\u001b[0m eta \u001b[36m0:00:00\u001b[0m\n",
            "\u001b[2K     \u001b[90m━━━━━━━━━━━━━━━━━━━━━━━━━━━━━━━━━━━━━━\u001b[0m \u001b[32m190.3/190.3 KB\u001b[0m \u001b[31m21.3 MB/s\u001b[0m eta \u001b[36m0:00:00\u001b[0m\n",
            "\u001b[2K     \u001b[90m━━━━━━━━━━━━━━━━━━━━━━━━━━━━━━━━━━━━━━━━\u001b[0m \u001b[32m7.6/7.6 MB\u001b[0m \u001b[31m85.5 MB/s\u001b[0m eta \u001b[36m0:00:00\u001b[0m\n",
            "\u001b[2K     \u001b[90m━━━━━━━━━━━━━━━━━━━━━━━━━━━━━━━━━━━━━━━━\u001b[0m \u001b[32m1.6/1.6 MB\u001b[0m \u001b[31m61.3 MB/s\u001b[0m eta \u001b[36m0:00:00\u001b[0m\n",
            "\u001b[?25h"
          ]
        }
      ],
      "source": [
        "# imports\n",
        "# enable using google drive\n",
        "from google.colab import drive\n",
        "# enable using Bing image search API to download and save images as well as many other useful functions\n",
        "!pip install -Uqq fastbook\n",
        "from fastbook import *\n",
        "# enable operational system interface\n",
        "import os"
      ]
    },
    {
      "cell_type": "code",
      "execution_count": 5,
      "metadata": {
        "id": "CQ8ITvYYpZne",
        "colab": {
          "base_uri": "https://localhost:8080/"
        },
        "outputId": "b820e9bc-d30a-42d0-9ec2-200e5d226ce2"
      },
      "outputs": [
        {
          "output_type": "stream",
          "name": "stdout",
          "text": [
            "Mounted at /content/drive\n"
          ]
        }
      ],
      "source": [
        "# mount google drive\n",
        "drive.mount('/content/drive')"
      ]
    },
    {
      "cell_type": "markdown",
      "metadata": {
        "id": "hs40uGSnDIhJ"
      },
      "source": [
        "## Get it done for one class\n",
        "This section is supposed to provide understanding of how the code works using my favorite class: banana peel."
      ]
    },
    {
      "cell_type": "code",
      "execution_count": 4,
      "metadata": {
        "id": "ByYCOb-x4ePQ",
        "colab": {
          "base_uri": "https://localhost:8080/"
        },
        "outputId": "c8125bfd-48e4-47a4-bd19-f12c7bd97ec6"
      },
      "outputs": [
        {
          "output_type": "stream",
          "name": "stdout",
          "text": [
            "Help on function search_images_bing in module fastbook:\n",
            "\n",
            "search_images_bing(key, term, min_sz=128, max_images=150)\n",
            "\n"
          ]
        }
      ],
      "source": [
        "# see arguments of the function\n",
        "help(search_images_bing)"
      ]
    },
    {
      "cell_type": "code",
      "execution_count": null,
      "metadata": {
        "id": "V9L67oJt6aPx"
      },
      "outputs": [],
      "source": [
        "# set the Bing image search key\n",
        "# CAREFUL: Do not save when your key is visible here!\n",
        "# delete after running the cell!\n",
        "key = os.environ.get('AZURE_SEARCH_KEY', 'XXX')"
      ]
    },
    {
      "cell_type": "code",
      "execution_count": null,
      "metadata": {
        "id": "5sdFmdRj6tVT"
      },
      "outputs": [],
      "source": [
        "# get the results of the bing image search \n",
        "# variable results contains all info including website and date accessed\n",
        "# we agreed to use about 20 images. since many image files do not work (see first link),\n",
        "# I set the max images to 30 in order to reliably get a sufficient amount\n",
        "results = search_images_bing(key, term = \"banana peel\", max_images = 30)\n",
        "# variable ims contains the urls of the images\n",
        "ims = results.attrgot('contentUrl')\n",
        "# print all the urls, makes it possible to open them\n",
        "for url in ims:\n",
        "  print(url)\n",
        "# it really annoys me that the first one does not work^^ \n",
        "# ff any other did not work it would not matter, but this one will be clicked lol "
      ]
    },
    {
      "cell_type": "code",
      "execution_count": null,
      "metadata": {
        "id": "QXmKGt9q64dZ"
      },
      "outputs": [],
      "source": [
        "# set the directory where the images will be downloaded to\n",
        "# they are all in the directory \"images\"\n",
        "# first class that I will test the download with is banana peel\n",
        "# this command creates a new directory called \"banana_peel\" to contain only banana peel images\n",
        "dest = Path('drive/MyDrive/Training_WasteWise/images/banana_peel')\n",
        "dest.mkdir()"
      ]
    },
    {
      "cell_type": "code",
      "execution_count": null,
      "metadata": {
        "id": "kLokq-uP7Be1"
      },
      "outputs": [],
      "source": [
        "# download the images\n",
        "download_images(dest, urls=ims)"
      ]
    },
    {
      "cell_type": "code",
      "execution_count": null,
      "metadata": {
        "id": "6J_1Wzf0Bl-u"
      },
      "outputs": [],
      "source": [
        "# gets the path for each of the do\n",
        "fns = get_image_files(dest)\n",
        "print(len(fns), \"images were downloaded successfully:\")\n",
        "fns"
      ]
    },
    {
      "cell_type": "code",
      "execution_count": null,
      "metadata": {
        "id": "oTSZf1C7CKzI"
      },
      "outputs": [],
      "source": [
        "# just to make sure, verify that the files are actually images\n",
        "# verify_images() returns files that are NOT images (failed)\n",
        "# map/unlink deletes failed files\n",
        "failed = verify_images(fns)\n",
        "failed.map(Path.unlink)"
      ]
    },
    {
      "cell_type": "markdown",
      "metadata": {
        "id": "wgjRZSa0D1qZ"
      },
      "source": [
        "## Make a loop for the remaining classes\n",
        "For now just include the classes included in the first prototype."
      ]
    },
    {
      "cell_type": "code",
      "execution_count": null,
      "metadata": {
        "id": "a-g_i1VFC4FK"
      },
      "outputs": [],
      "source": [
        "# set classes \n",
        "# in this step, they will be used as search terms\n",
        "# we can rename them later on, but for now, the search has to be precise\n",
        "# because of that, use search prompts instead of class names\n",
        "classes = 'orange fruit','paper','cardboard','glass bottle','plastic packaging waste','smartphone'\n",
        "# set the path, where the images will be saved\n",
        "path = Path('drive/MyDrive/Training_WasteWise/images')"
      ]
    },
    {
      "cell_type": "code",
      "execution_count": null,
      "metadata": {
        "id": "sZu3tx8_EG5b"
      },
      "outputs": [],
      "source": [
        "# download the images for each class\n",
        "for trash_type in classes:\n",
        "    dest = (path/trash_type)\n",
        "    dest.mkdir(exist_ok=True)\n",
        "    results = search_images_bing(key, trash_type)\n",
        "    download_images(dest, urls=results.attrgot('contentUrl'))"
      ]
    },
    {
      "cell_type": "code",
      "execution_count": null,
      "metadata": {
        "id": "dzFeIj__ENhx"
      },
      "outputs": [],
      "source": [
        "# get rid of failed images\n",
        "fns = get_image_files(dest)\n",
        "failed = verify_images(fns)\n",
        "failed.map(Path.unlink)"
      ]
    },
    {
      "cell_type": "markdown",
      "metadata": {
        "id": "sCGDaIi6Tued"
      },
      "source": [
        "## Rename the Folders\n",
        "\n",
        "You can now find the images in Google Drive :)\n",
        "\n",
        "However, the folder names are kind of bad, since they contain spaces (which are annoying to handle in a lot of pipelines) and are not how we want our classes to be called. An example is \"orange fruit\". We want the class to be called \"orange\" instead."
      ]
    },
    {
      "cell_type": "code",
      "source": [
        "# go to directory which images are save at\n",
        "os.chdir(\"drive/MyDrive/Training_WasteWise/images\")"
      ],
      "metadata": {
        "id": "I7dtaK4voJ7O"
      },
      "execution_count": 11,
      "outputs": []
    },
    {
      "cell_type": "code",
      "source": [
        "# check if in correct directory\n",
        "os.getcwd()"
      ],
      "metadata": {
        "colab": {
          "base_uri": "https://localhost:8080/",
          "height": 36
        },
        "id": "M4bh8jx5oqUZ",
        "outputId": "f23487be-c608-4d04-ae72-cf10661f3e54"
      },
      "execution_count": 12,
      "outputs": [
        {
          "output_type": "execute_result",
          "data": {
            "text/plain": [
              "'/content/drive/MyDrive/Training_WasteWise/images'"
            ],
            "application/vnd.google.colaboratory.intrinsic+json": {
              "type": "string"
            }
          },
          "metadata": {},
          "execution_count": 12
        }
      ]
    },
    {
      "cell_type": "code",
      "source": [
        "# list files in directory\n",
        "os.listdir()"
      ],
      "metadata": {
        "colab": {
          "base_uri": "https://localhost:8080/"
        },
        "id": "N1eguzbppBAh",
        "outputId": "5c10d85b-a750-492c-a202-1fecf2224a93"
      },
      "execution_count": 13,
      "outputs": [
        {
          "output_type": "execute_result",
          "data": {
            "text/plain": [
              "['banana_peel',\n",
              " 'glass bottle',\n",
              " 'orange fruit',\n",
              " 'paper',\n",
              " 'cardboard',\n",
              " 'plastic packaging waste',\n",
              " 'smartphone']"
            ]
          },
          "metadata": {},
          "execution_count": 13
        }
      ]
    },
    {
      "cell_type": "code",
      "source": [
        "# rename the folders that need it\n",
        "os.rename(\"glass bottle\", \"glass_bottle\")\n",
        "os.rename(\"orange fruit\", \"orange\")\n",
        "os.rename(\"plastic packaging waste\", \"plastic_packaging\")"
      ],
      "metadata": {
        "id": "7aD-k8JKnFUw"
      },
      "execution_count": 18,
      "outputs": []
    },
    {
      "cell_type": "code",
      "source": [
        "# list files in directory\n",
        "os.listdir()"
      ],
      "metadata": {
        "colab": {
          "base_uri": "https://localhost:8080/"
        },
        "id": "I4cy9YljpY5g",
        "outputId": "0de57f95-bb50-488e-97cd-b79ac92280a7"
      },
      "execution_count": 19,
      "outputs": [
        {
          "output_type": "execute_result",
          "data": {
            "text/plain": [
              "['banana_peel',\n",
              " 'glass_bottle',\n",
              " 'orange',\n",
              " 'paper',\n",
              " 'cardboard',\n",
              " 'plastic_packaging',\n",
              " 'smartphone']"
            ]
          },
          "metadata": {},
          "execution_count": 19
        }
      ]
    },
    {
      "cell_type": "markdown",
      "source": [
        "Perfect! Now the folders have the required structure and name to be used for training a model (using the fastai library)."
      ],
      "metadata": {
        "id": "ga0iZ6nnpvwF"
      }
    }
  ],
  "metadata": {
    "colab": {
      "provenance": []
    },
    "kernelspec": {
      "display_name": "Python 3",
      "name": "python3"
    },
    "language_info": {
      "name": "python"
    }
  },
  "nbformat": 4,
  "nbformat_minor": 0
}