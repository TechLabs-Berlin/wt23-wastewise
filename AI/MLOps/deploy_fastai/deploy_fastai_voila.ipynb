{
 "cells": [
  {
   "cell_type": "markdown",
   "metadata": {
    "id": "enWonsUOOxPc"
   },
   "source": [
    "# __WasteWise__\n",
    "\n",
    "__Don't know how to get rid of your waste?__\n",
    "\n",
    "__Worry no more, because we're here to help out!__"
   ]
  },
  {
   "cell_type": "code",
   "execution_count": 1,
   "metadata": {
    "colab": {
     "base_uri": "https://localhost:8080/"
    },
    "id": "al7SccCO4g1O",
    "outputId": "edcc4415-817c-44e8-804c-b1a4839d6e88"
   },
   "outputs": [],
   "source": [
    "# install the fastbook library\n",
    "#!pip install -Uqq fastbook"
   ]
  },
  {
   "cell_type": "code",
   "execution_count": 2,
   "metadata": {
    "id": "Cv-hq5EB4iMx"
   },
   "outputs": [],
   "source": [
    "# import libraries\n",
    "from fastbook import *\n",
    "from fastai.vision.all import *\n",
    "from fastai.vision.widgets import *"
   ]
  },
  {
   "cell_type": "code",
   "execution_count": 3,
   "metadata": {
    "id": "V1puYzwo3c4t"
   },
   "outputs": [],
   "source": [
    "# load the model\n",
    "learn_inf = load_learner('../../classifier_fastai/prototype_waste_recogniser_fastai_v1.pkl', cpu=True)"
   ]
  },
  {
   "cell_type": "code",
   "execution_count": 4,
   "metadata": {
    "id": "eoVUJRu4PZnp"
   },
   "outputs": [],
   "source": [
    "# initialize widgets\n",
    "btn_upload = widgets.FileUpload()\n",
    "out_pl = widgets.Output()\n",
    "lbl_prediction = widgets.Label()\n",
    "lbl_recommendation = widgets.Label()"
   ]
  },
  {
   "cell_type": "code",
   "execution_count": 5,
   "metadata": {
    "id": "j1-Z1MxePbj4"
   },
   "outputs": [],
   "source": [
    "def on_data_change(change):\n",
    "    lbl_prediction.value = ''\n",
    "    lbl_recommendation.value = ''\n",
    "    img = PILImage.create(btn_upload.data[-1])\n",
    "    out_pl.clear_output()\n",
    "    with out_pl: display(img.to_thumb(299,299))\n",
    "    pred,pred_idx,probs = learn_inf.predict(img)\n",
    "\n",
    "    # adapt class spelling for output\n",
    "    spelling_dict = {\n",
    "      \"banana_peel\": \"a banana peel\",\n",
    "      \"orange\": \"an orange\"\n",
    "    }\n",
    "\n",
    "    # recommend waste bin for each class\n",
    "    bin_dict = {\n",
    "      \"banana_peel\": \"the bio waste\",\n",
    "      \"orange\": \"the bio waste\"\n",
    "    }\n",
    "\n",
    "    lbl_prediction.value = (f'I think this is {spelling_dict[pred]}. ' \n",
    "                      f'I am {probs[pred_idx]*100:.02f}% sure about that.')\n",
    "    lbl_recommendation.value = f'It belongs into {bin_dict[pred]}.'"
   ]
  },
  {
   "cell_type": "code",
   "execution_count": 6,
   "metadata": {
    "id": "9R-jFYkGPbwF"
   },
   "outputs": [],
   "source": [
    "btn_upload.observe(on_data_change, names=['data'])"
   ]
  },
  {
   "cell_type": "code",
   "execution_count": null,
   "metadata": {
    "colab": {
     "base_uri": "https://localhost:8080/",
     "height": 344,
     "referenced_widgets": [
      "70278dca57564cfd96a1e456ddad2929",
      "43dae264a22544c0890fca763e3dc08a",
      "5ccc8414043c456caf529224d749453c",
      "b66e785dc10148249960eebdb776506d",
      "4f25396705ec4d7d9907f4b953538c70",
      "66890327f0684341a5391df6434f88ae",
      "6f86737b513b4900930e7e5a796865b2",
      "b734ac18883f4546aea844f64681a472",
      "2cb7f0884cca436fa0e9ccceb08a1a93",
      "daa8bd73ff094642b3f2d069db58abfe",
      "4c8c97c1a7d841a0965e6ca2a7dd8223",
      "cdcd3694bee340ea82a96881c234e567",
      "844d58521e604f8694f7eef70320380f",
      "72f09c0c07054931a751b924f054fe2d",
      "8147cda4a05444ccb40fefaf96e4f5fb",
      "d78f8893d82b438fa545fbe3acc3d4a0"
     ]
    },
    "id": "wsUm9ZJQPb31",
    "outputId": "14082d7a-7460-4a13-c3b8-4856864f5bcb"
   },
   "outputs": [],
   "source": [
    "display(VBox([widgets.Label('Hi! What do you want to throw away?'), btn_upload, out_pl, lbl_prediction, lbl_recommendation]))"
   ]
  }
 ],
 "metadata": {
  "colab": {
   "provenance": []
  },
  "kernelspec": {
   "display_name": "Python 3 (ipykernel)",
   "language": "python",
   "name": "python3"
  },
  "language_info": {
   "codemirror_mode": {
    "name": "ipython",
    "version": 3
   },
   "file_extension": ".py",
   "mimetype": "text/x-python",
   "name": "python",
   "nbconvert_exporter": "python",
   "pygments_lexer": "ipython3",
   "version": "3.9.13"
  },
  "vscode": {
   "interpreter": {
    "hash": "31f2aee4e71d21fbe5cf8b01ff0e069b9275f58929596ceb00d14d90e3e16cd6"
   }
  },
  "widgets": {
   "application/vnd.jupyter.widget-state+json": {
    "2cb7f0884cca436fa0e9ccceb08a1a93": {
     "model_module": "@jupyter-widgets/controls",
     "model_module_version": "1.5.0",
     "model_name": "DescriptionStyleModel",
     "state": {
      "_model_module": "@jupyter-widgets/controls",
      "_model_module_version": "1.5.0",
      "_model_name": "DescriptionStyleModel",
      "_view_count": null,
      "_view_module": "@jupyter-widgets/base",
      "_view_module_version": "1.2.0",
      "_view_name": "StyleView",
      "description_width": ""
     }
    },
    "43dae264a22544c0890fca763e3dc08a": {
     "model_module": "@jupyter-widgets/controls",
     "model_module_version": "1.5.0",
     "model_name": "LabelModel",
     "state": {
      "_dom_classes": [],
      "_model_module": "@jupyter-widgets/controls",
      "_model_module_version": "1.5.0",
      "_model_name": "LabelModel",
      "_view_count": null,
      "_view_module": "@jupyter-widgets/controls",
      "_view_module_version": "1.5.0",
      "_view_name": "LabelView",
      "description": "",
      "description_tooltip": null,
      "layout": "IPY_MODEL_b734ac18883f4546aea844f64681a472",
      "placeholder": "​",
      "style": "IPY_MODEL_2cb7f0884cca436fa0e9ccceb08a1a93",
      "value": "Hi! What do you want to throw away?"
     }
    },
    "4c8c97c1a7d841a0965e6ca2a7dd8223": {
     "model_module": "@jupyter-widgets/controls",
     "model_module_version": "1.5.0",
     "model_name": "ButtonStyleModel",
     "state": {
      "_model_module": "@jupyter-widgets/controls",
      "_model_module_version": "1.5.0",
      "_model_name": "ButtonStyleModel",
      "_view_count": null,
      "_view_module": "@jupyter-widgets/base",
      "_view_module_version": "1.2.0",
      "_view_name": "StyleView",
      "button_color": null,
      "font_weight": ""
     }
    },
    "4f25396705ec4d7d9907f4b953538c70": {
     "model_module": "@jupyter-widgets/controls",
     "model_module_version": "1.5.0",
     "model_name": "LabelModel",
     "state": {
      "_dom_classes": [],
      "_model_module": "@jupyter-widgets/controls",
      "_model_module_version": "1.5.0",
      "_model_name": "LabelModel",
      "_view_count": null,
      "_view_module": "@jupyter-widgets/controls",
      "_view_module_version": "1.5.0",
      "_view_name": "LabelView",
      "description": "",
      "description_tooltip": null,
      "layout": "IPY_MODEL_cdcd3694bee340ea82a96881c234e567",
      "placeholder": "​",
      "style": "IPY_MODEL_844d58521e604f8694f7eef70320380f",
      "value": "I think this is an orange. I am 97.52% sure about that."
     }
    },
    "5ccc8414043c456caf529224d749453c": {
     "model_module": "@jupyter-widgets/controls",
     "model_module_version": "1.5.0",
     "model_name": "FileUploadModel",
     "state": {
      "_counter": 3,
      "_dom_classes": [],
      "_model_module": "@jupyter-widgets/controls",
      "_model_module_version": "1.5.0",
      "_model_name": "FileUploadModel",
      "_view_count": null,
      "_view_module": "@jupyter-widgets/controls",
      "_view_module_version": "1.5.0",
      "_view_name": "FileUploadView",
      "accept": "",
      "button_style": "",
      "data": [
       null
      ],
      "description": "Upload",
      "description_tooltip": null,
      "disabled": false,
      "error": "",
      "icon": "upload",
      "layout": "IPY_MODEL_daa8bd73ff094642b3f2d069db58abfe",
      "metadata": [
       {
        "lastModified": 1680388146766,
        "name": "orange-peel.jpg",
        "size": 192537,
        "type": "image/jpeg"
       }
      ],
      "multiple": false,
      "style": "IPY_MODEL_4c8c97c1a7d841a0965e6ca2a7dd8223"
     }
    },
    "66890327f0684341a5391df6434f88ae": {
     "model_module": "@jupyter-widgets/controls",
     "model_module_version": "1.5.0",
     "model_name": "LabelModel",
     "state": {
      "_dom_classes": [],
      "_model_module": "@jupyter-widgets/controls",
      "_model_module_version": "1.5.0",
      "_model_name": "LabelModel",
      "_view_count": null,
      "_view_module": "@jupyter-widgets/controls",
      "_view_module_version": "1.5.0",
      "_view_name": "LabelView",
      "description": "",
      "description_tooltip": null,
      "layout": "IPY_MODEL_72f09c0c07054931a751b924f054fe2d",
      "placeholder": "​",
      "style": "IPY_MODEL_8147cda4a05444ccb40fefaf96e4f5fb",
      "value": "It belongs into the bio waste."
     }
    },
    "6f86737b513b4900930e7e5a796865b2": {
     "model_module": "@jupyter-widgets/base",
     "model_module_version": "1.2.0",
     "model_name": "LayoutModel",
     "state": {
      "_model_module": "@jupyter-widgets/base",
      "_model_module_version": "1.2.0",
      "_model_name": "LayoutModel",
      "_view_count": null,
      "_view_module": "@jupyter-widgets/base",
      "_view_module_version": "1.2.0",
      "_view_name": "LayoutView",
      "align_content": null,
      "align_items": null,
      "align_self": null,
      "border": null,
      "bottom": null,
      "display": null,
      "flex": null,
      "flex_flow": null,
      "grid_area": null,
      "grid_auto_columns": null,
      "grid_auto_flow": null,
      "grid_auto_rows": null,
      "grid_column": null,
      "grid_gap": null,
      "grid_row": null,
      "grid_template_areas": null,
      "grid_template_columns": null,
      "grid_template_rows": null,
      "height": null,
      "justify_content": null,
      "justify_items": null,
      "left": null,
      "margin": null,
      "max_height": null,
      "max_width": null,
      "min_height": null,
      "min_width": null,
      "object_fit": null,
      "object_position": null,
      "order": null,
      "overflow": null,
      "overflow_x": null,
      "overflow_y": null,
      "padding": null,
      "right": null,
      "top": null,
      "visibility": null,
      "width": null
     }
    },
    "70278dca57564cfd96a1e456ddad2929": {
     "model_module": "@jupyter-widgets/controls",
     "model_module_version": "1.5.0",
     "model_name": "VBoxModel",
     "state": {
      "_dom_classes": [],
      "_model_module": "@jupyter-widgets/controls",
      "_model_module_version": "1.5.0",
      "_model_name": "VBoxModel",
      "_view_count": null,
      "_view_module": "@jupyter-widgets/controls",
      "_view_module_version": "1.5.0",
      "_view_name": "VBoxView",
      "box_style": "",
      "children": [
       "IPY_MODEL_43dae264a22544c0890fca763e3dc08a",
       "IPY_MODEL_5ccc8414043c456caf529224d749453c",
       "IPY_MODEL_b66e785dc10148249960eebdb776506d",
       "IPY_MODEL_4f25396705ec4d7d9907f4b953538c70",
       "IPY_MODEL_66890327f0684341a5391df6434f88ae"
      ],
      "layout": "IPY_MODEL_6f86737b513b4900930e7e5a796865b2"
     }
    },
    "72f09c0c07054931a751b924f054fe2d": {
     "model_module": "@jupyter-widgets/base",
     "model_module_version": "1.2.0",
     "model_name": "LayoutModel",
     "state": {
      "_model_module": "@jupyter-widgets/base",
      "_model_module_version": "1.2.0",
      "_model_name": "LayoutModel",
      "_view_count": null,
      "_view_module": "@jupyter-widgets/base",
      "_view_module_version": "1.2.0",
      "_view_name": "LayoutView",
      "align_content": null,
      "align_items": null,
      "align_self": null,
      "border": null,
      "bottom": null,
      "display": null,
      "flex": null,
      "flex_flow": null,
      "grid_area": null,
      "grid_auto_columns": null,
      "grid_auto_flow": null,
      "grid_auto_rows": null,
      "grid_column": null,
      "grid_gap": null,
      "grid_row": null,
      "grid_template_areas": null,
      "grid_template_columns": null,
      "grid_template_rows": null,
      "height": null,
      "justify_content": null,
      "justify_items": null,
      "left": null,
      "margin": null,
      "max_height": null,
      "max_width": null,
      "min_height": null,
      "min_width": null,
      "object_fit": null,
      "object_position": null,
      "order": null,
      "overflow": null,
      "overflow_x": null,
      "overflow_y": null,
      "padding": null,
      "right": null,
      "top": null,
      "visibility": null,
      "width": null
     }
    },
    "8147cda4a05444ccb40fefaf96e4f5fb": {
     "model_module": "@jupyter-widgets/controls",
     "model_module_version": "1.5.0",
     "model_name": "DescriptionStyleModel",
     "state": {
      "_model_module": "@jupyter-widgets/controls",
      "_model_module_version": "1.5.0",
      "_model_name": "DescriptionStyleModel",
      "_view_count": null,
      "_view_module": "@jupyter-widgets/base",
      "_view_module_version": "1.2.0",
      "_view_name": "StyleView",
      "description_width": ""
     }
    },
    "844d58521e604f8694f7eef70320380f": {
     "model_module": "@jupyter-widgets/controls",
     "model_module_version": "1.5.0",
     "model_name": "DescriptionStyleModel",
     "state": {
      "_model_module": "@jupyter-widgets/controls",
      "_model_module_version": "1.5.0",
      "_model_name": "DescriptionStyleModel",
      "_view_count": null,
      "_view_module": "@jupyter-widgets/base",
      "_view_module_version": "1.2.0",
      "_view_name": "StyleView",
      "description_width": ""
     }
    },
    "b66e785dc10148249960eebdb776506d": {
     "model_module": "@jupyter-widgets/output",
     "model_module_version": "1.0.0",
     "model_name": "OutputModel",
     "state": {
      "_dom_classes": [],
      "_model_module": "@jupyter-widgets/output",
      "_model_module_version": "1.0.0",
      "_model_name": "OutputModel",
      "_view_count": null,
      "_view_module": "@jupyter-widgets/output",
      "_view_module_version": "1.0.0",
      "_view_name": "OutputView",
      "layout": "IPY_MODEL_d78f8893d82b438fa545fbe3acc3d4a0",
      "msg_id": "",
      "outputs": [
       {
        "data": {
         "image/png": "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\n",
         "text/plain": "<PIL.Image.Image image mode=RGB size=299x199>"
        },
        "metadata": {},
        "output_type": "display_data"
       }
      ]
     }
    },
    "b734ac18883f4546aea844f64681a472": {
     "model_module": "@jupyter-widgets/base",
     "model_module_version": "1.2.0",
     "model_name": "LayoutModel",
     "state": {
      "_model_module": "@jupyter-widgets/base",
      "_model_module_version": "1.2.0",
      "_model_name": "LayoutModel",
      "_view_count": null,
      "_view_module": "@jupyter-widgets/base",
      "_view_module_version": "1.2.0",
      "_view_name": "LayoutView",
      "align_content": null,
      "align_items": null,
      "align_self": null,
      "border": null,
      "bottom": null,
      "display": null,
      "flex": null,
      "flex_flow": null,
      "grid_area": null,
      "grid_auto_columns": null,
      "grid_auto_flow": null,
      "grid_auto_rows": null,
      "grid_column": null,
      "grid_gap": null,
      "grid_row": null,
      "grid_template_areas": null,
      "grid_template_columns": null,
      "grid_template_rows": null,
      "height": null,
      "justify_content": null,
      "justify_items": null,
      "left": null,
      "margin": null,
      "max_height": null,
      "max_width": null,
      "min_height": null,
      "min_width": null,
      "object_fit": null,
      "object_position": null,
      "order": null,
      "overflow": null,
      "overflow_x": null,
      "overflow_y": null,
      "padding": null,
      "right": null,
      "top": null,
      "visibility": null,
      "width": null
     }
    },
    "cdcd3694bee340ea82a96881c234e567": {
     "model_module": "@jupyter-widgets/base",
     "model_module_version": "1.2.0",
     "model_name": "LayoutModel",
     "state": {
      "_model_module": "@jupyter-widgets/base",
      "_model_module_version": "1.2.0",
      "_model_name": "LayoutModel",
      "_view_count": null,
      "_view_module": "@jupyter-widgets/base",
      "_view_module_version": "1.2.0",
      "_view_name": "LayoutView",
      "align_content": null,
      "align_items": null,
      "align_self": null,
      "border": null,
      "bottom": null,
      "display": null,
      "flex": null,
      "flex_flow": null,
      "grid_area": null,
      "grid_auto_columns": null,
      "grid_auto_flow": null,
      "grid_auto_rows": null,
      "grid_column": null,
      "grid_gap": null,
      "grid_row": null,
      "grid_template_areas": null,
      "grid_template_columns": null,
      "grid_template_rows": null,
      "height": null,
      "justify_content": null,
      "justify_items": null,
      "left": null,
      "margin": null,
      "max_height": null,
      "max_width": null,
      "min_height": null,
      "min_width": null,
      "object_fit": null,
      "object_position": null,
      "order": null,
      "overflow": null,
      "overflow_x": null,
      "overflow_y": null,
      "padding": null,
      "right": null,
      "top": null,
      "visibility": null,
      "width": null
     }
    },
    "d78f8893d82b438fa545fbe3acc3d4a0": {
     "model_module": "@jupyter-widgets/base",
     "model_module_version": "1.2.0",
     "model_name": "LayoutModel",
     "state": {
      "_model_module": "@jupyter-widgets/base",
      "_model_module_version": "1.2.0",
      "_model_name": "LayoutModel",
      "_view_count": null,
      "_view_module": "@jupyter-widgets/base",
      "_view_module_version": "1.2.0",
      "_view_name": "LayoutView",
      "align_content": null,
      "align_items": null,
      "align_self": null,
      "border": null,
      "bottom": null,
      "display": null,
      "flex": null,
      "flex_flow": null,
      "grid_area": null,
      "grid_auto_columns": null,
      "grid_auto_flow": null,
      "grid_auto_rows": null,
      "grid_column": null,
      "grid_gap": null,
      "grid_row": null,
      "grid_template_areas": null,
      "grid_template_columns": null,
      "grid_template_rows": null,
      "height": null,
      "justify_content": null,
      "justify_items": null,
      "left": null,
      "margin": null,
      "max_height": null,
      "max_width": null,
      "min_height": null,
      "min_width": null,
      "object_fit": null,
      "object_position": null,
      "order": null,
      "overflow": null,
      "overflow_x": null,
      "overflow_y": null,
      "padding": null,
      "right": null,
      "top": null,
      "visibility": null,
      "width": null
     }
    },
    "daa8bd73ff094642b3f2d069db58abfe": {
     "model_module": "@jupyter-widgets/base",
     "model_module_version": "1.2.0",
     "model_name": "LayoutModel",
     "state": {
      "_model_module": "@jupyter-widgets/base",
      "_model_module_version": "1.2.0",
      "_model_name": "LayoutModel",
      "_view_count": null,
      "_view_module": "@jupyter-widgets/base",
      "_view_module_version": "1.2.0",
      "_view_name": "LayoutView",
      "align_content": null,
      "align_items": null,
      "align_self": null,
      "border": null,
      "bottom": null,
      "display": null,
      "flex": null,
      "flex_flow": null,
      "grid_area": null,
      "grid_auto_columns": null,
      "grid_auto_flow": null,
      "grid_auto_rows": null,
      "grid_column": null,
      "grid_gap": null,
      "grid_row": null,
      "grid_template_areas": null,
      "grid_template_columns": null,
      "grid_template_rows": null,
      "height": null,
      "justify_content": null,
      "justify_items": null,
      "left": null,
      "margin": null,
      "max_height": null,
      "max_width": null,
      "min_height": null,
      "min_width": null,
      "object_fit": null,
      "object_position": null,
      "order": null,
      "overflow": null,
      "overflow_x": null,
      "overflow_y": null,
      "padding": null,
      "right": null,
      "top": null,
      "visibility": null,
      "width": null
     }
    }
   }
  }
 },
 "nbformat": 4,
 "nbformat_minor": 4
}
