{
  "nbformat": 4,
  "nbformat_minor": 0,
  "metadata": {
    "colab": {
      "provenance": []
    },
    "kernelspec": {
      "name": "python3",
      "display_name": "Python 3"
    },
    "language_info": {
      "name": "python"
    }
  },
  "cells": [
    {
      "cell_type": "markdown",
      "source": [
        "# Deploy Fastai Classifier \n",
        "\n",
        "Using Jupyter, Voila and Binder"
      ],
      "metadata": {
        "id": "enWonsUOOxPc"
      }
    },
    {
      "cell_type": "markdown",
      "source": [
        "## Preparations"
      ],
      "metadata": {
        "id": "jC_GSmA68_35"
      }
    },
    {
      "cell_type": "code",
      "source": [
        "# connect colab to google drive by mounting\n",
        "from google.colab import drive\n",
        "drive.mount('/content/drive')"
      ],
      "metadata": {
        "id": "VGa9Mfdz2A84",
        "colab": {
          "base_uri": "https://localhost:8080/"
        },
        "outputId": "832182a4-7818-47f4-b2a3-f8cb4cc92b6f"
      },
      "execution_count": 1,
      "outputs": [
        {
          "output_type": "stream",
          "name": "stdout",
          "text": [
            "Mounted at /content/drive\n"
          ]
        }
      ]
    },
    {
      "cell_type": "code",
      "source": [
        "# navigate to WasteWise directory\n",
        "%cd drive/MyDrive/wt23-wastewise/"
      ],
      "metadata": {
        "colab": {
          "base_uri": "https://localhost:8080/"
        },
        "id": "YMAkq_eq6h_7",
        "outputId": "678cf8ac-ecec-406c-e89d-5d7f55b09490"
      },
      "execution_count": 2,
      "outputs": [
        {
          "output_type": "stream",
          "name": "stdout",
          "text": [
            "/content/drive/MyDrive/wt23-wastewise\n"
          ]
        }
      ]
    },
    {
      "cell_type": "code",
      "source": [
        "# see all current branch names including remote\n",
        "! git branch -a"
      ],
      "metadata": {
        "colab": {
          "base_uri": "https://localhost:8080/"
        },
        "id": "ETWPcyQW9dGZ",
        "outputId": "5b00e39c-5efe-4a24-b651-d1e857b9735a"
      },
      "execution_count": 3,
      "outputs": [
        {
          "output_type": "stream",
          "name": "stdout",
          "text": [
            "  MLOps\u001b[m\n",
            "* \u001b[32mclassifier_fastai\u001b[m\n",
            "  data_preparation_DL\u001b[m\n",
            "  main\u001b[m\n",
            "  \u001b[31mremotes/origin/HEAD\u001b[m -> origin/main\n",
            "  \u001b[31mremotes/origin/MLOps\u001b[m\n",
            "  \u001b[31mremotes/origin/OluwadamilareAkin-UX-Hi-Fi\u001b[m\n",
            "  \u001b[31mremotes/origin/andrea_T\u001b[m\n",
            "  \u001b[31mremotes/origin/andrea_T_2\u001b[m\n",
            "  \u001b[31mremotes/origin/classifier_fastai\u001b[m\n",
            "  \u001b[31mremotes/origin/cleaning-data-Marina\u001b[m\n",
            "  \u001b[31mremotes/origin/data_1\u001b[m\n",
            "  \u001b[31mremotes/origin/data_cleaning_juliana\u001b[m\n",
            "  \u001b[31mremotes/origin/data_preparation_DL\u001b[m\n",
            "  \u001b[31mremotes/origin/documentation_AI\u001b[m\n",
            "  \u001b[31mremotes/origin/machine-learning-Marina\u001b[m\n",
            "  \u001b[31mremotes/origin/machine-learning-juliana\u001b[m\n",
            "  \u001b[31mremotes/origin/main\u001b[m\n",
            "  \u001b[31mremotes/origin/philippa\u001b[m\n",
            "  \u001b[31mremotes/origin/test_philippa\u001b[m\n",
            "  \u001b[31mremotes/origin/trc729-patch-1\u001b[m\n",
            "  \u001b[31mremotes/origin/trc729-patch-1-1\u001b[m\n",
            "  \u001b[31mremotes/origin/trc729-patch-2\u001b[m\n",
            "  \u001b[31mremotes/origin/trc729-patch-3\u001b[m\n",
            "  \u001b[31mremotes/origin/wd-frontend-crftwrks\u001b[m\n",
            "  \u001b[31mremotes/origin/wd-tensorflow-test\u001b[m\n",
            "  \u001b[31mremotes/origin/wireframes_UX\u001b[m\n",
            "  \u001b[31mremotes/origin/zaitsevam-patch-1\u001b[m\n"
          ]
        }
      ]
    },
    {
      "cell_type": "code",
      "source": [
        "# switch to feature branch\n",
        "!git switch MLOps"
      ],
      "metadata": {
        "id": "AzLV4nSk9iG9"
      },
      "execution_count": null,
      "outputs": []
    },
    {
      "cell_type": "code",
      "source": [
        "# get latest version of all branches\n",
        "!git pull --all"
      ],
      "metadata": {
        "id": "znQpIppX84-s"
      },
      "execution_count": null,
      "outputs": []
    },
    {
      "cell_type": "code",
      "source": [
        "# see version status of repository and branch\n",
        "!git status"
      ],
      "metadata": {
        "id": "X_SMT4me9Svw"
      },
      "execution_count": null,
      "outputs": []
    },
    {
      "cell_type": "code",
      "source": [
        "# install the fastbook library\n",
        "!pip install -Uqq fastbook"
      ],
      "metadata": {
        "id": "al7SccCO4g1O"
      },
      "execution_count": null,
      "outputs": []
    },
    {
      "cell_type": "code",
      "source": [
        "# import libraries\n",
        "from fastbook import *\n",
        "from fastai.vision.widgets import *\n",
        "# enable operational system interface\n",
        "import os"
      ],
      "metadata": {
        "id": "Cv-hq5EB4iMx"
      },
      "execution_count": null,
      "outputs": []
    },
    {
      "cell_type": "markdown",
      "source": [
        "# Prepare Widgets"
      ],
      "metadata": {
        "id": "dXWF0U1fQEHY"
      }
    },
    {
      "cell_type": "code",
      "source": [
        "path = Path()\n",
        "learn_inf = load_learner(path/'export.pkl', cpu=True)\n",
        "btn_upload = widgets.FileUpload()\n",
        "out_pl = widgets.Output()\n",
        "lbl_pred = widgets.Label()"
      ],
      "metadata": {
        "id": "eoVUJRu4PZnp"
      },
      "execution_count": null,
      "outputs": []
    },
    {
      "cell_type": "code",
      "source": [
        "def on_data_change(change):\n",
        "    lbl_pred.value = ''\n",
        "    img = PILImage.create(btn_upload.data[-1])\n",
        "    out_pl.clear_output()\n",
        "    with out_pl: display(img.to_thumb(128,128))\n",
        "    pred,pred_idx,probs = learn_inf.predict(img)\n",
        "    lbl_pred.value = f'Prediction: {pred}; Probability: {probs[pred_idx]:.04f}'"
      ],
      "metadata": {
        "id": "j1-Z1MxePbj4"
      },
      "execution_count": null,
      "outputs": []
    },
    {
      "cell_type": "code",
      "source": [
        "btn_upload.observe(on_data_change, names=['data'])"
      ],
      "metadata": {
        "id": "9R-jFYkGPbwF"
      },
      "execution_count": null,
      "outputs": []
    },
    {
      "cell_type": "code",
      "source": [
        "display(VBox([widgets.Label('What do you want to throw away?'), btn_upload, out_pl, lbl_pred]))"
      ],
      "metadata": {
        "id": "wsUm9ZJQPb31"
      },
      "execution_count": null,
      "outputs": []
    },
    {
      "cell_type": "code",
      "source": [],
      "metadata": {
        "id": "8uv1qBgVPb-C"
      },
      "execution_count": null,
      "outputs": []
    }
  ]
}